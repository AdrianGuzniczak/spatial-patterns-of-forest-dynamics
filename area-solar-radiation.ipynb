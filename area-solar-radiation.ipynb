{
 "cells": [
  {
   "cell_type": "code",
   "execution_count": 73,
   "id": "50deb8b8",
   "metadata": {},
   "outputs": [],
   "source": [
    "import pandas as pd\n",
    "import seaborn as sns\n",
    "from scipy.stats import ks_2samp\n",
    "import matplotlib.pyplot as plt"
   ]
  },
  {
   "cell_type": "code",
   "execution_count": 8,
   "id": "4b9c50e9",
   "metadata": {},
   "outputs": [
    {
     "data": {
      "text/html": [
       "<div>\n",
       "<style scoped>\n",
       "    .dataframe tbody tr th:only-of-type {\n",
       "        vertical-align: middle;\n",
       "    }\n",
       "\n",
       "    .dataframe tbody tr th {\n",
       "        vertical-align: top;\n",
       "    }\n",
       "\n",
       "    .dataframe thead th {\n",
       "        text-align: right;\n",
       "    }\n",
       "</style>\n",
       "<table border=\"1\" class=\"dataframe\">\n",
       "  <thead>\n",
       "    <tr style=\"text-align: right;\">\n",
       "      <th></th>\n",
       "      <th>martwe_1993_2003</th>\n",
       "      <th>martwe_2004_2013</th>\n",
       "      <th>martwe_2014</th>\n",
       "      <th>martwe_2015</th>\n",
       "      <th>martwe_2016</th>\n",
       "      <th>martwe_2017</th>\n",
       "      <th>martwe_2018</th>\n",
       "      <th>martwe_2019</th>\n",
       "      <th>martwe_2020</th>\n",
       "      <th>martwe_2021</th>\n",
       "      <th>...</th>\n",
       "      <th>zywe_2012</th>\n",
       "      <th>zywe_2013</th>\n",
       "      <th>zywe_2014</th>\n",
       "      <th>zywe_2015</th>\n",
       "      <th>zywe_2016</th>\n",
       "      <th>zywe_2017</th>\n",
       "      <th>zywe_2018</th>\n",
       "      <th>zywe_2019</th>\n",
       "      <th>zywe_2020</th>\n",
       "      <th>zywe_2021</th>\n",
       "    </tr>\n",
       "  </thead>\n",
       "  <tbody>\n",
       "    <tr>\n",
       "      <th>0</th>\n",
       "      <td>1034080.0</td>\n",
       "      <td>1079190.0</td>\n",
       "      <td>930067.0</td>\n",
       "      <td>908722.0</td>\n",
       "      <td>893336.0</td>\n",
       "      <td>976202.0</td>\n",
       "      <td>891569.0</td>\n",
       "      <td>1197670.0</td>\n",
       "      <td>833079.0</td>\n",
       "      <td>858394.0</td>\n",
       "      <td>...</td>\n",
       "      <td>536007.0</td>\n",
       "      <td>536007.0</td>\n",
       "      <td>1286060.0</td>\n",
       "      <td>414619.0</td>\n",
       "      <td>1286060.0</td>\n",
       "      <td>1286060.0</td>\n",
       "      <td>1286060.0</td>\n",
       "      <td>886135.0</td>\n",
       "      <td>892386.0</td>\n",
       "      <td>892386.0</td>\n",
       "    </tr>\n",
       "    <tr>\n",
       "      <th>1</th>\n",
       "      <td>944520.0</td>\n",
       "      <td>1014020.0</td>\n",
       "      <td>834285.0</td>\n",
       "      <td>1067380.0</td>\n",
       "      <td>1002940.0</td>\n",
       "      <td>1208100.0</td>\n",
       "      <td>1076740.0</td>\n",
       "      <td>1091500.0</td>\n",
       "      <td>895534.0</td>\n",
       "      <td>754292.0</td>\n",
       "      <td>...</td>\n",
       "      <td>550980.0</td>\n",
       "      <td>550980.0</td>\n",
       "      <td>1276510.0</td>\n",
       "      <td>476758.0</td>\n",
       "      <td>1276510.0</td>\n",
       "      <td>1276510.0</td>\n",
       "      <td>1276360.0</td>\n",
       "      <td>892386.0</td>\n",
       "      <td>1021240.0</td>\n",
       "      <td>1021240.0</td>\n",
       "    </tr>\n",
       "    <tr>\n",
       "      <th>2</th>\n",
       "      <td>727372.0</td>\n",
       "      <td>937530.0</td>\n",
       "      <td>1074960.0</td>\n",
       "      <td>550980.0</td>\n",
       "      <td>966147.0</td>\n",
       "      <td>957529.0</td>\n",
       "      <td>887154.0</td>\n",
       "      <td>1146190.0</td>\n",
       "      <td>797180.0</td>\n",
       "      <td>1016430.0</td>\n",
       "      <td>...</td>\n",
       "      <td>563352.0</td>\n",
       "      <td>563352.0</td>\n",
       "      <td>1276360.0</td>\n",
       "      <td>482097.0</td>\n",
       "      <td>1276360.0</td>\n",
       "      <td>1276360.0</td>\n",
       "      <td>1276360.0</td>\n",
       "      <td>1021240.0</td>\n",
       "      <td>884581.0</td>\n",
       "      <td>884581.0</td>\n",
       "    </tr>\n",
       "    <tr>\n",
       "      <th>3</th>\n",
       "      <td>879249.0</td>\n",
       "      <td>508024.0</td>\n",
       "      <td>781008.0</td>\n",
       "      <td>1018770.0</td>\n",
       "      <td>1040430.0</td>\n",
       "      <td>873253.0</td>\n",
       "      <td>859849.0</td>\n",
       "      <td>1134260.0</td>\n",
       "      <td>1007030.0</td>\n",
       "      <td>1009570.0</td>\n",
       "      <td>...</td>\n",
       "      <td>587986.0</td>\n",
       "      <td>587986.0</td>\n",
       "      <td>1276040.0</td>\n",
       "      <td>490880.0</td>\n",
       "      <td>1276040.0</td>\n",
       "      <td>1276040.0</td>\n",
       "      <td>1276040.0</td>\n",
       "      <td>884581.0</td>\n",
       "      <td>805006.0</td>\n",
       "      <td>805006.0</td>\n",
       "    </tr>\n",
       "    <tr>\n",
       "      <th>4</th>\n",
       "      <td>849725.0</td>\n",
       "      <td>763135.0</td>\n",
       "      <td>1054120.0</td>\n",
       "      <td>987465.0</td>\n",
       "      <td>1031440.0</td>\n",
       "      <td>1140150.0</td>\n",
       "      <td>954810.0</td>\n",
       "      <td>1089420.0</td>\n",
       "      <td>1199450.0</td>\n",
       "      <td>887906.0</td>\n",
       "      <td>...</td>\n",
       "      <td>600155.0</td>\n",
       "      <td>600155.0</td>\n",
       "      <td>1272800.0</td>\n",
       "      <td>520981.0</td>\n",
       "      <td>1272800.0</td>\n",
       "      <td>1272800.0</td>\n",
       "      <td>1272800.0</td>\n",
       "      <td>805006.0</td>\n",
       "      <td>764919.0</td>\n",
       "      <td>764919.0</td>\n",
       "    </tr>\n",
       "    <tr>\n",
       "      <th>...</th>\n",
       "      <td>...</td>\n",
       "      <td>...</td>\n",
       "      <td>...</td>\n",
       "      <td>...</td>\n",
       "      <td>...</td>\n",
       "      <td>...</td>\n",
       "      <td>...</td>\n",
       "      <td>...</td>\n",
       "      <td>...</td>\n",
       "      <td>...</td>\n",
       "      <td>...</td>\n",
       "      <td>...</td>\n",
       "      <td>...</td>\n",
       "      <td>...</td>\n",
       "      <td>...</td>\n",
       "      <td>...</td>\n",
       "      <td>...</td>\n",
       "      <td>...</td>\n",
       "      <td>...</td>\n",
       "      <td>...</td>\n",
       "      <td>...</td>\n",
       "    </tr>\n",
       "    <tr>\n",
       "      <th>3963</th>\n",
       "      <td>NaN</td>\n",
       "      <td>NaN</td>\n",
       "      <td>NaN</td>\n",
       "      <td>NaN</td>\n",
       "      <td>NaN</td>\n",
       "      <td>NaN</td>\n",
       "      <td>NaN</td>\n",
       "      <td>NaN</td>\n",
       "      <td>NaN</td>\n",
       "      <td>NaN</td>\n",
       "      <td>...</td>\n",
       "      <td>NaN</td>\n",
       "      <td>NaN</td>\n",
       "      <td>NaN</td>\n",
       "      <td>NaN</td>\n",
       "      <td>NaN</td>\n",
       "      <td>NaN</td>\n",
       "      <td>NaN</td>\n",
       "      <td>NaN</td>\n",
       "      <td>NaN</td>\n",
       "      <td>NaN</td>\n",
       "    </tr>\n",
       "    <tr>\n",
       "      <th>3964</th>\n",
       "      <td>NaN</td>\n",
       "      <td>NaN</td>\n",
       "      <td>NaN</td>\n",
       "      <td>NaN</td>\n",
       "      <td>NaN</td>\n",
       "      <td>NaN</td>\n",
       "      <td>NaN</td>\n",
       "      <td>NaN</td>\n",
       "      <td>NaN</td>\n",
       "      <td>NaN</td>\n",
       "      <td>...</td>\n",
       "      <td>NaN</td>\n",
       "      <td>NaN</td>\n",
       "      <td>NaN</td>\n",
       "      <td>NaN</td>\n",
       "      <td>NaN</td>\n",
       "      <td>NaN</td>\n",
       "      <td>NaN</td>\n",
       "      <td>NaN</td>\n",
       "      <td>NaN</td>\n",
       "      <td>NaN</td>\n",
       "    </tr>\n",
       "    <tr>\n",
       "      <th>3965</th>\n",
       "      <td>NaN</td>\n",
       "      <td>NaN</td>\n",
       "      <td>NaN</td>\n",
       "      <td>NaN</td>\n",
       "      <td>NaN</td>\n",
       "      <td>NaN</td>\n",
       "      <td>NaN</td>\n",
       "      <td>NaN</td>\n",
       "      <td>NaN</td>\n",
       "      <td>NaN</td>\n",
       "      <td>...</td>\n",
       "      <td>NaN</td>\n",
       "      <td>NaN</td>\n",
       "      <td>NaN</td>\n",
       "      <td>NaN</td>\n",
       "      <td>NaN</td>\n",
       "      <td>NaN</td>\n",
       "      <td>NaN</td>\n",
       "      <td>NaN</td>\n",
       "      <td>NaN</td>\n",
       "      <td>NaN</td>\n",
       "    </tr>\n",
       "    <tr>\n",
       "      <th>3966</th>\n",
       "      <td>NaN</td>\n",
       "      <td>NaN</td>\n",
       "      <td>NaN</td>\n",
       "      <td>NaN</td>\n",
       "      <td>NaN</td>\n",
       "      <td>NaN</td>\n",
       "      <td>NaN</td>\n",
       "      <td>NaN</td>\n",
       "      <td>NaN</td>\n",
       "      <td>NaN</td>\n",
       "      <td>...</td>\n",
       "      <td>NaN</td>\n",
       "      <td>NaN</td>\n",
       "      <td>NaN</td>\n",
       "      <td>NaN</td>\n",
       "      <td>NaN</td>\n",
       "      <td>NaN</td>\n",
       "      <td>NaN</td>\n",
       "      <td>NaN</td>\n",
       "      <td>NaN</td>\n",
       "      <td>NaN</td>\n",
       "    </tr>\n",
       "    <tr>\n",
       "      <th>3967</th>\n",
       "      <td>NaN</td>\n",
       "      <td>NaN</td>\n",
       "      <td>NaN</td>\n",
       "      <td>NaN</td>\n",
       "      <td>NaN</td>\n",
       "      <td>NaN</td>\n",
       "      <td>NaN</td>\n",
       "      <td>NaN</td>\n",
       "      <td>NaN</td>\n",
       "      <td>NaN</td>\n",
       "      <td>...</td>\n",
       "      <td>NaN</td>\n",
       "      <td>NaN</td>\n",
       "      <td>NaN</td>\n",
       "      <td>NaN</td>\n",
       "      <td>NaN</td>\n",
       "      <td>NaN</td>\n",
       "      <td>NaN</td>\n",
       "      <td>NaN</td>\n",
       "      <td>NaN</td>\n",
       "      <td>NaN</td>\n",
       "    </tr>\n",
       "  </tbody>\n",
       "</table>\n",
       "<p>3968 rows × 22 columns</p>\n",
       "</div>"
      ],
      "text/plain": [
       "      martwe_1993_2003  martwe_2004_2013  martwe_2014  martwe_2015  \\\n",
       "0            1034080.0         1079190.0     930067.0     908722.0   \n",
       "1             944520.0         1014020.0     834285.0    1067380.0   \n",
       "2             727372.0          937530.0    1074960.0     550980.0   \n",
       "3             879249.0          508024.0     781008.0    1018770.0   \n",
       "4             849725.0          763135.0    1054120.0     987465.0   \n",
       "...                ...               ...          ...          ...   \n",
       "3963               NaN               NaN          NaN          NaN   \n",
       "3964               NaN               NaN          NaN          NaN   \n",
       "3965               NaN               NaN          NaN          NaN   \n",
       "3966               NaN               NaN          NaN          NaN   \n",
       "3967               NaN               NaN          NaN          NaN   \n",
       "\n",
       "      martwe_2016  martwe_2017  martwe_2018  martwe_2019  martwe_2020  \\\n",
       "0        893336.0     976202.0     891569.0    1197670.0     833079.0   \n",
       "1       1002940.0    1208100.0    1076740.0    1091500.0     895534.0   \n",
       "2        966147.0     957529.0     887154.0    1146190.0     797180.0   \n",
       "3       1040430.0     873253.0     859849.0    1134260.0    1007030.0   \n",
       "4       1031440.0    1140150.0     954810.0    1089420.0    1199450.0   \n",
       "...           ...          ...          ...          ...          ...   \n",
       "3963          NaN          NaN          NaN          NaN          NaN   \n",
       "3964          NaN          NaN          NaN          NaN          NaN   \n",
       "3965          NaN          NaN          NaN          NaN          NaN   \n",
       "3966          NaN          NaN          NaN          NaN          NaN   \n",
       "3967          NaN          NaN          NaN          NaN          NaN   \n",
       "\n",
       "      martwe_2021  ...  zywe_2012  zywe_2013  zywe_2014  zywe_2015  zywe_2016  \\\n",
       "0        858394.0  ...   536007.0   536007.0  1286060.0   414619.0  1286060.0   \n",
       "1        754292.0  ...   550980.0   550980.0  1276510.0   476758.0  1276510.0   \n",
       "2       1016430.0  ...   563352.0   563352.0  1276360.0   482097.0  1276360.0   \n",
       "3       1009570.0  ...   587986.0   587986.0  1276040.0   490880.0  1276040.0   \n",
       "4        887906.0  ...   600155.0   600155.0  1272800.0   520981.0  1272800.0   \n",
       "...           ...  ...        ...        ...        ...        ...        ...   \n",
       "3963          NaN  ...        NaN        NaN        NaN        NaN        NaN   \n",
       "3964          NaN  ...        NaN        NaN        NaN        NaN        NaN   \n",
       "3965          NaN  ...        NaN        NaN        NaN        NaN        NaN   \n",
       "3966          NaN  ...        NaN        NaN        NaN        NaN        NaN   \n",
       "3967          NaN  ...        NaN        NaN        NaN        NaN        NaN   \n",
       "\n",
       "      zywe_2017  zywe_2018  zywe_2019  zywe_2020  zywe_2021  \n",
       "0     1286060.0  1286060.0   886135.0   892386.0   892386.0  \n",
       "1     1276510.0  1276360.0   892386.0  1021240.0  1021240.0  \n",
       "2     1276360.0  1276360.0  1021240.0   884581.0   884581.0  \n",
       "3     1276040.0  1276040.0   884581.0   805006.0   805006.0  \n",
       "4     1272800.0  1272800.0   805006.0   764919.0   764919.0  \n",
       "...         ...        ...        ...        ...        ...  \n",
       "3963        NaN        NaN        NaN        NaN        NaN  \n",
       "3964        NaN        NaN        NaN        NaN        NaN  \n",
       "3965        NaN        NaN        NaN        NaN        NaN  \n",
       "3966        NaN        NaN        NaN        NaN        NaN  \n",
       "3967        NaN        NaN        NaN        NaN        NaN  \n",
       "\n",
       "[3968 rows x 22 columns]"
      ]
     },
     "execution_count": 8,
     "metadata": {},
     "output_type": "execute_result"
    }
   ],
   "source": [
    "df = pd.read_excel(r'./data/Solar.xlsx')\n",
    "df"
   ]
  },
  {
   "cell_type": "code",
   "execution_count": 14,
   "id": "ef3b5ccb",
   "metadata": {},
   "outputs": [
    {
     "data": {
      "text/plain": [
       "array(['martwe_1993_2003', 'martwe_2004_2013', 'martwe_2014',\n",
       "       'martwe_2015', 'martwe_2016', 'martwe_2017', 'martwe_2018',\n",
       "       'martwe_2019', 'martwe_2020', 'martwe_2021', 'zywe_1992',\n",
       "       'zywe_2003', 'zywe_2012', 'zywe_2013', 'zywe_2014', 'zywe_2015',\n",
       "       'zywe_2016', 'zywe_2017', 'zywe_2018', 'zywe_2019', 'zywe_2020',\n",
       "       'zywe_2021'], dtype=object)"
      ]
     },
     "execution_count": 14,
     "metadata": {},
     "output_type": "execute_result"
    }
   ],
   "source": [
    "df.columns.values"
   ]
  },
  {
   "cell_type": "markdown",
   "id": "8d0460a0",
   "metadata": {},
   "source": [
    "# 1993-2003"
   ]
  },
  {
   "cell_type": "code",
   "execution_count": 68,
   "id": "31848f12",
   "metadata": {},
   "outputs": [],
   "source": [
    "martwe_1993_2003 = pd.DataFrame(df['martwe_1993_2003']).dropna()\n",
    "zywe_2003 = pd.DataFrame(df['zywe_2003']).dropna()\n",
    "\n",
    "d_1993_2003 = pd.concat([martwe_1993_2003, zywe_2003], axis = 1)"
   ]
  },
  {
   "cell_type": "code",
   "execution_count": 69,
   "id": "acc508cd",
   "metadata": {},
   "outputs": [
    {
     "data": {
      "text/html": [
       "<div>\n",
       "<style scoped>\n",
       "    .dataframe tbody tr th:only-of-type {\n",
       "        vertical-align: middle;\n",
       "    }\n",
       "\n",
       "    .dataframe tbody tr th {\n",
       "        vertical-align: top;\n",
       "    }\n",
       "\n",
       "    .dataframe thead th {\n",
       "        text-align: right;\n",
       "    }\n",
       "</style>\n",
       "<table border=\"1\" class=\"dataframe\">\n",
       "  <thead>\n",
       "    <tr style=\"text-align: right;\">\n",
       "      <th></th>\n",
       "      <th>martwe_1993_2003</th>\n",
       "      <th>zywe_2003</th>\n",
       "    </tr>\n",
       "  </thead>\n",
       "  <tbody>\n",
       "    <tr>\n",
       "      <th>0</th>\n",
       "      <td>1034080.0</td>\n",
       "      <td>600155.0</td>\n",
       "    </tr>\n",
       "    <tr>\n",
       "      <th>1</th>\n",
       "      <td>944520.0</td>\n",
       "      <td>601858.0</td>\n",
       "    </tr>\n",
       "    <tr>\n",
       "      <th>2</th>\n",
       "      <td>727372.0</td>\n",
       "      <td>617324.0</td>\n",
       "    </tr>\n",
       "    <tr>\n",
       "      <th>3</th>\n",
       "      <td>879249.0</td>\n",
       "      <td>629488.0</td>\n",
       "    </tr>\n",
       "    <tr>\n",
       "      <th>4</th>\n",
       "      <td>849725.0</td>\n",
       "      <td>649323.0</td>\n",
       "    </tr>\n",
       "    <tr>\n",
       "      <th>...</th>\n",
       "      <td>...</td>\n",
       "      <td>...</td>\n",
       "    </tr>\n",
       "    <tr>\n",
       "      <th>3401</th>\n",
       "      <td>NaN</td>\n",
       "      <td>926104.0</td>\n",
       "    </tr>\n",
       "    <tr>\n",
       "      <th>3402</th>\n",
       "      <td>NaN</td>\n",
       "      <td>936647.0</td>\n",
       "    </tr>\n",
       "    <tr>\n",
       "      <th>3403</th>\n",
       "      <td>NaN</td>\n",
       "      <td>796467.0</td>\n",
       "    </tr>\n",
       "    <tr>\n",
       "      <th>3404</th>\n",
       "      <td>NaN</td>\n",
       "      <td>991115.0</td>\n",
       "    </tr>\n",
       "    <tr>\n",
       "      <th>3405</th>\n",
       "      <td>NaN</td>\n",
       "      <td>1048880.0</td>\n",
       "    </tr>\n",
       "  </tbody>\n",
       "</table>\n",
       "<p>3406 rows × 2 columns</p>\n",
       "</div>"
      ],
      "text/plain": [
       "      martwe_1993_2003  zywe_2003\n",
       "0            1034080.0   600155.0\n",
       "1             944520.0   601858.0\n",
       "2             727372.0   617324.0\n",
       "3             879249.0   629488.0\n",
       "4             849725.0   649323.0\n",
       "...                ...        ...\n",
       "3401               NaN   926104.0\n",
       "3402               NaN   936647.0\n",
       "3403               NaN   796467.0\n",
       "3404               NaN   991115.0\n",
       "3405               NaN  1048880.0\n",
       "\n",
       "[3406 rows x 2 columns]"
      ]
     },
     "execution_count": 69,
     "metadata": {},
     "output_type": "execute_result"
    }
   ],
   "source": [
    "d_1993_2003"
   ]
  },
  {
   "cell_type": "code",
   "execution_count": 74,
   "id": "b387234b",
   "metadata": {},
   "outputs": [
    {
     "data": {
      "text/plain": [
       "<Axes: >"
      ]
     },
     "execution_count": 74,
     "metadata": {},
     "output_type": "execute_result"
    },
    {
     "data": {
      "image/png": "[encoded data removed]",
      "text/plain": [
       "<Figure size 640x480 with 1 Axes>"
      ]
     },
     "metadata": {},
     "output_type": "display_data"
    }
   ],
   "source": [
    "sns.boxplot(data=d_1993_2003)"
   ]
  },
  {
   "cell_type": "code",
   "execution_count": 75,
   "id": "8075dc2e",
   "metadata": {},
   "outputs": [
    {
     "data": {
      "text/plain": [
       "<Axes: ylabel='Count'>"
      ]
     },
     "execution_count": 75,
     "metadata": {},
     "output_type": "execute_result"
    },
    {
     "data": {
      "image/png": "[encoded data removed]",
      "text/plain": [
       "<Figure size 640x480 with 1 Axes>"
      ]
     },
     "metadata": {},
     "output_type": "display_data"
    }
   ],
   "source": [
    "sns.histplot(data=d_1993_2003)"
   ]
  },
  {
   "cell_type": "code",
   "execution_count": 78,
   "id": "adeb4a2f",
   "metadata": {},
   "outputs": [
    {
     "data": {
      "text/plain": [
       "KstestResult(statistic=0.868761009982384, pvalue=0.0)"
      ]
     },
     "execution_count": 78,
     "metadata": {},
     "output_type": "execute_result"
    }
   ],
   "source": [
    "ks_2samp(d_1993_2003['zywe_2003'], d_1993_2003['martwe_1993_2003'])"
   ]
  },
  {
   "cell_type": "markdown",
   "id": "b2f8a56f",
   "metadata": {},
   "source": [
    "# 2004-2013"
   ]
  },
  {
   "cell_type": "code",
   "execution_count": 79,
   "id": "22d6064f",
   "metadata": {},
   "outputs": [],
   "source": [
    "martwe_2004_2013 = pd.DataFrame(df['martwe_2004_2013']).dropna()\n",
    "zywe_2013 = pd.DataFrame(df['zywe_2013']).dropna()\n",
    "\n",
    "d_2004_2013 = pd.concat([martwe_2004_2013, zywe_2013], axis = 1)"
   ]
  },
  {
   "cell_type": "code",
   "execution_count": 80,
   "id": "95f489c3",
   "metadata": {},
   "outputs": [
    {
     "data": {
      "text/html": [
       "<div>\n",
       "<style scoped>\n",
       "    .dataframe tbody tr th:only-of-type {\n",
       "        vertical-align: middle;\n",
       "    }\n",
       "\n",
       "    .dataframe tbody tr th {\n",
       "        vertical-align: top;\n",
       "    }\n",
       "\n",
       "    .dataframe thead th {\n",
       "        text-align: right;\n",
       "    }\n",
       "</style>\n",
       "<table border=\"1\" class=\"dataframe\">\n",
       "  <thead>\n",
       "    <tr style=\"text-align: right;\">\n",
       "      <th></th>\n",
       "      <th>martwe_2004_2013</th>\n",
       "      <th>zywe_2013</th>\n",
       "    </tr>\n",
       "  </thead>\n",
       "  <tbody>\n",
       "    <tr>\n",
       "      <th>0</th>\n",
       "      <td>1079190.0</td>\n",
       "      <td>536007.0</td>\n",
       "    </tr>\n",
       "    <tr>\n",
       "      <th>1</th>\n",
       "      <td>1014020.0</td>\n",
       "      <td>550980.0</td>\n",
       "    </tr>\n",
       "    <tr>\n",
       "      <th>2</th>\n",
       "      <td>937530.0</td>\n",
       "      <td>563352.0</td>\n",
       "    </tr>\n",
       "    <tr>\n",
       "      <th>3</th>\n",
       "      <td>508024.0</td>\n",
       "      <td>587986.0</td>\n",
       "    </tr>\n",
       "    <tr>\n",
       "      <th>4</th>\n",
       "      <td>763135.0</td>\n",
       "      <td>600155.0</td>\n",
       "    </tr>\n",
       "    <tr>\n",
       "      <th>...</th>\n",
       "      <td>...</td>\n",
       "      <td>...</td>\n",
       "    </tr>\n",
       "    <tr>\n",
       "      <th>2762</th>\n",
       "      <td>NaN</td>\n",
       "      <td>926104.0</td>\n",
       "    </tr>\n",
       "    <tr>\n",
       "      <th>2763</th>\n",
       "      <td>NaN</td>\n",
       "      <td>936647.0</td>\n",
       "    </tr>\n",
       "    <tr>\n",
       "      <th>2764</th>\n",
       "      <td>NaN</td>\n",
       "      <td>796467.0</td>\n",
       "    </tr>\n",
       "    <tr>\n",
       "      <th>2765</th>\n",
       "      <td>NaN</td>\n",
       "      <td>991115.0</td>\n",
       "    </tr>\n",
       "    <tr>\n",
       "      <th>2766</th>\n",
       "      <td>NaN</td>\n",
       "      <td>1048880.0</td>\n",
       "    </tr>\n",
       "  </tbody>\n",
       "</table>\n",
       "<p>2767 rows × 2 columns</p>\n",
       "</div>"
      ],
      "text/plain": [
       "      martwe_2004_2013  zywe_2013\n",
       "0            1079190.0   536007.0\n",
       "1            1014020.0   550980.0\n",
       "2             937530.0   563352.0\n",
       "3             508024.0   587986.0\n",
       "4             763135.0   600155.0\n",
       "...                ...        ...\n",
       "2762               NaN   926104.0\n",
       "2763               NaN   936647.0\n",
       "2764               NaN   796467.0\n",
       "2765               NaN   991115.0\n",
       "2766               NaN  1048880.0\n",
       "\n",
       "[2767 rows x 2 columns]"
      ]
     },
     "execution_count": 80,
     "metadata": {},
     "output_type": "execute_result"
    }
   ],
   "source": [
    "d_2004_2013"
   ]
  },
  {
   "cell_type": "code",
   "execution_count": 81,
   "id": "64cef41e",
   "metadata": {},
   "outputs": [
    {
     "data": {
      "text/plain": [
       "<Axes: >"
      ]
     },
     "execution_count": 81,
     "metadata": {},
     "output_type": "execute_result"
    },
    {
     "data": {
      "image/png": "[encoded data removed]",
      "text/plain": [
       "<Figure size 640x480 with 1 Axes>"
      ]
     },
     "metadata": {},
     "output_type": "display_data"
    }
   ],
   "source": [
    "sns.boxplot(data=d_2004_2013)"
   ]
  },
  {
   "cell_type": "code",
   "execution_count": 82,
   "id": "05d0c3ef",
   "metadata": {},
   "outputs": [
    {
     "data": {
      "text/plain": [
       "<Axes: ylabel='Count'>"
      ]
     },
     "execution_count": 82,
     "metadata": {},
     "output_type": "execute_result"
    },
    {
     "data": {
      "image/png": "[encoded data removed]",
      "text/plain": [
       "<Figure size 640x480 with 1 Axes>"
      ]
     },
     "metadata": {},
     "output_type": "display_data"
    }
   ],
   "source": [
    "sns.histplot(data=d_2004_2013)"
   ]
  },
  {
   "cell_type": "code",
   "execution_count": 84,
   "id": "cad30dd4",
   "metadata": {},
   "outputs": [
    {
     "data": {
      "text/plain": [
       "KstestResult(statistic=0.7271413082761113, pvalue=0.0)"
      ]
     },
     "execution_count": 84,
     "metadata": {},
     "output_type": "execute_result"
    }
   ],
   "source": [
    "ks_2samp(d_2004_2013['zywe_2013'], d_2004_2013['martwe_2004_2013'])"
   ]
  },
  {
   "cell_type": "markdown",
   "id": "b5f5ffac",
   "metadata": {},
   "source": [
    "# 2014-2018"
   ]
  },
  {
   "cell_type": "code",
   "execution_count": 129,
   "id": "8a9a53c7",
   "metadata": {},
   "outputs": [],
   "source": [
    "martwe_2014_2018 = pd.melt(pd.DataFrame(pd.concat([\n",
    "    df['martwe_2014'], \n",
    "    df['martwe_2015'], \n",
    "    df['martwe_2016'], \n",
    "    df['martwe_2017'], \n",
    "    df['martwe_2018']], axis = 1))).dropna()\n",
    "\n",
    "martwe_2014_2018 = pd.DataFrame({\n",
    "    'martwe_2014_2018': martwe_2014_2018['value']\n",
    "}).reset_index(drop = True)\n",
    "\n",
    "d_2014_2018 = pd.concat([martwe_2014_2018, df['zywe_2018'].dropna()], axis = 1)"
   ]
  },
  {
   "cell_type": "code",
   "execution_count": 130,
   "id": "49181f6b",
   "metadata": {},
   "outputs": [
    {
     "data": {
      "text/html": [
       "<div>\n",
       "<style scoped>\n",
       "    .dataframe tbody tr th:only-of-type {\n",
       "        vertical-align: middle;\n",
       "    }\n",
       "\n",
       "    .dataframe tbody tr th {\n",
       "        vertical-align: top;\n",
       "    }\n",
       "\n",
       "    .dataframe thead th {\n",
       "        text-align: right;\n",
       "    }\n",
       "</style>\n",
       "<table border=\"1\" class=\"dataframe\">\n",
       "  <thead>\n",
       "    <tr style=\"text-align: right;\">\n",
       "      <th></th>\n",
       "      <th>martwe_2014_2018</th>\n",
       "      <th>zywe_2018</th>\n",
       "    </tr>\n",
       "  </thead>\n",
       "  <tbody>\n",
       "    <tr>\n",
       "      <th>0</th>\n",
       "      <td>930067.0</td>\n",
       "      <td>1286060.0</td>\n",
       "    </tr>\n",
       "    <tr>\n",
       "      <th>1</th>\n",
       "      <td>834285.0</td>\n",
       "      <td>1276360.0</td>\n",
       "    </tr>\n",
       "    <tr>\n",
       "      <th>2</th>\n",
       "      <td>1074960.0</td>\n",
       "      <td>1276360.0</td>\n",
       "    </tr>\n",
       "    <tr>\n",
       "      <th>3</th>\n",
       "      <td>781008.0</td>\n",
       "      <td>1276040.0</td>\n",
       "    </tr>\n",
       "    <tr>\n",
       "      <th>4</th>\n",
       "      <td>1054120.0</td>\n",
       "      <td>1272800.0</td>\n",
       "    </tr>\n",
       "    <tr>\n",
       "      <th>...</th>\n",
       "      <td>...</td>\n",
       "      <td>...</td>\n",
       "    </tr>\n",
       "    <tr>\n",
       "      <th>2288</th>\n",
       "      <td>NaN</td>\n",
       "      <td>520981.0</td>\n",
       "    </tr>\n",
       "    <tr>\n",
       "      <th>2289</th>\n",
       "      <td>NaN</td>\n",
       "      <td>490880.0</td>\n",
       "    </tr>\n",
       "    <tr>\n",
       "      <th>2290</th>\n",
       "      <td>NaN</td>\n",
       "      <td>482097.0</td>\n",
       "    </tr>\n",
       "    <tr>\n",
       "      <th>2291</th>\n",
       "      <td>NaN</td>\n",
       "      <td>476758.0</td>\n",
       "    </tr>\n",
       "    <tr>\n",
       "      <th>2292</th>\n",
       "      <td>NaN</td>\n",
       "      <td>414619.0</td>\n",
       "    </tr>\n",
       "  </tbody>\n",
       "</table>\n",
       "<p>2293 rows × 2 columns</p>\n",
       "</div>"
      ],
      "text/plain": [
       "      martwe_2014_2018  zywe_2018\n",
       "0             930067.0  1286060.0\n",
       "1             834285.0  1276360.0\n",
       "2            1074960.0  1276360.0\n",
       "3             781008.0  1276040.0\n",
       "4            1054120.0  1272800.0\n",
       "...                ...        ...\n",
       "2288               NaN   520981.0\n",
       "2289               NaN   490880.0\n",
       "2290               NaN   482097.0\n",
       "2291               NaN   476758.0\n",
       "2292               NaN   414619.0\n",
       "\n",
       "[2293 rows x 2 columns]"
      ]
     },
     "execution_count": 130,
     "metadata": {},
     "output_type": "execute_result"
    }
   ],
   "source": [
    "d_2014_2018"
   ]
  },
  {
   "cell_type": "code",
   "execution_count": 131,
   "id": "f9d14315",
   "metadata": {},
   "outputs": [
    {
     "data": {
      "text/plain": [
       "<Axes: >"
      ]
     },
     "execution_count": 131,
     "metadata": {},
     "output_type": "execute_result"
    },
    {
     "data": {
      "image/png": "[encoded data removed]",
      "text/plain": [
       "<Figure size 640x480 with 1 Axes>"
      ]
     },
     "metadata": {},
     "output_type": "display_data"
    }
   ],
   "source": [
    "sns.boxplot(data=d_2014_2018)"
   ]
  },
  {
   "cell_type": "code",
   "execution_count": 132,
   "id": "fc204c09",
   "metadata": {},
   "outputs": [
    {
     "data": {
      "text/plain": [
       "<Axes: ylabel='Count'>"
      ]
     },
     "execution_count": 132,
     "metadata": {},
     "output_type": "execute_result"
    },
    {
     "data": {
      "image/png": "[encoded data removed]",
      "text/plain": [
       "<Figure size 640x480 with 1 Axes>"
      ]
     },
     "metadata": {},
     "output_type": "display_data"
    }
   ],
   "source": [
    "sns.histplot(data=d_2014_2018)"
   ]
  },
  {
   "cell_type": "code",
   "execution_count": 186,
   "id": "e0d34eb4",
   "metadata": {},
   "outputs": [
    {
     "data": {
      "text/plain": [
       "KstestResult(statistic=0.7932839075447012, pvalue=0.0)"
      ]
     },
     "execution_count": 186,
     "metadata": {},
     "output_type": "execute_result"
    }
   ],
   "source": [
    "ks_2samp(d_2014_2018['zywe_2018'], d_2014_2018['martwe_2014_2018'])"
   ]
  },
  {
   "cell_type": "markdown",
   "id": "b6e196be",
   "metadata": {},
   "source": [
    "# 2019-2021"
   ]
  },
  {
   "cell_type": "code",
   "execution_count": 181,
   "id": "f5e582dd",
   "metadata": {},
   "outputs": [],
   "source": [
    "martwe_2019_2021 = pd.melt(pd.DataFrame(pd.concat([\n",
    "    df['martwe_2019'], \n",
    "    df['martwe_2020'], \n",
    "    df['martwe_2021']], axis = 1))).dropna()\n",
    "\n",
    "martwe_2019_2021 = pd.DataFrame({\n",
    "    'martwe_2019_2021': martwe_2019_2021['value']\n",
    "}).reset_index(drop = True)\n",
    "\n",
    "zywe_2021 = df['zywe_2021'].dropna().sort_values().iloc[6:]\n",
    "\n",
    "d_2019_2021 = pd.concat([martwe_2019_2021, zywe_2021], axis = 1).reset_index(drop = True)"
   ]
  },
  {
   "cell_type": "code",
   "execution_count": 182,
   "id": "d6e1698c",
   "metadata": {},
   "outputs": [
    {
     "data": {
      "text/html": [
       "<div>\n",
       "<style scoped>\n",
       "    .dataframe tbody tr th:only-of-type {\n",
       "        vertical-align: middle;\n",
       "    }\n",
       "\n",
       "    .dataframe tbody tr th {\n",
       "        vertical-align: top;\n",
       "    }\n",
       "\n",
       "    .dataframe thead th {\n",
       "        text-align: right;\n",
       "    }\n",
       "</style>\n",
       "<table border=\"1\" class=\"dataframe\">\n",
       "  <thead>\n",
       "    <tr style=\"text-align: right;\">\n",
       "      <th></th>\n",
       "      <th>martwe_2019_2021</th>\n",
       "      <th>zywe_2021</th>\n",
       "    </tr>\n",
       "  </thead>\n",
       "  <tbody>\n",
       "    <tr>\n",
       "      <th>0</th>\n",
       "      <td>1197670.0</td>\n",
       "      <td>892386.0</td>\n",
       "    </tr>\n",
       "    <tr>\n",
       "      <th>1</th>\n",
       "      <td>1091500.0</td>\n",
       "      <td>1021240.0</td>\n",
       "    </tr>\n",
       "    <tr>\n",
       "      <th>2</th>\n",
       "      <td>1146190.0</td>\n",
       "      <td>884581.0</td>\n",
       "    </tr>\n",
       "    <tr>\n",
       "      <th>3</th>\n",
       "      <td>1134260.0</td>\n",
       "      <td>805006.0</td>\n",
       "    </tr>\n",
       "    <tr>\n",
       "      <th>4</th>\n",
       "      <td>1089420.0</td>\n",
       "      <td>764919.0</td>\n",
       "    </tr>\n",
       "    <tr>\n",
       "      <th>...</th>\n",
       "      <td>...</td>\n",
       "      <td>...</td>\n",
       "    </tr>\n",
       "    <tr>\n",
       "      <th>2211</th>\n",
       "      <td>NaN</td>\n",
       "      <td>1272800.0</td>\n",
       "    </tr>\n",
       "    <tr>\n",
       "      <th>2212</th>\n",
       "      <td>NaN</td>\n",
       "      <td>1276040.0</td>\n",
       "    </tr>\n",
       "    <tr>\n",
       "      <th>2213</th>\n",
       "      <td>NaN</td>\n",
       "      <td>1276360.0</td>\n",
       "    </tr>\n",
       "    <tr>\n",
       "      <th>2214</th>\n",
       "      <td>NaN</td>\n",
       "      <td>1276360.0</td>\n",
       "    </tr>\n",
       "    <tr>\n",
       "      <th>2215</th>\n",
       "      <td>NaN</td>\n",
       "      <td>1286060.0</td>\n",
       "    </tr>\n",
       "  </tbody>\n",
       "</table>\n",
       "<p>2216 rows × 2 columns</p>\n",
       "</div>"
      ],
      "text/plain": [
       "      martwe_2019_2021  zywe_2021\n",
       "0            1197670.0   892386.0\n",
       "1            1091500.0  1021240.0\n",
       "2            1146190.0   884581.0\n",
       "3            1134260.0   805006.0\n",
       "4            1089420.0   764919.0\n",
       "...                ...        ...\n",
       "2211               NaN  1272800.0\n",
       "2212               NaN  1276040.0\n",
       "2213               NaN  1276360.0\n",
       "2214               NaN  1276360.0\n",
       "2215               NaN  1286060.0\n",
       "\n",
       "[2216 rows x 2 columns]"
      ]
     },
     "execution_count": 182,
     "metadata": {},
     "output_type": "execute_result"
    }
   ],
   "source": [
    "d_2019_2021"
   ]
  },
  {
   "cell_type": "code",
   "execution_count": 183,
   "id": "55f76288",
   "metadata": {},
   "outputs": [
    {
     "data": {
      "text/plain": [
       "<Axes: >"
      ]
     },
     "execution_count": 183,
     "metadata": {},
     "output_type": "execute_result"
    },
    {
     "data": {
      "image/png": "[encoded data removed]",
      "text/plain": [
       "<Figure size 640x480 with 1 Axes>"
      ]
     },
     "metadata": {},
     "output_type": "display_data"
    }
   ],
   "source": [
    "sns.boxplot(data=d_2019_2021)"
   ]
  },
  {
   "cell_type": "code",
   "execution_count": 184,
   "id": "099b2043",
   "metadata": {},
   "outputs": [
    {
     "data": {
      "text/plain": [
       "<Axes: ylabel='Count'>"
      ]
     },
     "execution_count": 184,
     "metadata": {},
     "output_type": "execute_result"
    },
    {
     "data": {
      "image/png": "[encoded data removed]",
      "text/plain": [
       "<Figure size 640x480 with 1 Axes>"
      ]
     },
     "metadata": {},
     "output_type": "display_data"
    }
   ],
   "source": [
    "sns.histplot(data=d_2019_2021)"
   ]
  },
  {
   "cell_type": "code",
   "execution_count": 185,
   "id": "0bf75733",
   "metadata": {},
   "outputs": [
    {
     "data": {
      "text/plain": [
       "KstestResult(statistic=0.9638989169675091, pvalue=0.0)"
      ]
     },
     "execution_count": 185,
     "metadata": {},
     "output_type": "execute_result"
    }
   ],
   "source": [
    "ks_2samp(d_2019_2021['zywe_2021'], d_2019_2021['martwe_2019_2021'])"
   ]
  }
 ],
 "metadata": {
  "kernelspec": {
   "display_name": "Python 3 (ipykernel)",
   "language": "python",
   "name": "python3"
  },
  "language_info": {
   "codemirror_mode": {
    "name": "ipython",
    "version": 3
   },
   "file_extension": ".py",
   "mimetype": "text/x-python",
   "name": "python",
   "nbconvert_exporter": "python",
   "pygments_lexer": "ipython3",
   "version": "3.10.9"
  }
 },
 "nbformat": 4,
 "nbformat_minor": 5
}
