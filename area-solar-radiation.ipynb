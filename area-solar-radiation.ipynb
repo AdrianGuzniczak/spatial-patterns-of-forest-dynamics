{
 "cells": [
  {
   "cell_type": "code",
   "execution_count": 42,
   "id": "50deb8b8",
   "metadata": {},
   "outputs": [],
   "source": [
    "import glob\n",
    "import pandas as pd\n",
    "import seaborn as sns\n",
    "from scipy.stats import ks_2samp\n",
    "import matplotlib.pyplot as plt\n",
    "\n",
    "pd.options.mode.chained_assignment = None"
   ]
  },
  {
   "cell_type": "markdown",
   "id": "be375c57",
   "metadata": {},
   "source": [
    "### data import"
   ]
  },
  {
   "cell_type": "code",
   "execution_count": 43,
   "id": "ca4644b9",
   "metadata": {},
   "outputs": [],
   "source": [
    "def concat_dfs(directory):\n",
    "    files = glob.glob(directory)\n",
    "    df = []\n",
    "\n",
    "    for f in files:   \n",
    "        col_name = f.split('/')[-1].split('.')[0]\n",
    "        \n",
    "        try:\n",
    "            csv = pd.DataFrame(pd.read_excel(f)['AreaSol_19'])\n",
    "        except:\n",
    "            csv = pd.DataFrame(pd.read_excel(f)['areasol_19'])\n",
    "        csv.columns = [col_name]\n",
    "        csv.reset_index(drop=True)\n",
    "        csv = csv.dropna()\n",
    "        csv = csv.loc[(csv!=0).any(axis=1)]\n",
    "        df.append(csv)\n",
    "    \n",
    "    df2 = pd.concat(df,axis=1)\n",
    "    return df2.reindex(sorted(df2.columns), axis=1)"
   ]
  },
  {
   "cell_type": "code",
   "execution_count": 44,
   "id": "ed5ac804",
   "metadata": {},
   "outputs": [
    {
     "data": {
      "text/html": [
       "<div>\n",
       "<style scoped>\n",
       "    .dataframe tbody tr th:only-of-type {\n",
       "        vertical-align: middle;\n",
       "    }\n",
       "\n",
       "    .dataframe tbody tr th {\n",
       "        vertical-align: top;\n",
       "    }\n",
       "\n",
       "    .dataframe thead th {\n",
       "        text-align: right;\n",
       "    }\n",
       "</style>\n",
       "<table border=\"1\" class=\"dataframe\">\n",
       "  <thead>\n",
       "    <tr style=\"text-align: right;\">\n",
       "      <th></th>\n",
       "      <th>1992</th>\n",
       "      <th>2003</th>\n",
       "      <th>2013</th>\n",
       "      <th>2014</th>\n",
       "      <th>2015</th>\n",
       "      <th>2016</th>\n",
       "      <th>2017</th>\n",
       "      <th>2018</th>\n",
       "      <th>2019</th>\n",
       "      <th>2020</th>\n",
       "      <th>2021</th>\n",
       "      <th>2022</th>\n",
       "    </tr>\n",
       "  </thead>\n",
       "  <tbody>\n",
       "    <tr>\n",
       "      <th>0</th>\n",
       "      <td>605144.0</td>\n",
       "      <td>605144.0</td>\n",
       "      <td>605144.0</td>\n",
       "      <td>605144.0</td>\n",
       "      <td>605144.0</td>\n",
       "      <td>605144.0</td>\n",
       "      <td>605144.0</td>\n",
       "      <td>605144.0</td>\n",
       "      <td>605144.0</td>\n",
       "      <td>605144.0</td>\n",
       "      <td>605144.0</td>\n",
       "      <td>605144.0</td>\n",
       "    </tr>\n",
       "    <tr>\n",
       "      <th>1</th>\n",
       "      <td>829152.0</td>\n",
       "      <td>829152.0</td>\n",
       "      <td>829152.0</td>\n",
       "      <td>829152.0</td>\n",
       "      <td>829152.0</td>\n",
       "      <td>829152.0</td>\n",
       "      <td>829152.0</td>\n",
       "      <td>829152.0</td>\n",
       "      <td>829152.0</td>\n",
       "      <td>829152.0</td>\n",
       "      <td>829152.0</td>\n",
       "      <td>829152.0</td>\n",
       "    </tr>\n",
       "    <tr>\n",
       "      <th>2</th>\n",
       "      <td>763632.0</td>\n",
       "      <td>763632.0</td>\n",
       "      <td>763632.0</td>\n",
       "      <td>763632.0</td>\n",
       "      <td>763632.0</td>\n",
       "      <td>763632.0</td>\n",
       "      <td>763632.0</td>\n",
       "      <td>763632.0</td>\n",
       "      <td>763632.0</td>\n",
       "      <td>763632.0</td>\n",
       "      <td>763632.0</td>\n",
       "      <td>763632.0</td>\n",
       "    </tr>\n",
       "    <tr>\n",
       "      <th>3</th>\n",
       "      <td>629611.0</td>\n",
       "      <td>629611.0</td>\n",
       "      <td>629611.0</td>\n",
       "      <td>629611.0</td>\n",
       "      <td>629611.0</td>\n",
       "      <td>629611.0</td>\n",
       "      <td>629611.0</td>\n",
       "      <td>629611.0</td>\n",
       "      <td>629611.0</td>\n",
       "      <td>629611.0</td>\n",
       "      <td>629611.0</td>\n",
       "      <td>629611.0</td>\n",
       "    </tr>\n",
       "    <tr>\n",
       "      <th>4</th>\n",
       "      <td>759910.0</td>\n",
       "      <td>759910.0</td>\n",
       "      <td>759910.0</td>\n",
       "      <td>759910.0</td>\n",
       "      <td>759910.0</td>\n",
       "      <td>759910.0</td>\n",
       "      <td>759910.0</td>\n",
       "      <td>759910.0</td>\n",
       "      <td>759910.0</td>\n",
       "      <td>759910.0</td>\n",
       "      <td>759910.0</td>\n",
       "      <td>759910.0</td>\n",
       "    </tr>\n",
       "  </tbody>\n",
       "</table>\n",
       "</div>"
      ],
      "text/plain": [
       "       1992      2003      2013      2014      2015      2016      2017  \\\n",
       "0  605144.0  605144.0  605144.0  605144.0  605144.0  605144.0  605144.0   \n",
       "1  829152.0  829152.0  829152.0  829152.0  829152.0  829152.0  829152.0   \n",
       "2  763632.0  763632.0  763632.0  763632.0  763632.0  763632.0  763632.0   \n",
       "3  629611.0  629611.0  629611.0  629611.0  629611.0  629611.0  629611.0   \n",
       "4  759910.0  759910.0  759910.0  759910.0  759910.0  759910.0  759910.0   \n",
       "\n",
       "       2018      2019      2020      2021      2022  \n",
       "0  605144.0  605144.0  605144.0  605144.0  605144.0  \n",
       "1  829152.0  829152.0  829152.0  829152.0  829152.0  \n",
       "2  763632.0  763632.0  763632.0  763632.0  763632.0  \n",
       "3  629611.0  629611.0  629611.0  629611.0  629611.0  \n",
       "4  759910.0  759910.0  759910.0  759910.0  759910.0  "
      ]
     },
     "execution_count": 44,
     "metadata": {},
     "output_type": "execute_result"
    }
   ],
   "source": [
    "living_trees = concat_dfs(r'./data/zywe_drzewa_tabele/*.xls')\n",
    "living_trees.head()"
   ]
  },
  {
   "cell_type": "code",
   "execution_count": 45,
   "id": "63babf5e",
   "metadata": {},
   "outputs": [
    {
     "data": {
      "text/html": [
       "<div>\n",
       "<style scoped>\n",
       "    .dataframe tbody tr th:only-of-type {\n",
       "        vertical-align: middle;\n",
       "    }\n",
       "\n",
       "    .dataframe tbody tr th {\n",
       "        vertical-align: top;\n",
       "    }\n",
       "\n",
       "    .dataframe thead th {\n",
       "        text-align: right;\n",
       "    }\n",
       "</style>\n",
       "<table border=\"1\" class=\"dataframe\">\n",
       "  <thead>\n",
       "    <tr style=\"text-align: right;\">\n",
       "      <th></th>\n",
       "      <th>1993_2003</th>\n",
       "      <th>2004_2013</th>\n",
       "      <th>2014</th>\n",
       "      <th>2015</th>\n",
       "      <th>2016</th>\n",
       "      <th>2017</th>\n",
       "      <th>2018</th>\n",
       "      <th>2019</th>\n",
       "      <th>2020</th>\n",
       "      <th>2021</th>\n",
       "      <th>2022</th>\n",
       "    </tr>\n",
       "  </thead>\n",
       "  <tbody>\n",
       "    <tr>\n",
       "      <th>0</th>\n",
       "      <td>1098440.0</td>\n",
       "      <td>1036060</td>\n",
       "      <td>1211900.0</td>\n",
       "      <td>1044330.0</td>\n",
       "      <td>1045020.0</td>\n",
       "      <td>820313.0</td>\n",
       "      <td>954810.0</td>\n",
       "      <td>1197670.0</td>\n",
       "      <td>833079.0</td>\n",
       "      <td>858394.0</td>\n",
       "      <td>858394.0</td>\n",
       "    </tr>\n",
       "    <tr>\n",
       "      <th>1</th>\n",
       "      <td>1038630.0</td>\n",
       "      <td>1110970</td>\n",
       "      <td>1148300.0</td>\n",
       "      <td>1043260.0</td>\n",
       "      <td>848815.0</td>\n",
       "      <td>937486.0</td>\n",
       "      <td>1076740.0</td>\n",
       "      <td>1091500.0</td>\n",
       "      <td>895534.0</td>\n",
       "      <td>754292.0</td>\n",
       "      <td>754292.0</td>\n",
       "    </tr>\n",
       "    <tr>\n",
       "      <th>2</th>\n",
       "      <td>1139860.0</td>\n",
       "      <td>1022490</td>\n",
       "      <td>1054120.0</td>\n",
       "      <td>1035460.0</td>\n",
       "      <td>1153660.0</td>\n",
       "      <td>933327.0</td>\n",
       "      <td>1012080.0</td>\n",
       "      <td>1146190.0</td>\n",
       "      <td>797180.0</td>\n",
       "      <td>1016430.0</td>\n",
       "      <td>1016430.0</td>\n",
       "    </tr>\n",
       "    <tr>\n",
       "      <th>3</th>\n",
       "      <td>1234160.0</td>\n",
       "      <td>1180520</td>\n",
       "      <td>1046510.0</td>\n",
       "      <td>1120320.0</td>\n",
       "      <td>1099150.0</td>\n",
       "      <td>950140.0</td>\n",
       "      <td>903199.0</td>\n",
       "      <td>1134260.0</td>\n",
       "      <td>1007030.0</td>\n",
       "      <td>1009570.0</td>\n",
       "      <td>1009570.0</td>\n",
       "    </tr>\n",
       "    <tr>\n",
       "      <th>4</th>\n",
       "      <td>1052250.0</td>\n",
       "      <td>1073820</td>\n",
       "      <td>1087380.0</td>\n",
       "      <td>NaN</td>\n",
       "      <td>1095470.0</td>\n",
       "      <td>1140150.0</td>\n",
       "      <td>915426.0</td>\n",
       "      <td>1089420.0</td>\n",
       "      <td>1199450.0</td>\n",
       "      <td>887906.0</td>\n",
       "      <td>887906.0</td>\n",
       "    </tr>\n",
       "  </tbody>\n",
       "</table>\n",
       "</div>"
      ],
      "text/plain": [
       "   1993_2003  2004_2013       2014       2015       2016       2017  \\\n",
       "0  1098440.0    1036060  1211900.0  1044330.0  1045020.0   820313.0   \n",
       "1  1038630.0    1110970  1148300.0  1043260.0   848815.0   937486.0   \n",
       "2  1139860.0    1022490  1054120.0  1035460.0  1153660.0   933327.0   \n",
       "3  1234160.0    1180520  1046510.0  1120320.0  1099150.0   950140.0   \n",
       "4  1052250.0    1073820  1087380.0        NaN  1095470.0  1140150.0   \n",
       "\n",
       "        2018       2019       2020       2021       2022  \n",
       "0   954810.0  1197670.0   833079.0   858394.0   858394.0  \n",
       "1  1076740.0  1091500.0   895534.0   754292.0   754292.0  \n",
       "2  1012080.0  1146190.0   797180.0  1016430.0  1016430.0  \n",
       "3   903199.0  1134260.0  1007030.0  1009570.0  1009570.0  \n",
       "4   915426.0  1089420.0  1199450.0   887906.0   887906.0  "
      ]
     },
     "execution_count": 45,
     "metadata": {},
     "output_type": "execute_result"
    }
   ],
   "source": [
    "dead_trees = concat_dfs(r'./data/martwe_drzewa_tabele/*.xls')\n",
    "dead_trees.head()"
   ]
  },
  {
   "cell_type": "markdown",
   "id": "e5648cc7",
   "metadata": {},
   "source": [
    "### data preview"
   ]
  },
  {
   "cell_type": "code",
   "execution_count": 46,
   "id": "4eb5b8d8",
   "metadata": {},
   "outputs": [],
   "source": [
    "dead_1993_2003 = pd.DataFrame(dead_trees['1993_2003']).dropna().reset_index(drop = True)\n",
    "dead_2004_2013 = pd.DataFrame(dead_trees['2004_2013']).dropna().reset_index(drop = True)\n",
    "\n",
    "dead_2014_2018 = pd.DataFrame(dead_trees[['2014', '2015', '2016', '2017', '2018']]\n",
    "                              .melt()['value']\n",
    "                              .dropna()\n",
    "                              .reset_index(drop = True))\n",
    "dead_2019_2022 = pd.DataFrame(dead_trees[['2019', '2020', '2021', '2022']]\n",
    "                              .melt()['value']\n",
    "                              .dropna()\n",
    "                              .reset_index(drop = True))\n",
    "dead_2014_2022 = pd.DataFrame(dead_trees[['2014', '2015', '2016', '2017', '2018', '2019', '2020', '2021', '2022']]\n",
    "                              .melt()['value']\n",
    "                              .dropna()\n",
    "                              .reset_index(drop = True))\n",
    "\n",
    "living_2003 = pd.DataFrame(living_trees['2003']).dropna().reset_index(drop = True)\n",
    "living_2013 = pd.DataFrame(living_trees['2013']).dropna().reset_index(drop = True)\n",
    "living_2018 = pd.DataFrame(living_trees['2018']).dropna().reset_index(drop = True)\n",
    "living_2022 = pd.DataFrame(living_trees['2022']).dropna().reset_index(drop = True)\n",
    "\n",
    "years_1993_2003 = (pd.concat([dead_1993_2003, living_2003], axis = 1)\n",
    "                   .rename(columns = {\n",
    "                       '1993_2003' : 'martwe 1993-2003',\n",
    "                       '2003' : 'żywe 2003'\n",
    "                   }))\n",
    "\n",
    "years_2004_2013 = (pd.concat([dead_2004_2013, living_2013], axis = 1)\n",
    "                   .rename(columns = {\n",
    "                       '2004_2013' : 'martwe 2004-2013',\n",
    "                       '2013' : 'żywe 2013'\n",
    "                   }))\n",
    "\n",
    "years_2014_2018 = (pd.concat([dead_2014_2018, living_2018], axis = 1)\n",
    "                   .rename(columns = {\n",
    "                       'value' : 'martwe 2014-2018',\n",
    "                       '2018' : 'żywe 2018'\n",
    "                   }))\n",
    "years_2019_2022 = (pd.concat([dead_2019_2022, living_2022], axis = 1)\n",
    "                   .rename(columns = {\n",
    "                       'value' : 'martwe 2019-2022',\n",
    "                       '2022' : 'żywe 2022'\n",
    "                   }))\n",
    "\n",
    "years_2014_2022 = (pd.concat([dead_2014_2022, living_2022], axis = 1)\n",
    "                   .rename(columns = {\n",
    "                       'value' : 'martwe 2014-2022',\n",
    "                       '2022' : 'żywe 2022'\n",
    "                   }))"
   ]
  },
  {
   "cell_type": "code",
   "execution_count": 47,
   "id": "dca271f3",
   "metadata": {},
   "outputs": [
    {
     "data": {
      "image/png": "[encoded data removed]",
      "text/plain": [
       "<Figure size 500x2000 with 5 Axes>"
      ]
     },
     "metadata": {},
     "output_type": "display_data"
    }
   ],
   "source": [
    "fig, ax = plt.subplots(nrows=5, ncols=1, figsize=(5, 20))\n",
    "\n",
    "sns.histplot(years_1993_2003, ax=ax[0])\n",
    "sns.histplot(years_2004_2013, ax=ax[1])\n",
    "sns.histplot(years_2014_2018, ax=ax[2])\n",
    "sns.histplot(years_2019_2022, ax=ax[3])\n",
    "sns.histplot(years_2014_2022, ax=ax[4])\n",
    "\n",
    "for i in range(0,5):\n",
    "    ax[i].set_ylabel(\"Liczebność\")\n",
    "    ax[i].set_xlabel(\"Watogodziny na metr kwadratowy (WH/m2)\")"
   ]
  },
  {
   "cell_type": "markdown",
   "id": "aea676f7",
   "metadata": {},
   "source": [
    "### statistical tests"
   ]
  },
  {
   "cell_type": "markdown",
   "id": "cdac33ec",
   "metadata": {},
   "source": [
    "##### 1993 - 2003"
   ]
  },
  {
   "cell_type": "code",
   "execution_count": 48,
   "id": "c0ecd1cb",
   "metadata": {},
   "outputs": [
    {
     "data": {
      "text/plain": [
       "KstestResult(statistic=0.04551494284360354, pvalue=0.3873469180875512)"
      ]
     },
     "execution_count": 48,
     "metadata": {},
     "output_type": "execute_result"
    }
   ],
   "source": [
    "ks_1993_2003 = ks_2samp(years_1993_2003.iloc[:,0].dropna(), years_1993_2003.iloc[:,1].dropna())\n",
    "ks_1993_2003"
   ]
  },
  {
   "cell_type": "markdown",
   "id": "66034c5d",
   "metadata": {},
   "source": [
    "##### 2004 - 2013"
   ]
  },
  {
   "cell_type": "code",
   "execution_count": 49,
   "id": "7b183927",
   "metadata": {},
   "outputs": [
    {
     "data": {
      "text/plain": [
       "KstestResult(statistic=0.056741109145870085, pvalue=0.04192335579823665)"
      ]
     },
     "execution_count": 49,
     "metadata": {},
     "output_type": "execute_result"
    }
   ],
   "source": [
    "ks_2004_2013 = ks_2samp(years_2004_2013.iloc[:,0].dropna(), years_2004_2013.iloc[:,1].dropna())\n",
    "ks_2004_2013"
   ]
  },
  {
   "cell_type": "markdown",
   "id": "58d6877f",
   "metadata": {},
   "source": [
    "##### 2014 - 2018"
   ]
  },
  {
   "cell_type": "code",
   "execution_count": 50,
   "id": "f6e39470",
   "metadata": {},
   "outputs": [
    {
     "data": {
      "text/plain": [
       "KstestResult(statistic=0.06618381756253208, pvalue=0.06081588904714866)"
      ]
     },
     "execution_count": 50,
     "metadata": {},
     "output_type": "execute_result"
    }
   ],
   "source": [
    "ks_2014_2018 = ks_2samp(years_2014_2018.iloc[:,0].dropna(), years_2014_2018.iloc[:,1].dropna())\n",
    "ks_2014_2018"
   ]
  },
  {
   "cell_type": "markdown",
   "id": "39242b42",
   "metadata": {},
   "source": [
    "##### 2019 - 2022"
   ]
  },
  {
   "cell_type": "code",
   "execution_count": 51,
   "id": "016b7253",
   "metadata": {},
   "outputs": [
    {
     "data": {
      "text/plain": [
       "KstestResult(statistic=0.12325488631830873, pvalue=0.06615075809304301)"
      ]
     },
     "execution_count": 51,
     "metadata": {},
     "output_type": "execute_result"
    }
   ],
   "source": [
    "ks_2019_2022 = ks_2samp(years_2019_2022.iloc[:,0].dropna(), years_2019_2022.iloc[:,1].dropna())\n",
    "ks_2019_2022"
   ]
  },
  {
   "cell_type": "markdown",
   "id": "5851c900",
   "metadata": {},
   "source": [
    "##### 2014 - 2022"
   ]
  },
  {
   "cell_type": "code",
   "execution_count": 52,
   "id": "5cbe414f",
   "metadata": {},
   "outputs": [
    {
     "data": {
      "text/plain": [
       "KstestResult(statistic=0.045909721032382673, pvalue=0.2724752656396673)"
      ]
     },
     "execution_count": 52,
     "metadata": {},
     "output_type": "execute_result"
    }
   ],
   "source": [
    "ks_2014_2022 = ks_2samp(years_2014_2022.iloc[:,0].dropna(), years_2014_2022.iloc[:,1].dropna())\n",
    "ks_2014_2022"
   ]
  },
  {
   "cell_type": "code",
   "execution_count": 53,
   "id": "d3d40c83",
   "metadata": {},
   "outputs": [
    {
     "data": {
      "text/html": [
       "<style type=\"text/css\">\n",
       "#T_95a12 th {\n",
       "  text-align: center;\n",
       "}\n",
       "#T_95a12_row0_col0, #T_95a12_row0_col1, #T_95a12_row0_col2, #T_95a12_row0_col3, #T_95a12_row0_col4 {\n",
       "  text-align: center;\n",
       "}\n",
       "</style>\n",
       "<table id=\"T_95a12\">\n",
       "  <thead>\n",
       "    <tr>\n",
       "      <th class=\"blank level0\" >&nbsp;</th>\n",
       "      <th id=\"T_95a12_level0_col0\" class=\"col_heading level0 col0\" >1993 - 2003</th>\n",
       "      <th id=\"T_95a12_level0_col1\" class=\"col_heading level0 col1\" >2004 - 2013</th>\n",
       "      <th id=\"T_95a12_level0_col2\" class=\"col_heading level0 col2\" >2014 - 2018</th>\n",
       "      <th id=\"T_95a12_level0_col3\" class=\"col_heading level0 col3\" >2019 - 2022</th>\n",
       "      <th id=\"T_95a12_level0_col4\" class=\"col_heading level0 col4\" >2014 - 2022</th>\n",
       "    </tr>\n",
       "  </thead>\n",
       "  <tbody>\n",
       "    <tr>\n",
       "      <th id=\"T_95a12_level0_row0\" class=\"row_heading level0 row0\" >p-value</th>\n",
       "      <td id=\"T_95a12_row0_col0\" class=\"data row0 col0\" >0.387347</td>\n",
       "      <td id=\"T_95a12_row0_col1\" class=\"data row0 col1\" >0.041923</td>\n",
       "      <td id=\"T_95a12_row0_col2\" class=\"data row0 col2\" >0.060816</td>\n",
       "      <td id=\"T_95a12_row0_col3\" class=\"data row0 col3\" >0.066151</td>\n",
       "      <td id=\"T_95a12_row0_col4\" class=\"data row0 col4\" >0.272475</td>\n",
       "    </tr>\n",
       "  </tbody>\n",
       "</table>\n"
      ],
      "text/plain": [
       "<pandas.io.formats.style.Styler at 0x7faf1a101ae0>"
      ]
     },
     "execution_count": 53,
     "metadata": {},
     "output_type": "execute_result"
    }
   ],
   "source": [
    "summary_table = pd.DataFrame({\n",
    "    '1993 - 2003': ks_1993_2003[1],\n",
    "    '2004 - 2013': ks_2004_2013[1],\n",
    "    '2014 - 2018': ks_2014_2018[1], \n",
    "    '2019 - 2022': ks_2019_2022[1], \n",
    "    '2014 - 2022': ks_2014_2022[1], \n",
    "}, index = ['p-value'])\n",
    "\n",
    "summary_table = summary_table.style.set_table_styles([dict(selector='th', props=[('text-align', 'center')])])\n",
    "summary_table.set_properties(**{'text-align': 'center'})\n",
    "\n",
    "summary_table\n"
   ]
  },
  {
   "cell_type": "markdown",
   "id": "c9e5d482",
   "metadata": {},
   "source": [
    "### Descriptive statistics"
   ]
  },
  {
   "cell_type": "code",
   "execution_count": 54,
   "id": "7bfbda08",
   "metadata": {},
   "outputs": [],
   "source": [
    "stats_1993_2003 = years_1993_2003.agg(['mean', 'median', 'std']).rename(index={'mean': 'średnia', 'median': 'mediana', 'std' : 'sd'})\n",
    "stats_2004_2013 = years_2004_2013.agg(['mean', 'median', 'std']).rename(index={'mean': 'średnia', 'median': 'mediana', 'std' : 'sd'})\n",
    "stats_2014_2018 = years_2014_2018.agg(['mean', 'median', 'std']).rename(index={'mean': 'średnia', 'median': 'mediana', 'std' : 'sd'})\n",
    "stats_2019_2022 = years_2019_2022.agg(['mean', 'median', 'std']).rename(index={'mean': 'średnia', 'median': 'mediana', 'std' : 'sd'})\n",
    "stats_2014_2022 = years_2014_2022.agg(['mean', 'median', 'std']).rename(index={'mean': 'średnia', 'median': 'mediana', 'std' : 'sd'})"
   ]
  },
  {
   "cell_type": "code",
   "execution_count": 55,
   "id": "7da990c9",
   "metadata": {},
   "outputs": [
    {
     "data": {
      "text/html": [
       "<div>\n",
       "<style scoped>\n",
       "    .dataframe tbody tr th:only-of-type {\n",
       "        vertical-align: middle;\n",
       "    }\n",
       "\n",
       "    .dataframe tbody tr th {\n",
       "        vertical-align: top;\n",
       "    }\n",
       "\n",
       "    .dataframe thead th {\n",
       "        text-align: right;\n",
       "    }\n",
       "</style>\n",
       "<table border=\"1\" class=\"dataframe\">\n",
       "  <thead>\n",
       "    <tr style=\"text-align: right;\">\n",
       "      <th></th>\n",
       "      <th>martwe 1993-2003</th>\n",
       "      <th>żywe 2003</th>\n",
       "      <th>martwe 2004-2013</th>\n",
       "      <th>żywe 2013</th>\n",
       "      <th>martwe 2014-2018</th>\n",
       "      <th>żywe 2018</th>\n",
       "      <th>martwe 2019-2022</th>\n",
       "      <th>żywe 2022</th>\n",
       "      <th>martwe 2014-2022</th>\n",
       "      <th>żywe 2022</th>\n",
       "    </tr>\n",
       "  </thead>\n",
       "  <tbody>\n",
       "    <tr>\n",
       "      <th>średnia</th>\n",
       "      <td>949236.259508</td>\n",
       "      <td>953836.129838</td>\n",
       "      <td>942940.737748</td>\n",
       "      <td>953577.200217</td>\n",
       "      <td>963534.563291</td>\n",
       "      <td>951499.953772</td>\n",
       "      <td>928725.941317</td>\n",
       "      <td>952546.277064</td>\n",
       "      <td>956738.312821</td>\n",
       "      <td>952546.277064</td>\n",
       "    </tr>\n",
       "    <tr>\n",
       "      <th>mediana</th>\n",
       "      <td>952915.000000</td>\n",
       "      <td>963200.000000</td>\n",
       "      <td>942344.000000</td>\n",
       "      <td>961731.000000</td>\n",
       "      <td>969155.000000</td>\n",
       "      <td>960983.000000</td>\n",
       "      <td>923638.000000</td>\n",
       "      <td>961396.500000</td>\n",
       "      <td>959793.000000</td>\n",
       "      <td>961396.500000</td>\n",
       "    </tr>\n",
       "    <tr>\n",
       "      <th>sd</th>\n",
       "      <td>128424.420214</td>\n",
       "      <td>134441.435175</td>\n",
       "      <td>126825.692010</td>\n",
       "      <td>134674.490373</td>\n",
       "      <td>139119.949203</td>\n",
       "      <td>133613.955181</td>\n",
       "      <td>140498.538924</td>\n",
       "      <td>132750.153451</td>\n",
       "      <td>139953.146848</td>\n",
       "      <td>132750.153451</td>\n",
       "    </tr>\n",
       "  </tbody>\n",
       "</table>\n",
       "</div>"
      ],
      "text/plain": [
       "         martwe 1993-2003      żywe 2003  martwe 2004-2013      żywe 2013  \\\n",
       "średnia     949236.259508  953836.129838     942940.737748  953577.200217   \n",
       "mediana     952915.000000  963200.000000     942344.000000  961731.000000   \n",
       "sd          128424.420214  134441.435175     126825.692010  134674.490373   \n",
       "\n",
       "         martwe 2014-2018      żywe 2018  martwe 2019-2022      żywe 2022  \\\n",
       "średnia     963534.563291  951499.953772     928725.941317  952546.277064   \n",
       "mediana     969155.000000  960983.000000     923638.000000  961396.500000   \n",
       "sd          139119.949203  133613.955181     140498.538924  132750.153451   \n",
       "\n",
       "         martwe 2014-2022      żywe 2022  \n",
       "średnia     956738.312821  952546.277064  \n",
       "mediana     959793.000000  961396.500000  \n",
       "sd          139953.146848  132750.153451  "
      ]
     },
     "execution_count": 55,
     "metadata": {},
     "output_type": "execute_result"
    }
   ],
   "source": [
    "summary_df = pd.concat([stats_1993_2003, stats_2004_2013, stats_2014_2018, stats_2019_2022, stats_2014_2022], axis = 1)\n",
    "summary_df"
   ]
  },
  {
   "cell_type": "code",
   "execution_count": 56,
   "id": "2402e2fa",
   "metadata": {},
   "outputs": [
    {
     "data": {
      "text/html": [
       "<style type=\"text/css\">\n",
       "#T_e4370 th {\n",
       "  text-align: center;\n",
       "}\n",
       "#T_e4370_row0_col0, #T_e4370_row0_col1, #T_e4370_row0_col2, #T_e4370_row1_col0, #T_e4370_row1_col1, #T_e4370_row1_col2 {\n",
       "  text-align: center;\n",
       "}\n",
       "</style>\n",
       "<table id=\"T_e4370\">\n",
       "  <thead>\n",
       "    <tr>\n",
       "      <th class=\"blank level0\" >&nbsp;</th>\n",
       "      <th id=\"T_e4370_level0_col0\" class=\"col_heading level0 col0\" >średnia</th>\n",
       "      <th id=\"T_e4370_level0_col1\" class=\"col_heading level0 col1\" >mediana</th>\n",
       "      <th id=\"T_e4370_level0_col2\" class=\"col_heading level0 col2\" >sd</th>\n",
       "    </tr>\n",
       "  </thead>\n",
       "  <tbody>\n",
       "    <tr>\n",
       "      <th id=\"T_e4370_level0_row0\" class=\"row_heading level0 row0\" >max</th>\n",
       "      <td id=\"T_e4370_row0_col0\" class=\"data row0 col0\" >martwe 2014-2018</td>\n",
       "      <td id=\"T_e4370_row0_col1\" class=\"data row0 col1\" >martwe 2014-2018</td>\n",
       "      <td id=\"T_e4370_row0_col2\" class=\"data row0 col2\" >martwe 2019-2022</td>\n",
       "    </tr>\n",
       "    <tr>\n",
       "      <th id=\"T_e4370_level0_row1\" class=\"row_heading level0 row1\" >min</th>\n",
       "      <td id=\"T_e4370_row1_col0\" class=\"data row1 col0\" >martwe 2019-2022</td>\n",
       "      <td id=\"T_e4370_row1_col1\" class=\"data row1 col1\" >martwe 2019-2022</td>\n",
       "      <td id=\"T_e4370_row1_col2\" class=\"data row1 col2\" >martwe 2004-2013</td>\n",
       "    </tr>\n",
       "  </tbody>\n",
       "</table>\n"
      ],
      "text/plain": [
       "<pandas.io.formats.style.Styler at 0x7faf1aa88070>"
      ]
     },
     "execution_count": 56,
     "metadata": {},
     "output_type": "execute_result"
    }
   ],
   "source": [
    "df_summary_min_max = pd.DataFrame({\n",
    "    'średnia' : [\n",
    "        summary_df.columns[summary_df.isin([summary_df.iloc[0,:-1].max()]).any()][0],\n",
    "        summary_df.columns[summary_df.isin([summary_df.iloc[0,:-1].min()]).any()][0]],\n",
    "    'mediana' : [\n",
    "        summary_df.columns[summary_df.isin([summary_df.iloc[1,:-1].max()]).any()][0],\n",
    "        summary_df.columns[summary_df.isin([summary_df.iloc[1,:-1].min()]).any()][0]],\n",
    "    'sd' : [\n",
    "        summary_df.columns[summary_df.isin([summary_df.iloc[2,:-1].max()]).any()][0],\n",
    "        summary_df.columns[summary_df.isin([summary_df.iloc[2,:-1].min()]).any()][0]]\n",
    "}, index = ['max', 'min'])\n",
    "\n",
    "df_summary_min_max = df_summary_min_max.style.set_table_styles([dict(selector='th', props=[('text-align', 'center')])])\n",
    "df_summary_min_max.set_properties(**{'text-align': 'center'})\n",
    "\n",
    "df_summary_min_max"
   ]
  },
  {
   "cell_type": "code",
   "execution_count": 60,
   "id": "a92f9c27",
   "metadata": {},
   "outputs": [
    {
     "data": {
      "text/html": [
       "<style type=\"text/css\">\n",
       "#T_eca4e th {\n",
       "  text-align: center;\n",
       "}\n",
       "#T_eca4e_row0_col0, #T_eca4e_row0_col1, #T_eca4e_row0_col2, #T_eca4e_row0_col3, #T_eca4e_row0_col4, #T_eca4e_row1_col0, #T_eca4e_row1_col1, #T_eca4e_row1_col2, #T_eca4e_row1_col3, #T_eca4e_row1_col4, #T_eca4e_row2_col0, #T_eca4e_row2_col1, #T_eca4e_row2_col2, #T_eca4e_row2_col3, #T_eca4e_row2_col4 {\n",
       "  text-align: center;\n",
       "}\n",
       "</style>\n",
       "<table id=\"T_eca4e\">\n",
       "  <thead>\n",
       "    <tr>\n",
       "      <th class=\"blank level0\" >&nbsp;</th>\n",
       "      <th id=\"T_eca4e_level0_col0\" class=\"col_heading level0 col0\" >1993 - 2003</th>\n",
       "      <th id=\"T_eca4e_level0_col1\" class=\"col_heading level0 col1\" >2004 - 2013</th>\n",
       "      <th id=\"T_eca4e_level0_col2\" class=\"col_heading level0 col2\" >2014 - 2018</th>\n",
       "      <th id=\"T_eca4e_level0_col3\" class=\"col_heading level0 col3\" >2019 - 2022</th>\n",
       "      <th id=\"T_eca4e_level0_col4\" class=\"col_heading level0 col4\" >2014 - 2022</th>\n",
       "    </tr>\n",
       "  </thead>\n",
       "  <tbody>\n",
       "    <tr>\n",
       "      <th id=\"T_eca4e_level0_row0\" class=\"row_heading level0 row0\" >średnia</th>\n",
       "      <td id=\"T_eca4e_row0_col0\" class=\"data row0 col0\" >4599.870330</td>\n",
       "      <td id=\"T_eca4e_row0_col1\" class=\"data row0 col1\" >10636.462468</td>\n",
       "      <td id=\"T_eca4e_row0_col2\" class=\"data row0 col2\" >-12034.609519</td>\n",
       "      <td id=\"T_eca4e_row0_col3\" class=\"data row0 col3\" >23820.335747</td>\n",
       "      <td id=\"T_eca4e_row0_col4\" class=\"data row0 col4\" >-4192.035757</td>\n",
       "    </tr>\n",
       "    <tr>\n",
       "      <th id=\"T_eca4e_level0_row1\" class=\"row_heading level0 row1\" >mediana</th>\n",
       "      <td id=\"T_eca4e_row1_col0\" class=\"data row1 col0\" >10285.000000</td>\n",
       "      <td id=\"T_eca4e_row1_col1\" class=\"data row1 col1\" >19387.000000</td>\n",
       "      <td id=\"T_eca4e_row1_col2\" class=\"data row1 col2\" >-8172.000000</td>\n",
       "      <td id=\"T_eca4e_row1_col3\" class=\"data row1 col3\" >37758.500000</td>\n",
       "      <td id=\"T_eca4e_row1_col4\" class=\"data row1 col4\" >1603.500000</td>\n",
       "    </tr>\n",
       "    <tr>\n",
       "      <th id=\"T_eca4e_level0_row2\" class=\"row_heading level0 row2\" >sd</th>\n",
       "      <td id=\"T_eca4e_row2_col0\" class=\"data row2 col0\" >6017.014961</td>\n",
       "      <td id=\"T_eca4e_row2_col1\" class=\"data row2 col1\" >7848.798363</td>\n",
       "      <td id=\"T_eca4e_row2_col2\" class=\"data row2 col2\" >-5505.994022</td>\n",
       "      <td id=\"T_eca4e_row2_col3\" class=\"data row2 col3\" >-7748.385473</td>\n",
       "      <td id=\"T_eca4e_row2_col4\" class=\"data row2 col4\" >-7202.993397</td>\n",
       "    </tr>\n",
       "  </tbody>\n",
       "</table>\n"
      ],
      "text/plain": [
       "<pandas.io.formats.style.Styler at 0x7faf1a8dff70>"
      ]
     },
     "execution_count": 60,
     "metadata": {},
     "output_type": "execute_result"
    }
   ],
   "source": [
    "stats_df = pd.DataFrame({\n",
    "    '1993 - 2003' : stats_1993_2003['żywe 2003'] - stats_1993_2003['martwe 1993-2003'],\n",
    "    '2004 - 2013' : stats_2004_2013['żywe 2013'] - stats_2004_2013['martwe 2004-2013'],\n",
    "    '2014 - 2018' : stats_2014_2018['żywe 2018'] - stats_2014_2018['martwe 2014-2018'],\n",
    "    '2019 - 2022' : stats_2019_2022['żywe 2022'] - stats_2019_2022['martwe 2019-2022'],\n",
    "    '2014 - 2022' : stats_2019_2022['żywe 2022'] - stats_2014_2022['martwe 2014-2022']\n",
    "}).rename(index={'mean': 'średnia', 'median': 'mediana', 'std' : 'sd'})\n",
    "\n",
    "stats_df = stats_df.style.set_table_styles([dict(selector='th', props=[('text-align', 'center')])])\n",
    "stats_df.set_properties(**{'text-align': 'center'})\n",
    "\n",
    "stats_df"
   ]
  },
  {
   "cell_type": "markdown",
   "id": "d79a8451",
   "metadata": {},
   "source": [
    "### preview of feature distribution 2004-2013"
   ]
  },
  {
   "cell_type": "code",
   "execution_count": 58,
   "id": "4ace585f",
   "metadata": {},
   "outputs": [
    {
     "data": {
      "text/plain": [
       "Text(0, 0.5, 'Watogodziny na metr kwadratowy (WH/m2)')"
      ]
     },
     "execution_count": 58,
     "metadata": {},
     "output_type": "execute_result"
    },
    {
     "data": {
      "image/png": "[encoded data removed]",
      "text/plain": [
       "<Figure size 640x480 with 1 Axes>"
      ]
     },
     "metadata": {},
     "output_type": "display_data"
    }
   ],
   "source": [
    "ax = sns.boxplot(data=years_2004_2013)\n",
    "ax.set_ylabel(\"Watogodziny na metr kwadratowy (WH/m2)\")\n",
    "# ax.set_ylabel(xlabel=e)"
   ]
  },
  {
   "cell_type": "code",
   "execution_count": 61,
   "id": "807ba515",
   "metadata": {},
   "outputs": [
    {
     "data": {
      "text/html": [
       "<style type=\"text/css\">\n",
       "#T_36a4d th {\n",
       "  text-align: center;\n",
       "}\n",
       "#T_36a4d_row0_col0, #T_36a4d_row0_col1, #T_36a4d_row1_col0, #T_36a4d_row1_col1, #T_36a4d_row2_col0, #T_36a4d_row2_col1, #T_36a4d_row3_col0, #T_36a4d_row3_col1, #T_36a4d_row4_col0, #T_36a4d_row4_col1, #T_36a4d_row5_col0, #T_36a4d_row5_col1, #T_36a4d_row6_col0, #T_36a4d_row6_col1, #T_36a4d_row7_col0, #T_36a4d_row7_col1 {\n",
       "  text-align: center;\n",
       "}\n",
       "</style>\n",
       "<table id=\"T_36a4d\">\n",
       "  <thead>\n",
       "    <tr>\n",
       "      <th class=\"blank level0\" >&nbsp;</th>\n",
       "      <th id=\"T_36a4d_level0_col0\" class=\"col_heading level0 col0\" >martwe 2004-2013</th>\n",
       "      <th id=\"T_36a4d_level0_col1\" class=\"col_heading level0 col1\" >żywe 2013</th>\n",
       "    </tr>\n",
       "  </thead>\n",
       "  <tbody>\n",
       "    <tr>\n",
       "      <th id=\"T_36a4d_level0_row0\" class=\"row_heading level0 row0\" >count</th>\n",
       "      <td id=\"T_36a4d_row0_col0\" class=\"data row0 col0\" >755.00</td>\n",
       "      <td id=\"T_36a4d_row0_col1\" class=\"data row0 col1\" >2767.00</td>\n",
       "    </tr>\n",
       "    <tr>\n",
       "      <th id=\"T_36a4d_level0_row1\" class=\"row_heading level0 row1\" >mean</th>\n",
       "      <td id=\"T_36a4d_row1_col0\" class=\"data row1 col0\" >942940.74</td>\n",
       "      <td id=\"T_36a4d_row1_col1\" class=\"data row1 col1\" >953577.20</td>\n",
       "    </tr>\n",
       "    <tr>\n",
       "      <th id=\"T_36a4d_level0_row2\" class=\"row_heading level0 row2\" >std</th>\n",
       "      <td id=\"T_36a4d_row2_col0\" class=\"data row2 col0\" >126825.69</td>\n",
       "      <td id=\"T_36a4d_row2_col1\" class=\"data row2 col1\" >134674.49</td>\n",
       "    </tr>\n",
       "    <tr>\n",
       "      <th id=\"T_36a4d_level0_row3\" class=\"row_heading level0 row3\" >min</th>\n",
       "      <td id=\"T_36a4d_row3_col0\" class=\"data row3 col0\" >508024.00</td>\n",
       "      <td id=\"T_36a4d_row3_col1\" class=\"data row3 col1\" >414619.00</td>\n",
       "    </tr>\n",
       "    <tr>\n",
       "      <th id=\"T_36a4d_level0_row4\" class=\"row_heading level0 row4\" >25%</th>\n",
       "      <td id=\"T_36a4d_row4_col0\" class=\"data row4 col0\" >860952.50</td>\n",
       "      <td id=\"T_36a4d_row4_col1\" class=\"data row4 col1\" >870635.00</td>\n",
       "    </tr>\n",
       "    <tr>\n",
       "      <th id=\"T_36a4d_level0_row5\" class=\"row_heading level0 row5\" >50%</th>\n",
       "      <td id=\"T_36a4d_row5_col0\" class=\"data row5 col0\" >942344.00</td>\n",
       "      <td id=\"T_36a4d_row5_col1\" class=\"data row5 col1\" >961731.00</td>\n",
       "    </tr>\n",
       "    <tr>\n",
       "      <th id=\"T_36a4d_level0_row6\" class=\"row_heading level0 row6\" >75%</th>\n",
       "      <td id=\"T_36a4d_row6_col0\" class=\"data row6 col0\" >1035720.00</td>\n",
       "      <td id=\"T_36a4d_row6_col1\" class=\"data row6 col1\" >1054025.00</td>\n",
       "    </tr>\n",
       "    <tr>\n",
       "      <th id=\"T_36a4d_level0_row7\" class=\"row_heading level0 row7\" >max</th>\n",
       "      <td id=\"T_36a4d_row7_col0\" class=\"data row7 col0\" >1235730.00</td>\n",
       "      <td id=\"T_36a4d_row7_col1\" class=\"data row7 col1\" >1286060.00</td>\n",
       "    </tr>\n",
       "  </tbody>\n",
       "</table>\n"
      ],
      "text/plain": [
       "<pandas.io.formats.style.Styler at 0x7faf1a3bb940>"
      ]
     },
     "execution_count": 61,
     "metadata": {},
     "output_type": "execute_result"
    }
   ],
   "source": [
    "describe_stats = years_2004_2013.describe().applymap(lambda x: f\"{x:0.2f}\")\n",
    "\n",
    "describe_stats = describe_stats.style.set_table_styles([dict(selector='th', props=[('text-align', 'center')])])\n",
    "describe_stats.set_properties(**{'text-align': 'center'})\n",
    "\n",
    "describe_stats"
   ]
  }
 ],
 "metadata": {
  "kernelspec": {
   "display_name": "Python 3 (ipykernel)",
   "language": "python",
   "name": "python3"
  },
  "language_info": {
   "codemirror_mode": {
    "name": "ipython",
    "version": 3
   },
   "file_extension": ".py",
   "mimetype": "text/x-python",
   "name": "python",
   "nbconvert_exporter": "python",
   "pygments_lexer": "ipython3",
   "version": "3.10.9"
  }
 },
 "nbformat": 4,
 "nbformat_minor": 5
}
