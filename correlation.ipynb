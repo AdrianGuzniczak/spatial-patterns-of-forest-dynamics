{
 "cells": [
  {
   "cell_type": "code",
   "execution_count": 111,
   "id": "fdd9d4d9",
   "metadata": {},
   "outputs": [],
   "source": [
    "import os\n",
    "import geopandas as gpd\n",
    "import numpy as np\n",
    "import pandas as pd"
   ]
  },
  {
   "cell_type": "markdown",
   "id": "5fcaac3c",
   "metadata": {},
   "source": [
    "# data preparation"
   ]
  },
  {
   "cell_type": "markdown",
   "id": "840288dc",
   "metadata": {},
   "source": [
    "### assigning a percentage of the gap area to a tree ID  "
   ]
  },
  {
   "cell_type": "code",
   "execution_count": 112,
   "id": "93ef4bde",
   "metadata": {},
   "outputs": [],
   "source": [
    "NORTH_PATH = './data/correlation_data/mgr - do analizy/North'\n",
    "SOUTH_PATH = './data/correlation_data/mgr - do analizy/South'"
   ]
  },
  {
   "cell_type": "code",
   "execution_count": 113,
   "id": "d2bb96d5",
   "metadata": {},
   "outputs": [],
   "source": [
    "def folder_names(path):\n",
    "    \n",
    "    folders = []\n",
    "    folders = [f for f in sorted(os.listdir(path))]\n",
    "    \n",
    "    return folders"
   ]
  },
  {
   "cell_type": "code",
   "execution_count": 114,
   "id": "2b3a449e",
   "metadata": {},
   "outputs": [],
   "source": [
    "def names_of_files_in_directory(path):\n",
    "\n",
    "    files=[]\n",
    "    files = [f for f in sorted(os.listdir(path)) if f.endswith('.shp')]\n",
    "   \n",
    "    return files"
   ]
  },
  {
   "cell_type": "code",
   "execution_count": 115,
   "id": "31dfc44e",
   "metadata": {},
   "outputs": [],
   "source": [
    "def number_of_erase_shapefiles(files):\n",
    "    count = 0\n",
    "\n",
    "    for element in files:\n",
    "        list_x = element.split('_')\n",
    "        if len(list_x) == 4:\n",
    "            count += 1\n",
    "            \n",
    "    return count"
   ]
  },
  {
   "cell_type": "code",
   "execution_count": 116,
   "id": "860cf316",
   "metadata": {},
   "outputs": [],
   "source": [
    "def create_result_df(path):\n",
    "\n",
    "    for folder_name in folder_names(path):\n",
    "        year = str(folder_name.split('_')[-2])\n",
    "        files = names_of_files_in_directory(path + '/' + folder_name)\n",
    "        number_of_files = number_of_erase_shapefiles(files)\n",
    "        export_path = path + '/' + year + '.csv'\n",
    "\n",
    "        data = {}\n",
    "\n",
    "        for i in range(number_of_files):\n",
    "            file_path = path + '/' + folder_name + '/' + 'martwe_drzewa_' + year + '_Erase' + str(i) + '_CLIP_' + year + '.shp'\n",
    "            df = gpd.read_file(file_path)\n",
    "            data[i] = (df['area_x'].sum() / 157.08) * 100\n",
    "\n",
    "        export_df = pd.DataFrame(data.items(), columns=['ID', 'area'])\n",
    "        export_df.to_csv(path_or_buf = export_path)"
   ]
  },
  {
   "cell_type": "code",
   "execution_count": 117,
   "id": "f7ad4784",
   "metadata": {},
   "outputs": [],
   "source": [
    "# create_result_df(NORTH_PATH)\n",
    "# create_result_df(SOUTH_PATH)"
   ]
  },
  {
   "cell_type": "code",
   "execution_count": null,
   "id": "cfff319d",
   "metadata": {},
   "outputs": [],
   "source": []
  }
 ],
 "metadata": {
  "kernelspec": {
   "display_name": "Python 3 (ipykernel)",
   "language": "python",
   "name": "python3"
  },
  "language_info": {
   "codemirror_mode": {
    "name": "ipython",
    "version": 3
   },
   "file_extension": ".py",
   "mimetype": "text/x-python",
   "name": "python",
   "nbconvert_exporter": "python",
   "pygments_lexer": "ipython3",
   "version": "3.10.9"
  }
 },
 "nbformat": 4,
 "nbformat_minor": 5
}
