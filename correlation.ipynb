{
 "cells": [
  {
   "cell_type": "code",
   "execution_count": 20,
   "id": "fdd9d4d9",
   "metadata": {},
   "outputs": [],
   "source": [
    "import os\n",
    "import geopandas as gpd\n",
    "import numpy as np\n",
    "import pandas as pd\n",
    "import seaborn as sb"
   ]
  },
  {
   "cell_type": "markdown",
   "id": "5fcaac3c",
   "metadata": {},
   "source": [
    "# data preparation"
   ]
  },
  {
   "cell_type": "markdown",
   "id": "840288dc",
   "metadata": {},
   "source": [
    "### assigning a percentage of the gap area to a tree ID  "
   ]
  },
  {
   "cell_type": "code",
   "execution_count": 2,
   "id": "93ef4bde",
   "metadata": {},
   "outputs": [],
   "source": [
    "NORTH_PATH = './data/correlation_data/mgr - do analizy/North'\n",
    "SOUTH_PATH = './data/correlation_data/mgr - do analizy/South'"
   ]
  },
  {
   "cell_type": "code",
   "execution_count": 3,
   "id": "d2bb96d5",
   "metadata": {},
   "outputs": [],
   "source": [
    "def folder_names(path):\n",
    "    \n",
    "    folders = []\n",
    "    folders = [f for f in sorted(os.listdir(path))]\n",
    "    \n",
    "    return folders"
   ]
  },
  {
   "cell_type": "code",
   "execution_count": 4,
   "id": "2b3a449e",
   "metadata": {},
   "outputs": [],
   "source": [
    "def names_of_files_in_directory(path):\n",
    "\n",
    "    files=[]\n",
    "    files = [f for f in sorted(os.listdir(path)) if f.endswith('.shp')]\n",
    "   \n",
    "    return files"
   ]
  },
  {
   "cell_type": "code",
   "execution_count": 5,
   "id": "31dfc44e",
   "metadata": {},
   "outputs": [],
   "source": [
    "def number_of_erase_shapefiles(files):\n",
    "    count = 0\n",
    "\n",
    "    for element in files:\n",
    "        list_x = element.split('_')\n",
    "        if len(list_x) == 4:\n",
    "            count += 1\n",
    "            \n",
    "    return count"
   ]
  },
  {
   "cell_type": "code",
   "execution_count": 6,
   "id": "860cf316",
   "metadata": {},
   "outputs": [],
   "source": [
    "def create_result_df(path):\n",
    "\n",
    "    for folder_name in folder_names(path):\n",
    "        year = str(folder_name.split('_')[-2])\n",
    "        files = names_of_files_in_directory(path + '/' + folder_name)\n",
    "        number_of_files = number_of_erase_shapefiles(files)\n",
    "        export_path = path[:-5] + '/Results/' + path[-5:] +  '/' + year + '.csv'\n",
    "\n",
    "        data = {}\n",
    "\n",
    "        for i in range(number_of_files):\n",
    "            file_path = path + '/' + folder_name + '/' + 'martwe_drzewa_' + year + '_Erase' + str(i) + '_CLIP_' + year + '.shp'\n",
    "            df = gpd.read_file(file_path)\n",
    "            return df\n",
    "            break\n",
    "            \n",
    "            data[i] = (df['area_x'].sum() / 157.08) * 100\n",
    "\n",
    "        export_df = pd.DataFrame(data.items(), columns=['ID', 'area'])\n",
    "        export_df.to_csv(path_or_buf = export_path)\n"
   ]
  },
  {
   "cell_type": "code",
   "execution_count": 7,
   "id": "cca83530",
   "metadata": {},
   "outputs": [],
   "source": [
    "# create_result_df(NORTH_PATH)\n",
    "# create_result_df(SOUTH_PATH)"
   ]
  },
  {
   "cell_type": "markdown",
   "id": "d46889d9",
   "metadata": {},
   "source": [
    "### assigning the diameter at breast height to a tree based on the tree number and ID"
   ]
  },
  {
   "cell_type": "code",
   "execution_count": 8,
   "id": "598462f3",
   "metadata": {},
   "outputs": [],
   "source": [
    "PATH2 = './data/correlation_data/mgr - do analizy/Spatial joins results'\n",
    "PATH3 = './data/correlation_data/mgr - do analizy/Results/North'\n",
    "PATH4 = './data/correlation_data/mgr - do analizy/Results/South'"
   ]
  },
  {
   "cell_type": "code",
   "execution_count": 9,
   "id": "56b105d0",
   "metadata": {},
   "outputs": [
    {
     "data": {
      "text/html": [
       "<div>\n",
       "<style scoped>\n",
       "    .dataframe tbody tr th:only-of-type {\n",
       "        vertical-align: middle;\n",
       "    }\n",
       "\n",
       "    .dataframe tbody tr th {\n",
       "        vertical-align: top;\n",
       "    }\n",
       "\n",
       "    .dataframe thead th {\n",
       "        text-align: right;\n",
       "    }\n",
       "</style>\n",
       "<table border=\"1\" class=\"dataframe\">\n",
       "  <thead>\n",
       "    <tr style=\"text-align: right;\">\n",
       "      <th></th>\n",
       "      <th>numer</th>\n",
       "      <th>kwa</th>\n",
       "      <th>Unnamed: 2</th>\n",
       "      <th>ka</th>\n",
       "      <th>Pierśnica</th>\n",
       "      <th>Rok</th>\n",
       "      <th>Uwagi</th>\n",
       "      <th>kategorie:</th>\n",
       "      <th>1 - stojące</th>\n",
       "    </tr>\n",
       "  </thead>\n",
       "  <tbody>\n",
       "    <tr>\n",
       "      <th>5</th>\n",
       "      <td>6002.0</td>\n",
       "      <td>80</td>\n",
       "      <td>NaN</td>\n",
       "      <td>2</td>\n",
       "      <td>65</td>\n",
       "      <td>2014</td>\n",
       "      <td>NaN</td>\n",
       "      <td>NaN</td>\n",
       "      <td>NaN</td>\n",
       "    </tr>\n",
       "    <tr>\n",
       "      <th>6</th>\n",
       "      <td>6004.0</td>\n",
       "      <td>87.88</td>\n",
       "      <td>NaN</td>\n",
       "      <td>2</td>\n",
       "      <td>50</td>\n",
       "      <td>2014</td>\n",
       "      <td>NaN</td>\n",
       "      <td>NaN</td>\n",
       "      <td>NaN</td>\n",
       "    </tr>\n",
       "    <tr>\n",
       "      <th>7</th>\n",
       "      <td>6006.0</td>\n",
       "      <td>87.88</td>\n",
       "      <td>NaN</td>\n",
       "      <td>2</td>\n",
       "      <td>39</td>\n",
       "      <td>2014</td>\n",
       "      <td>NaN</td>\n",
       "      <td>NaN</td>\n",
       "      <td>NaN</td>\n",
       "    </tr>\n",
       "    <tr>\n",
       "      <th>8</th>\n",
       "      <td>6008.0</td>\n",
       "      <td>101.102</td>\n",
       "      <td>NaN</td>\n",
       "      <td>2</td>\n",
       "      <td>49</td>\n",
       "      <td>2014</td>\n",
       "      <td>NaN</td>\n",
       "      <td>NaN</td>\n",
       "      <td>NaN</td>\n",
       "    </tr>\n",
       "    <tr>\n",
       "      <th>9</th>\n",
       "      <td>6011.0</td>\n",
       "      <td>94.95</td>\n",
       "      <td>NaN</td>\n",
       "      <td>1</td>\n",
       "      <td>36</td>\n",
       "      <td>2014</td>\n",
       "      <td>NaN</td>\n",
       "      <td>NaN</td>\n",
       "      <td>NaN</td>\n",
       "    </tr>\n",
       "  </tbody>\n",
       "</table>\n",
       "</div>"
      ],
      "text/plain": [
       "    numer      kwa  Unnamed: 2  ka Pierśnica   Rok Uwagi  kategorie:  \\\n",
       "5  6002.0       80         NaN   2        65  2014   NaN         NaN   \n",
       "6  6004.0    87.88         NaN   2        50  2014   NaN         NaN   \n",
       "7  6006.0    87.88         NaN   2        39  2014   NaN         NaN   \n",
       "8  6008.0  101.102         NaN   2        49  2014   NaN         NaN   \n",
       "9  6011.0    94.95         NaN   1        36  2014   NaN         NaN   \n",
       "\n",
       "  1 - stojące  \n",
       "5         NaN  \n",
       "6         NaN  \n",
       "7         NaN  \n",
       "8         NaN  \n",
       "9         NaN  "
      ]
     },
     "execution_count": 9,
     "metadata": {},
     "output_type": "execute_result"
    }
   ],
   "source": [
    "dbh_dead = pd.read_excel(r'./data/Martwe pnie od 2014.xls')\n",
    "dbh_dead = dbh_dead[dbh_dead[' pi'].astype(str).str.isdigit()]\n",
    "dbh_dead.rename(columns = {' pi':'Pierśnica'}, inplace = True)\n",
    "dbh_dead.head()"
   ]
  },
  {
   "cell_type": "code",
   "execution_count": 10,
   "id": "bff7c5b4",
   "metadata": {},
   "outputs": [],
   "source": [
    "def assign_stand_gaps(df, year):\n",
    "\n",
    "    north_path = PATH3 + '/' + str(year) + '.csv'\n",
    "    gap_file = pd.read_csv(north_path)\n",
    "    gap_file.rename(columns = {'area': 'north_gap'}, inplace = True)\n",
    "\n",
    "    df = df.merge(gap_file, left_on = 'ORIG_FID', right_on = 'ID')\n",
    "\n",
    "    return df"
   ]
  },
  {
   "cell_type": "code",
   "execution_count": 11,
   "id": "9bfe3701",
   "metadata": {},
   "outputs": [],
   "source": [
    "def assign_dbh_to_number(year, intensity_of_dying ,assign_dbh: bool = False):\n",
    "    \n",
    "    file_path = '{}/{}.shp'.format(PATH2, year)\n",
    "    df = gpd.read_file(file_path)\n",
    "    df.rename(columns = {'areasol_19': 'AreaSol_19', 'piersnica': 'Pierśnica'}, inplace = True)\n",
    "    \n",
    "    if assign_dbh:\n",
    "        try:\n",
    "            df = df.merge(dbh_dead, left_on = 'Numer', right_on = 'numer')\n",
    "        except:\n",
    "            df = df.merge(dbh_dead, left_on = 'numer', right_on = 'numer')\n",
    "            \n",
    "    df = assign_stand_gaps(df, year)\n",
    "\n",
    "    if year == 2014: df['NEAR_DIST'] = 0    \n",
    "    df = df[['layer_name', 'AreaSol_19', 'NEAR_DIST' ,'Pierśnica', 'north_gap']]\n",
    "    df['Pierśnica'] = pd.to_numeric(df['Pierśnica'])\n",
    "    df['gęstość'] = intensity_of_dying\n",
    "    df.replace(0, np.nan, inplace=True)\n",
    "        \n",
    "    return df"
   ]
  },
  {
   "cell_type": "code",
   "execution_count": 12,
   "id": "b4af291f",
   "metadata": {},
   "outputs": [],
   "source": [
    "years_2014_2022 = [\n",
    "    assign_dbh_to_number(2014, 6.180556, True),\n",
    "    assign_dbh_to_number(2015, 8.125000, True),\n",
    "    assign_dbh_to_number(2016, 7.569444, True),\n",
    "    assign_dbh_to_number(2017, 5.694444, True),\n",
    "    assign_dbh_to_number(2018, 4.791667),\n",
    "    assign_dbh_to_number(2019, 1.736111),\n",
    "    assign_dbh_to_number(2020, 1.875000),\n",
    "    #assign_dbh_to_number(2021, 2.430556),\n",
    "    assign_dbh_to_number(2022, 2.638889)]\n",
    "\n",
    "years_2014_2018 = [\n",
    "    assign_dbh_to_number(2014, 6.180556, True),\n",
    "    assign_dbh_to_number(2015, 8.125000, True),\n",
    "    assign_dbh_to_number(2016, 7.569444, True),\n",
    "    assign_dbh_to_number(2017, 5.694444, True),\n",
    "    assign_dbh_to_number(2018, 4.791667)]\n",
    "\n",
    "years_2019_2022 = [\n",
    "    assign_dbh_to_number(2019, 1.736111),\n",
    "    assign_dbh_to_number(2020, 1.875000),\n",
    "    #assign_dbh_to_number(2021, 2.430556),\n",
    "    assign_dbh_to_number(2022, 2.638889)]\n",
    "\n",
    "df_2014_2022 = pd.concat(years_2014_2022, axis = 0)\n",
    "df_2014_2018 = pd.concat(years_2014_2018, axis = 0)\n",
    "df_2019_2022 = pd.concat(years_2014_2022, axis = 0)"
   ]
  },
  {
   "cell_type": "code",
   "execution_count": 16,
   "id": "d5aa96c1",
   "metadata": {},
   "outputs": [
    {
     "data": {
      "text/html": [
       "<div>\n",
       "<style scoped>\n",
       "    .dataframe tbody tr th:only-of-type {\n",
       "        vertical-align: middle;\n",
       "    }\n",
       "\n",
       "    .dataframe tbody tr th {\n",
       "        vertical-align: top;\n",
       "    }\n",
       "\n",
       "    .dataframe thead th {\n",
       "        text-align: right;\n",
       "    }\n",
       "</style>\n",
       "<table border=\"1\" class=\"dataframe\">\n",
       "  <thead>\n",
       "    <tr style=\"text-align: right;\">\n",
       "      <th></th>\n",
       "      <th>AreaSol_19</th>\n",
       "      <th>NEAR_DIST</th>\n",
       "      <th>Pierśnica</th>\n",
       "      <th>north_gap</th>\n",
       "      <th>gęstość</th>\n",
       "    </tr>\n",
       "  </thead>\n",
       "  <tbody>\n",
       "    <tr>\n",
       "      <th>AreaSol_19</th>\n",
       "      <td>1.000000</td>\n",
       "      <td>0.080363</td>\n",
       "      <td>-0.122345</td>\n",
       "      <td>-0.004179</td>\n",
       "      <td>-0.045897</td>\n",
       "    </tr>\n",
       "    <tr>\n",
       "      <th>NEAR_DIST</th>\n",
       "      <td>0.080363</td>\n",
       "      <td>1.000000</td>\n",
       "      <td>-0.039988</td>\n",
       "      <td>-0.094003</td>\n",
       "      <td>-0.004299</td>\n",
       "    </tr>\n",
       "    <tr>\n",
       "      <th>Pierśnica</th>\n",
       "      <td>-0.122345</td>\n",
       "      <td>-0.039988</td>\n",
       "      <td>1.000000</td>\n",
       "      <td>0.045012</td>\n",
       "      <td>0.000725</td>\n",
       "    </tr>\n",
       "    <tr>\n",
       "      <th>north_gap</th>\n",
       "      <td>-0.004179</td>\n",
       "      <td>-0.094003</td>\n",
       "      <td>0.045012</td>\n",
       "      <td>1.000000</td>\n",
       "      <td>-0.213060</td>\n",
       "    </tr>\n",
       "    <tr>\n",
       "      <th>gęstość</th>\n",
       "      <td>-0.045897</td>\n",
       "      <td>-0.004299</td>\n",
       "      <td>0.000725</td>\n",
       "      <td>-0.213060</td>\n",
       "      <td>1.000000</td>\n",
       "    </tr>\n",
       "  </tbody>\n",
       "</table>\n",
       "</div>"
      ],
      "text/plain": [
       "            AreaSol_19  NEAR_DIST  Pierśnica  north_gap   gęstość\n",
       "AreaSol_19    1.000000   0.080363  -0.122345  -0.004179 -0.045897\n",
       "NEAR_DIST     0.080363   1.000000  -0.039988  -0.094003 -0.004299\n",
       "Pierśnica    -0.122345  -0.039988   1.000000   0.045012  0.000725\n",
       "north_gap    -0.004179  -0.094003   0.045012   1.000000 -0.213060\n",
       "gęstość      -0.045897  -0.004299   0.000725  -0.213060  1.000000"
      ]
     },
     "execution_count": 16,
     "metadata": {},
     "output_type": "execute_result"
    }
   ],
   "source": [
    "pearson_df = df_2014_2022.iloc[:,1:].corr(method = 'pearson')\n",
    "pearson_df"
   ]
  },
  {
   "cell_type": "code",
   "execution_count": 17,
   "id": "f20d5196",
   "metadata": {},
   "outputs": [
    {
     "data": {
      "text/html": [
       "<div>\n",
       "<style scoped>\n",
       "    .dataframe tbody tr th:only-of-type {\n",
       "        vertical-align: middle;\n",
       "    }\n",
       "\n",
       "    .dataframe tbody tr th {\n",
       "        vertical-align: top;\n",
       "    }\n",
       "\n",
       "    .dataframe thead th {\n",
       "        text-align: right;\n",
       "    }\n",
       "</style>\n",
       "<table border=\"1\" class=\"dataframe\">\n",
       "  <thead>\n",
       "    <tr style=\"text-align: right;\">\n",
       "      <th></th>\n",
       "      <th>AreaSol_19</th>\n",
       "      <th>NEAR_DIST</th>\n",
       "      <th>Pierśnica</th>\n",
       "      <th>north_gap</th>\n",
       "      <th>gęstość</th>\n",
       "    </tr>\n",
       "  </thead>\n",
       "  <tbody>\n",
       "    <tr>\n",
       "      <th>AreaSol_19</th>\n",
       "      <td>1.000000</td>\n",
       "      <td>0.058838</td>\n",
       "      <td>-0.085202</td>\n",
       "      <td>0.018559</td>\n",
       "      <td>-0.086627</td>\n",
       "    </tr>\n",
       "    <tr>\n",
       "      <th>NEAR_DIST</th>\n",
       "      <td>0.058838</td>\n",
       "      <td>1.000000</td>\n",
       "      <td>-0.013613</td>\n",
       "      <td>-0.068225</td>\n",
       "      <td>-0.032165</td>\n",
       "    </tr>\n",
       "    <tr>\n",
       "      <th>Pierśnica</th>\n",
       "      <td>-0.085202</td>\n",
       "      <td>-0.013613</td>\n",
       "      <td>1.000000</td>\n",
       "      <td>0.029025</td>\n",
       "      <td>0.027775</td>\n",
       "    </tr>\n",
       "    <tr>\n",
       "      <th>north_gap</th>\n",
       "      <td>0.018559</td>\n",
       "      <td>-0.068225</td>\n",
       "      <td>0.029025</td>\n",
       "      <td>1.000000</td>\n",
       "      <td>-0.160306</td>\n",
       "    </tr>\n",
       "    <tr>\n",
       "      <th>gęstość</th>\n",
       "      <td>-0.086627</td>\n",
       "      <td>-0.032165</td>\n",
       "      <td>0.027775</td>\n",
       "      <td>-0.160306</td>\n",
       "      <td>1.000000</td>\n",
       "    </tr>\n",
       "  </tbody>\n",
       "</table>\n",
       "</div>"
      ],
      "text/plain": [
       "            AreaSol_19  NEAR_DIST  Pierśnica  north_gap   gęstość\n",
       "AreaSol_19    1.000000   0.058838  -0.085202   0.018559 -0.086627\n",
       "NEAR_DIST     0.058838   1.000000  -0.013613  -0.068225 -0.032165\n",
       "Pierśnica    -0.085202  -0.013613   1.000000   0.029025  0.027775\n",
       "north_gap     0.018559  -0.068225   0.029025   1.000000 -0.160306\n",
       "gęstość      -0.086627  -0.032165   0.027775  -0.160306  1.000000"
      ]
     },
     "execution_count": 17,
     "metadata": {},
     "output_type": "execute_result"
    }
   ],
   "source": [
    "kendall_df = df_2014_2022.iloc[:,1:].corr(method = 'kendall')\n",
    "kendall_df"
   ]
  },
  {
   "cell_type": "code",
   "execution_count": 18,
   "id": "f0f2120e",
   "metadata": {},
   "outputs": [
    {
     "data": {
      "text/html": [
       "<div>\n",
       "<style scoped>\n",
       "    .dataframe tbody tr th:only-of-type {\n",
       "        vertical-align: middle;\n",
       "    }\n",
       "\n",
       "    .dataframe tbody tr th {\n",
       "        vertical-align: top;\n",
       "    }\n",
       "\n",
       "    .dataframe thead th {\n",
       "        text-align: right;\n",
       "    }\n",
       "</style>\n",
       "<table border=\"1\" class=\"dataframe\">\n",
       "  <thead>\n",
       "    <tr style=\"text-align: right;\">\n",
       "      <th></th>\n",
       "      <th>AreaSol_19</th>\n",
       "      <th>NEAR_DIST</th>\n",
       "      <th>Pierśnica</th>\n",
       "      <th>north_gap</th>\n",
       "      <th>gęstość</th>\n",
       "    </tr>\n",
       "  </thead>\n",
       "  <tbody>\n",
       "    <tr>\n",
       "      <th>AreaSol_19</th>\n",
       "      <td>1.000000</td>\n",
       "      <td>0.091099</td>\n",
       "      <td>-0.126358</td>\n",
       "      <td>0.026803</td>\n",
       "      <td>-0.120733</td>\n",
       "    </tr>\n",
       "    <tr>\n",
       "      <th>NEAR_DIST</th>\n",
       "      <td>0.091099</td>\n",
       "      <td>1.000000</td>\n",
       "      <td>-0.018151</td>\n",
       "      <td>-0.103780</td>\n",
       "      <td>-0.039994</td>\n",
       "    </tr>\n",
       "    <tr>\n",
       "      <th>Pierśnica</th>\n",
       "      <td>-0.126358</td>\n",
       "      <td>-0.018151</td>\n",
       "      <td>1.000000</td>\n",
       "      <td>0.043199</td>\n",
       "      <td>0.036573</td>\n",
       "    </tr>\n",
       "    <tr>\n",
       "      <th>north_gap</th>\n",
       "      <td>0.026803</td>\n",
       "      <td>-0.103780</td>\n",
       "      <td>0.043199</td>\n",
       "      <td>1.000000</td>\n",
       "      <td>-0.221980</td>\n",
       "    </tr>\n",
       "    <tr>\n",
       "      <th>gęstość</th>\n",
       "      <td>-0.120733</td>\n",
       "      <td>-0.039994</td>\n",
       "      <td>0.036573</td>\n",
       "      <td>-0.221980</td>\n",
       "      <td>1.000000</td>\n",
       "    </tr>\n",
       "  </tbody>\n",
       "</table>\n",
       "</div>"
      ],
      "text/plain": [
       "            AreaSol_19  NEAR_DIST  Pierśnica  north_gap   gęstość\n",
       "AreaSol_19    1.000000   0.091099  -0.126358   0.026803 -0.120733\n",
       "NEAR_DIST     0.091099   1.000000  -0.018151  -0.103780 -0.039994\n",
       "Pierśnica    -0.126358  -0.018151   1.000000   0.043199  0.036573\n",
       "north_gap     0.026803  -0.103780   0.043199   1.000000 -0.221980\n",
       "gęstość      -0.120733  -0.039994   0.036573  -0.221980  1.000000"
      ]
     },
     "execution_count": 18,
     "metadata": {},
     "output_type": "execute_result"
    }
   ],
   "source": [
    "spearman_df = df_2014_2022.iloc[:,1:].corr(method = 'spearman')\n",
    "spearman_df"
   ]
  },
  {
   "cell_type": "markdown",
   "id": "ea96d80c",
   "metadata": {},
   "source": [
    "### correlation heatmaps"
   ]
  },
  {
   "cell_type": "code",
   "execution_count": 28,
   "id": "a6663164",
   "metadata": {},
   "outputs": [
    {
     "data": {
      "image/png": "[encoded data removed]",
      "text/plain": [
       "<Figure size 640x480 with 2 Axes>"
      ]
     },
     "metadata": {},
     "output_type": "display_data"
    }
   ],
   "source": [
    "mask = np.triu(np.ones_like(pearson_df))\n",
    "pearson_plot = sb.heatmap(pearson_df, cmap=\"vlag\", annot=True, mask=mask, vmin=-1, vmax=1)"
   ]
  },
  {
   "cell_type": "code",
   "execution_count": 27,
   "id": "ce5ef1de",
   "metadata": {},
   "outputs": [
    {
     "data": {
      "image/png": "[encoded data removed]",
      "text/plain": [
       "<Figure size 640x480 with 2 Axes>"
      ]
     },
     "metadata": {},
     "output_type": "display_data"
    }
   ],
   "source": [
    "mask = np.triu(np.ones_like(kendall_df))\n",
    "kendall_plot = sb.heatmap(kendall_df, cmap=\"vlag\", annot=True, mask=mask, vmin=-1, vmax=1)"
   ]
  },
  {
   "cell_type": "code",
   "execution_count": 26,
   "id": "c96c4205",
   "metadata": {},
   "outputs": [
    {
     "data": {
      "image/png": "[encoded data removed]",
      "text/plain": [
       "<Figure size 640x480 with 2 Axes>"
      ]
     },
     "metadata": {},
     "output_type": "display_data"
    }
   ],
   "source": [
    "mask = np.triu(np.ones_like(spearman_df))\n",
    "spearman_plot = sb.heatmap(spearman_df, cmap=\"vlag\", annot=True, mask=mask, vmin=-1, vmax=1)"
   ]
  },
  {
   "cell_type": "code",
   "execution_count": null,
   "id": "defe4467",
   "metadata": {},
   "outputs": [],
   "source": []
  }
 ],
 "metadata": {
  "kernelspec": {
   "display_name": "Python 3 (ipykernel)",
   "language": "python",
   "name": "python3"
  },
  "language_info": {
   "codemirror_mode": {
    "name": "ipython",
    "version": 3
   },
   "file_extension": ".py",
   "mimetype": "text/x-python",
   "name": "python",
   "nbconvert_exporter": "python",
   "pygments_lexer": "ipython3",
   "version": "3.10.9"
  }
 },
 "nbformat": 4,
 "nbformat_minor": 5
}
