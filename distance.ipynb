{
 "cells": [
  {
   "cell_type": "code",
   "execution_count": 1,
   "id": "b0875dbe",
   "metadata": {},
   "outputs": [],
   "source": [
    "import glob\n",
    "import os\n",
    "import pandas as pd\n",
    "import seaborn as sns\n",
    "import matplotlib.pyplot as plt\n",
    "from scipy.stats import ks_2samp"
   ]
  },
  {
   "cell_type": "markdown",
   "id": "9c2ed06b",
   "metadata": {},
   "source": [
    "### data import"
   ]
  },
  {
   "cell_type": "code",
   "execution_count": 2,
   "id": "14de5d8b",
   "metadata": {},
   "outputs": [],
   "source": [
    "def concat_dfs(directory):\n",
    "    files = glob.glob(directory)\n",
    "    df = []\n",
    "\n",
    "    for f in files:   \n",
    "        col_name = f.split('/')[-1].split('.')[0]\n",
    "        csv = pd.read_excel(f, names = [col_name], keep_default_na=False)\n",
    "        csv.reset_index(drop=True, inplace=True)\n",
    "        df.append(csv)\n",
    "    \n",
    "    df2 = pd.concat(df,axis=1)\n",
    "    return df2.reindex(sorted(df2.columns), axis=1)"
   ]
  },
  {
   "cell_type": "code",
   "execution_count": 3,
   "id": "872f2a48",
   "metadata": {},
   "outputs": [
    {
     "data": {
      "text/html": [
       "<div>\n",
       "<style scoped>\n",
       "    .dataframe tbody tr th:only-of-type {\n",
       "        vertical-align: middle;\n",
       "    }\n",
       "\n",
       "    .dataframe tbody tr th {\n",
       "        vertical-align: top;\n",
       "    }\n",
       "\n",
       "    .dataframe thead th {\n",
       "        text-align: right;\n",
       "    }\n",
       "</style>\n",
       "<table border=\"1\" class=\"dataframe\">\n",
       "  <thead>\n",
       "    <tr style=\"text-align: right;\">\n",
       "      <th></th>\n",
       "      <th>2015</th>\n",
       "      <th>2016</th>\n",
       "      <th>2017</th>\n",
       "      <th>2018</th>\n",
       "      <th>2019</th>\n",
       "      <th>2020</th>\n",
       "      <th>2021</th>\n",
       "      <th>2022</th>\n",
       "    </tr>\n",
       "  </thead>\n",
       "  <tbody>\n",
       "    <tr>\n",
       "      <th>0</th>\n",
       "      <td>73.630776</td>\n",
       "      <td>40.733856</td>\n",
       "      <td>55.765217</td>\n",
       "      <td>47.733899</td>\n",
       "      <td>44.712683</td>\n",
       "      <td>68.068858</td>\n",
       "      <td>80.617433</td>\n",
       "      <td>144.036001</td>\n",
       "    </tr>\n",
       "    <tr>\n",
       "      <th>1</th>\n",
       "      <td>65.993944</td>\n",
       "      <td>30.052517</td>\n",
       "      <td>59.066688</td>\n",
       "      <td>37.764794</td>\n",
       "      <td>34.545800</td>\n",
       "      <td>73.079181</td>\n",
       "      <td>81.094321</td>\n",
       "      <td>144.094686</td>\n",
       "    </tr>\n",
       "    <tr>\n",
       "      <th>2</th>\n",
       "      <td>72.406274</td>\n",
       "      <td>41.399081</td>\n",
       "      <td>51.507782</td>\n",
       "      <td>47.882672</td>\n",
       "      <td>45.013870</td>\n",
       "      <td>63.563303</td>\n",
       "      <td>76.801352</td>\n",
       "      <td>140.200566</td>\n",
       "    </tr>\n",
       "    <tr>\n",
       "      <th>3</th>\n",
       "      <td>68.192390</td>\n",
       "      <td>36.628407</td>\n",
       "      <td>50.885907</td>\n",
       "      <td>43.172182</td>\n",
       "      <td>40.277521</td>\n",
       "      <td>63.796179</td>\n",
       "      <td>75.171119</td>\n",
       "      <td>138.578350</td>\n",
       "    </tr>\n",
       "    <tr>\n",
       "      <th>4</th>\n",
       "      <td>70.552659</td>\n",
       "      <td>40.196859</td>\n",
       "      <td>49.551987</td>\n",
       "      <td>46.470704</td>\n",
       "      <td>43.663515</td>\n",
       "      <td>61.804577</td>\n",
       "      <td>74.710270</td>\n",
       "      <td>138.115829</td>\n",
       "    </tr>\n",
       "  </tbody>\n",
       "</table>\n",
       "</div>"
      ],
      "text/plain": [
       "        2015       2016       2017       2018       2019       2020  \\\n",
       "0  73.630776  40.733856  55.765217  47.733899  44.712683  68.068858   \n",
       "1  65.993944  30.052517  59.066688  37.764794  34.545800  73.079181   \n",
       "2  72.406274  41.399081  51.507782  47.882672  45.013870  63.563303   \n",
       "3  68.192390  36.628407  50.885907  43.172182  40.277521  63.796179   \n",
       "4  70.552659  40.196859  49.551987  46.470704  43.663515  61.804577   \n",
       "\n",
       "        2021        2022  \n",
       "0  80.617433  144.036001  \n",
       "1  81.094321  144.094686  \n",
       "2  76.801352  140.200566  \n",
       "3  75.171119  138.578350  \n",
       "4  74.710270  138.115829  "
      ]
     },
     "execution_count": 3,
     "metadata": {},
     "output_type": "execute_result"
    }
   ],
   "source": [
    "living_trees = concat_dfs(r'./data/zywe_drzewa_tabele/*.xls').drop(columns = ['1992', '2003', '2013', '2014'])\n",
    "living_trees.head()"
   ]
  },
  {
   "cell_type": "code",
   "execution_count": 4,
   "id": "31bc1576",
   "metadata": {},
   "outputs": [
    {
     "data": {
      "text/html": [
       "<div>\n",
       "<style scoped>\n",
       "    .dataframe tbody tr th:only-of-type {\n",
       "        vertical-align: middle;\n",
       "    }\n",
       "\n",
       "    .dataframe tbody tr th {\n",
       "        vertical-align: top;\n",
       "    }\n",
       "\n",
       "    .dataframe thead th {\n",
       "        text-align: right;\n",
       "    }\n",
       "</style>\n",
       "<table border=\"1\" class=\"dataframe\">\n",
       "  <thead>\n",
       "    <tr style=\"text-align: right;\">\n",
       "      <th></th>\n",
       "      <th>2015</th>\n",
       "      <th>2016</th>\n",
       "      <th>2017</th>\n",
       "      <th>2018</th>\n",
       "      <th>2019</th>\n",
       "      <th>2020</th>\n",
       "      <th>2021</th>\n",
       "      <th>2022</th>\n",
       "    </tr>\n",
       "  </thead>\n",
       "  <tbody>\n",
       "    <tr>\n",
       "      <th>0</th>\n",
       "      <td>3.286743</td>\n",
       "      <td>49.691393</td>\n",
       "      <td>66.533088</td>\n",
       "      <td>62.467834</td>\n",
       "      <td>48.611588</td>\n",
       "      <td>98.525047</td>\n",
       "      <td>124.008671</td>\n",
       "      <td>124.008671</td>\n",
       "    </tr>\n",
       "    <tr>\n",
       "      <th>1</th>\n",
       "      <td>2.973508</td>\n",
       "      <td>14.507769</td>\n",
       "      <td>68.030387</td>\n",
       "      <td>70.373049</td>\n",
       "      <td>62.979225</td>\n",
       "      <td>30.179306</td>\n",
       "      <td>109.206454</td>\n",
       "      <td>109.206454</td>\n",
       "    </tr>\n",
       "    <tr>\n",
       "      <th>2</th>\n",
       "      <td>4.581918</td>\n",
       "      <td>66.890127</td>\n",
       "      <td>72.418628</td>\n",
       "      <td>65.443224</td>\n",
       "      <td>31.186597</td>\n",
       "      <td>40.847911</td>\n",
       "      <td>113.883070</td>\n",
       "      <td>113.883070</td>\n",
       "    </tr>\n",
       "    <tr>\n",
       "      <th>3</th>\n",
       "      <td>2.167089</td>\n",
       "      <td>62.034711</td>\n",
       "      <td>84.857739</td>\n",
       "      <td>19.298963</td>\n",
       "      <td>6.001604</td>\n",
       "      <td>72.520293</td>\n",
       "      <td>111.021580</td>\n",
       "      <td>111.021580</td>\n",
       "    </tr>\n",
       "    <tr>\n",
       "      <th>4</th>\n",
       "      <td>6.149053</td>\n",
       "      <td>58.897383</td>\n",
       "      <td>57.784577</td>\n",
       "      <td>48.774192</td>\n",
       "      <td>19.739388</td>\n",
       "      <td>30.088921</td>\n",
       "      <td>17.182465</td>\n",
       "      <td>17.182465</td>\n",
       "    </tr>\n",
       "  </tbody>\n",
       "</table>\n",
       "</div>"
      ],
      "text/plain": [
       "       2015       2016       2017       2018       2019       2020  \\\n",
       "0  3.286743  49.691393  66.533088  62.467834  48.611588  98.525047   \n",
       "1  2.973508  14.507769  68.030387  70.373049  62.979225  30.179306   \n",
       "2  4.581918  66.890127  72.418628  65.443224  31.186597  40.847911   \n",
       "3  2.167089  62.034711  84.857739  19.298963   6.001604  72.520293   \n",
       "4  6.149053  58.897383  57.784577  48.774192  19.739388  30.088921   \n",
       "\n",
       "         2021        2022  \n",
       "0  124.008671  124.008671  \n",
       "1  109.206454  109.206454  \n",
       "2  113.883070  113.883070  \n",
       "3  111.021580  111.021580  \n",
       "4   17.182465   17.182465  "
      ]
     },
     "execution_count": 4,
     "metadata": {},
     "output_type": "execute_result"
    }
   ],
   "source": [
    "dead_trees = concat_dfs(r'./data/martwe_drzewa_tabele/*.xls').drop(columns = ['1993_2003', '2004_2013', '2014'])\n",
    "dead_trees.head()"
   ]
  },
  {
   "cell_type": "markdown",
   "id": "66d0f78a",
   "metadata": {},
   "source": [
    "### preview of feature structure"
   ]
  },
  {
   "cell_type": "code",
   "execution_count": 5,
   "id": "16998f99",
   "metadata": {},
   "outputs": [
    {
     "data": {
      "text/plain": [
       "Text(0.5, 0, 'Rok')"
      ]
     },
     "execution_count": 5,
     "metadata": {},
     "output_type": "execute_result"
    },
    {
     "data": {
      "image/png": "[encoded data removed]",
      "text/plain": [
       "<Figure size 1800x600 with 2 Axes>"
      ]
     },
     "metadata": {},
     "output_type": "display_data"
    }
   ],
   "source": [
    "fig, ax = plt.subplots(nrows=1, ncols=2, figsize=(18, 6))\n",
    "\n",
    "sns.boxplot(living_trees, ax=ax[0])\n",
    "\n",
    "ax[0].set(title='Żywe drzewa')\n",
    "ax[0].set_ylabel(\"Odległość od martwego drzewa(m)\")\n",
    "ax[0].set_xlabel(\"Rok\")\n",
    "\n",
    "sns.boxplot(dead_trees, ax=ax[1])\n",
    "\n",
    "ax[1].set(title='Martwe drzewa')\n",
    "ax[1].set_ylabel(\"Odległość od martwego drzewa(m)\")\n",
    "ax[1].set_xlabel(\"Rok\")"
   ]
  },
  {
   "cell_type": "markdown",
   "id": "88a83405",
   "metadata": {},
   "source": [
    "### analysis of stand dieback periods"
   ]
  },
  {
   "cell_type": "code",
   "execution_count": 6,
   "id": "fd76898e",
   "metadata": {},
   "outputs": [],
   "source": [
    "living_2015_2018 = pd.melt(living_trees[['2015', '2016', '2017', '2018']]).dropna()['value']\n",
    "living_2019_2022 = pd.melt(living_trees[['2019', '2020', '2021', '2022']]).dropna()['value']\n",
    "living_2015_2022 = pd.melt(living_trees[['2015', '2016', '2017', '2018' ,'2019', '2020', '2021', '2022']]).dropna()['value']\n",
    "\n",
    "dead_2015_2018 = pd.melt(dead_trees[['2015', '2016', '2017', '2018']]).dropna()['value']\n",
    "dead_2019_2022 = pd.melt(dead_trees[['2019', '2020', '2021', '2022']]).dropna()['value']\n",
    "dead_2015_2022 = pd.melt(dead_trees[['2015', '2016', '2017', '2018' ,'2019', '2020', '2021', '2022']]).dropna()['value']"
   ]
  },
  {
   "cell_type": "markdown",
   "id": "46915bed",
   "metadata": {},
   "source": [
    "#### 2015-2018"
   ]
  },
  {
   "cell_type": "code",
   "execution_count": 7,
   "id": "d6a3d771",
   "metadata": {},
   "outputs": [
    {
     "data": {
      "text/plain": [
       "KstestResult(statistic=0.09165512767395713, pvalue=0.004064755536857501)"
      ]
     },
     "execution_count": 7,
     "metadata": {},
     "output_type": "execute_result"
    }
   ],
   "source": [
    "ks_2samp(living_2015_2018, dead_2015_2018)"
   ]
  },
  {
   "cell_type": "markdown",
   "id": "0b3e4a78",
   "metadata": {},
   "source": [
    "#### 2019-2022"
   ]
  },
  {
   "cell_type": "code",
   "execution_count": 8,
   "id": "b2cbaaf8",
   "metadata": {},
   "outputs": [
    {
     "data": {
      "text/plain": [
       "KstestResult(statistic=0.22067563690473296, pvalue=2.4562131770261772e-05)"
      ]
     },
     "execution_count": 8,
     "metadata": {},
     "output_type": "execute_result"
    }
   ],
   "source": [
    "ks_2samp(living_2019_2022, dead_2019_2022)"
   ]
  },
  {
   "cell_type": "markdown",
   "id": "051b5616",
   "metadata": {},
   "source": [
    "#### 2015-2022"
   ]
  },
  {
   "cell_type": "code",
   "execution_count": 9,
   "id": "60060334",
   "metadata": {},
   "outputs": [
    {
     "data": {
      "text/plain": [
       "KstestResult(statistic=0.13236046455755957, pvalue=8.274596171969687e-08)"
      ]
     },
     "execution_count": 9,
     "metadata": {},
     "output_type": "execute_result"
    }
   ],
   "source": [
    "ks_2samp(living_2015_2022, dead_2015_2022)"
   ]
  }
 ],
 "metadata": {
  "kernelspec": {
   "display_name": "Python 3 (ipykernel)",
   "language": "python",
   "name": "python3"
  },
  "language_info": {
   "codemirror_mode": {
    "name": "ipython",
    "version": 3
   },
   "file_extension": ".py",
   "mimetype": "text/x-python",
   "name": "python",
   "nbconvert_exporter": "python",
   "pygments_lexer": "ipython3",
   "version": "3.10.9"
  }
 },
 "nbformat": 4,
 "nbformat_minor": 5
}
