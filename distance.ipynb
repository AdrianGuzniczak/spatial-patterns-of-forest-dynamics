{
 "cells": [
  {
   "cell_type": "code",
   "execution_count": 191,
   "id": "b0875dbe",
   "metadata": {},
   "outputs": [],
   "source": [
    "import glob\n",
    "import os\n",
    "import pandas as pd\n",
    "import seaborn as sns\n",
    "import matplotlib.pyplot as plt\n",
    "from scipy.stats import ks_2samp"
   ]
  },
  {
   "cell_type": "markdown",
   "id": "9c2ed06b",
   "metadata": {},
   "source": [
    "### data import"
   ]
  },
  {
   "cell_type": "code",
   "execution_count": 192,
   "id": "14de5d8b",
   "metadata": {},
   "outputs": [],
   "source": [
    "def concat_dfs(directory):\n",
    "    files = glob.glob(directory)\n",
    "    df = []\n",
    "\n",
    "    for f in files:   \n",
    "        col_name = f.split('/')[-1].split('.')[0]\n",
    "        csv = pd.read_excel(f, names = [col_name], keep_default_na=False)\n",
    "        csv.reset_index(drop=True, inplace=True)\n",
    "        df.append(csv)\n",
    "    \n",
    "    df2 = pd.concat(df,axis=1)\n",
    "    return df2.reindex(sorted(df2.columns), axis=1)"
   ]
  },
  {
   "cell_type": "code",
   "execution_count": 193,
   "id": "872f2a48",
   "metadata": {},
   "outputs": [
    {
     "data": {
      "text/html": [
       "<div>\n",
       "<style scoped>\n",
       "    .dataframe tbody tr th:only-of-type {\n",
       "        vertical-align: middle;\n",
       "    }\n",
       "\n",
       "    .dataframe tbody tr th {\n",
       "        vertical-align: top;\n",
       "    }\n",
       "\n",
       "    .dataframe thead th {\n",
       "        text-align: right;\n",
       "    }\n",
       "</style>\n",
       "<table border=\"1\" class=\"dataframe\">\n",
       "  <thead>\n",
       "    <tr style=\"text-align: right;\">\n",
       "      <th></th>\n",
       "      <th>2015</th>\n",
       "      <th>2016</th>\n",
       "      <th>2017</th>\n",
       "      <th>2018</th>\n",
       "      <th>2019</th>\n",
       "      <th>2020</th>\n",
       "      <th>2021</th>\n",
       "      <th>2022</th>\n",
       "    </tr>\n",
       "  </thead>\n",
       "  <tbody>\n",
       "    <tr>\n",
       "      <th>0</th>\n",
       "      <td>73.630776</td>\n",
       "      <td>40.733856</td>\n",
       "      <td>55.765217</td>\n",
       "      <td>47.733899</td>\n",
       "      <td>44.712683</td>\n",
       "      <td>68.068858</td>\n",
       "      <td>80.617433</td>\n",
       "      <td>144.036001</td>\n",
       "    </tr>\n",
       "    <tr>\n",
       "      <th>1</th>\n",
       "      <td>65.993944</td>\n",
       "      <td>30.052517</td>\n",
       "      <td>59.066688</td>\n",
       "      <td>37.764794</td>\n",
       "      <td>34.545800</td>\n",
       "      <td>73.079181</td>\n",
       "      <td>81.094321</td>\n",
       "      <td>144.094686</td>\n",
       "    </tr>\n",
       "    <tr>\n",
       "      <th>2</th>\n",
       "      <td>72.406274</td>\n",
       "      <td>41.399081</td>\n",
       "      <td>51.507782</td>\n",
       "      <td>47.882672</td>\n",
       "      <td>45.013870</td>\n",
       "      <td>63.563303</td>\n",
       "      <td>76.801352</td>\n",
       "      <td>140.200566</td>\n",
       "    </tr>\n",
       "    <tr>\n",
       "      <th>3</th>\n",
       "      <td>68.192390</td>\n",
       "      <td>36.628407</td>\n",
       "      <td>50.885907</td>\n",
       "      <td>43.172182</td>\n",
       "      <td>40.277521</td>\n",
       "      <td>63.796179</td>\n",
       "      <td>75.171119</td>\n",
       "      <td>138.578350</td>\n",
       "    </tr>\n",
       "    <tr>\n",
       "      <th>4</th>\n",
       "      <td>70.552659</td>\n",
       "      <td>40.196859</td>\n",
       "      <td>49.551987</td>\n",
       "      <td>46.470704</td>\n",
       "      <td>43.663515</td>\n",
       "      <td>61.804577</td>\n",
       "      <td>74.710270</td>\n",
       "      <td>138.115829</td>\n",
       "    </tr>\n",
       "  </tbody>\n",
       "</table>\n",
       "</div>"
      ],
      "text/plain": [
       "        2015       2016       2017       2018       2019       2020  \\\n",
       "0  73.630776  40.733856  55.765217  47.733899  44.712683  68.068858   \n",
       "1  65.993944  30.052517  59.066688  37.764794  34.545800  73.079181   \n",
       "2  72.406274  41.399081  51.507782  47.882672  45.013870  63.563303   \n",
       "3  68.192390  36.628407  50.885907  43.172182  40.277521  63.796179   \n",
       "4  70.552659  40.196859  49.551987  46.470704  43.663515  61.804577   \n",
       "\n",
       "        2021        2022  \n",
       "0  80.617433  144.036001  \n",
       "1  81.094321  144.094686  \n",
       "2  76.801352  140.200566  \n",
       "3  75.171119  138.578350  \n",
       "4  74.710270  138.115829  "
      ]
     },
     "execution_count": 193,
     "metadata": {},
     "output_type": "execute_result"
    }
   ],
   "source": [
    "living_trees = concat_dfs(r'./data/zywe_drzewa_tabele/*.xls').drop(columns = ['1992', '2003', '2013', '2014'])\n",
    "living_trees.head()"
   ]
  },
  {
   "cell_type": "code",
   "execution_count": 194,
   "id": "31bc1576",
   "metadata": {},
   "outputs": [
    {
     "data": {
      "text/html": [
       "<div>\n",
       "<style scoped>\n",
       "    .dataframe tbody tr th:only-of-type {\n",
       "        vertical-align: middle;\n",
       "    }\n",
       "\n",
       "    .dataframe tbody tr th {\n",
       "        vertical-align: top;\n",
       "    }\n",
       "\n",
       "    .dataframe thead th {\n",
       "        text-align: right;\n",
       "    }\n",
       "</style>\n",
       "<table border=\"1\" class=\"dataframe\">\n",
       "  <thead>\n",
       "    <tr style=\"text-align: right;\">\n",
       "      <th></th>\n",
       "      <th>2015</th>\n",
       "      <th>2016</th>\n",
       "      <th>2017</th>\n",
       "      <th>2018</th>\n",
       "      <th>2019</th>\n",
       "      <th>2020</th>\n",
       "      <th>2021</th>\n",
       "      <th>2022</th>\n",
       "    </tr>\n",
       "  </thead>\n",
       "  <tbody>\n",
       "    <tr>\n",
       "      <th>0</th>\n",
       "      <td>3.286743</td>\n",
       "      <td>49.691393</td>\n",
       "      <td>66.533088</td>\n",
       "      <td>62.467834</td>\n",
       "      <td>48.611588</td>\n",
       "      <td>98.525047</td>\n",
       "      <td>124.008671</td>\n",
       "      <td>124.008671</td>\n",
       "    </tr>\n",
       "    <tr>\n",
       "      <th>1</th>\n",
       "      <td>2.973508</td>\n",
       "      <td>14.507769</td>\n",
       "      <td>68.030387</td>\n",
       "      <td>70.373049</td>\n",
       "      <td>62.979225</td>\n",
       "      <td>30.179306</td>\n",
       "      <td>109.206454</td>\n",
       "      <td>109.206454</td>\n",
       "    </tr>\n",
       "    <tr>\n",
       "      <th>2</th>\n",
       "      <td>4.581918</td>\n",
       "      <td>66.890127</td>\n",
       "      <td>72.418628</td>\n",
       "      <td>65.443224</td>\n",
       "      <td>31.186597</td>\n",
       "      <td>40.847911</td>\n",
       "      <td>113.883070</td>\n",
       "      <td>113.883070</td>\n",
       "    </tr>\n",
       "    <tr>\n",
       "      <th>3</th>\n",
       "      <td>2.167089</td>\n",
       "      <td>62.034711</td>\n",
       "      <td>84.857739</td>\n",
       "      <td>19.298963</td>\n",
       "      <td>6.001604</td>\n",
       "      <td>72.520293</td>\n",
       "      <td>111.021580</td>\n",
       "      <td>111.021580</td>\n",
       "    </tr>\n",
       "    <tr>\n",
       "      <th>4</th>\n",
       "      <td>6.149053</td>\n",
       "      <td>58.897383</td>\n",
       "      <td>57.784577</td>\n",
       "      <td>48.774192</td>\n",
       "      <td>19.739388</td>\n",
       "      <td>30.088921</td>\n",
       "      <td>17.182465</td>\n",
       "      <td>17.182465</td>\n",
       "    </tr>\n",
       "  </tbody>\n",
       "</table>\n",
       "</div>"
      ],
      "text/plain": [
       "       2015       2016       2017       2018       2019       2020  \\\n",
       "0  3.286743  49.691393  66.533088  62.467834  48.611588  98.525047   \n",
       "1  2.973508  14.507769  68.030387  70.373049  62.979225  30.179306   \n",
       "2  4.581918  66.890127  72.418628  65.443224  31.186597  40.847911   \n",
       "3  2.167089  62.034711  84.857739  19.298963   6.001604  72.520293   \n",
       "4  6.149053  58.897383  57.784577  48.774192  19.739388  30.088921   \n",
       "\n",
       "         2021        2022  \n",
       "0  124.008671  124.008671  \n",
       "1  109.206454  109.206454  \n",
       "2  113.883070  113.883070  \n",
       "3  111.021580  111.021580  \n",
       "4   17.182465   17.182465  "
      ]
     },
     "execution_count": 194,
     "metadata": {},
     "output_type": "execute_result"
    }
   ],
   "source": [
    "dead_trees = concat_dfs(r'./data/martwe_drzewa_tabele/*.xls').drop(columns = ['1993_2003', '2004_2013', '2014'])\n",
    "dead_trees.head()"
   ]
  },
  {
   "cell_type": "markdown",
   "id": "66d0f78a",
   "metadata": {},
   "source": [
    "### preview of feature structure"
   ]
  },
  {
   "cell_type": "code",
   "execution_count": 195,
   "id": "16998f99",
   "metadata": {},
   "outputs": [
    {
     "data": {
      "text/plain": [
       "Text(0.5, 0, 'Rok')"
      ]
     },
     "execution_count": 195,
     "metadata": {},
     "output_type": "execute_result"
    },
    {
     "data": {
      "image/png": "[encoded data removed]",
      "text/plain": [
       "<Figure size 500x1000 with 2 Axes>"
      ]
     },
     "metadata": {},
     "output_type": "display_data"
    }
   ],
   "source": [
    "fig, ax = plt.subplots(nrows=2, ncols=1, figsize=(5, 10))\n",
    "\n",
    "sns.boxplot(living_trees, ax=ax[0])\n",
    "\n",
    "ax[0].set(title='Żywe drzewa')\n",
    "ax[0].set_ylabel(\"Odległość od martwego drzewa(m)\")\n",
    "ax[0].set_xlabel(\"Rok\")\n",
    "\n",
    "sns.boxplot(dead_trees, ax=ax[1])\n",
    "\n",
    "ax[1].set(title='Martwe drzewa')\n",
    "ax[1].set_ylabel(\"Odległość od martwego drzewa(m)\")\n",
    "ax[1].set_xlabel(\"Rok\")"
   ]
  },
  {
   "cell_type": "markdown",
   "id": "88a83405",
   "metadata": {},
   "source": [
    "### analysis of stand dieback periods"
   ]
  },
  {
   "cell_type": "code",
   "execution_count": 196,
   "id": "fd76898e",
   "metadata": {},
   "outputs": [],
   "source": [
    "living_2015_2018 = pd.melt(living_trees[['2015', '2016', '2017', '2018']]).dropna()['value']\n",
    "living_2019_2022 = pd.melt(living_trees[['2019', '2020', '2021', '2022']]).dropna()['value']\n",
    "living_2015_2022 = pd.melt(living_trees[['2015', '2016', '2017', '2018' ,'2019', '2020', '2021', '2022']]).dropna()['value']\n",
    "\n",
    "dead_2015_2018 = pd.melt(dead_trees[['2015', '2016', '2017', '2018']]).dropna()['value']\n",
    "dead_2019_2022 = pd.melt(dead_trees[['2019', '2020', '2021', '2022']]).dropna()['value']\n",
    "dead_2015_2022 = pd.melt(dead_trees[['2015', '2016', '2017', '2018' ,'2019', '2020', '2021', '2022']]).dropna()['value']"
   ]
  },
  {
   "cell_type": "markdown",
   "id": "46915bed",
   "metadata": {},
   "source": [
    "#### 2015-2018"
   ]
  },
  {
   "cell_type": "code",
   "execution_count": 197,
   "id": "d6a3d771",
   "metadata": {},
   "outputs": [
    {
     "data": {
      "text/plain": [
       "KstestResult(statistic=0.09165512767395713, pvalue=0.004064755536857501)"
      ]
     },
     "execution_count": 197,
     "metadata": {},
     "output_type": "execute_result"
    }
   ],
   "source": [
    "ks_2015_2018 = ks_2samp(living_2015_2018, dead_2015_2018)\n",
    "ks_2015_2018"
   ]
  },
  {
   "cell_type": "markdown",
   "id": "0b3e4a78",
   "metadata": {},
   "source": [
    "#### 2019-2022"
   ]
  },
  {
   "cell_type": "code",
   "execution_count": 198,
   "id": "b2cbaaf8",
   "metadata": {},
   "outputs": [
    {
     "data": {
      "text/plain": [
       "KstestResult(statistic=0.22067563690473296, pvalue=2.4562131770261772e-05)"
      ]
     },
     "execution_count": 198,
     "metadata": {},
     "output_type": "execute_result"
    }
   ],
   "source": [
    "ks_2019_2022 = ks_2samp(living_2019_2022, dead_2019_2022)\n",
    "ks_2019_2022"
   ]
  },
  {
   "cell_type": "markdown",
   "id": "051b5616",
   "metadata": {},
   "source": [
    "#### 2015-2022"
   ]
  },
  {
   "cell_type": "code",
   "execution_count": 199,
   "id": "60060334",
   "metadata": {},
   "outputs": [
    {
     "data": {
      "text/plain": [
       "KstestResult(statistic=0.13236046455755957, pvalue=8.274596171969687e-08)"
      ]
     },
     "execution_count": 199,
     "metadata": {},
     "output_type": "execute_result"
    }
   ],
   "source": [
    "ks_2015_2022 = ks_2samp(living_2015_2022, dead_2015_2022)\n",
    "ks_2015_2022"
   ]
  },
  {
   "cell_type": "markdown",
   "id": "5387f09a",
   "metadata": {},
   "source": [
    "KstestResult"
   ]
  },
  {
   "cell_type": "code",
   "execution_count": 200,
   "id": "e20c935b",
   "metadata": {},
   "outputs": [
    {
     "data": {
      "text/html": [
       "<style type=\"text/css\">\n",
       "#T_19c3e th {\n",
       "  text-align: center;\n",
       "}\n",
       "#T_19c3e_row0_col0, #T_19c3e_row0_col1, #T_19c3e_row0_col2 {\n",
       "  text-align: center;\n",
       "}\n",
       "</style>\n",
       "<table id=\"T_19c3e\">\n",
       "  <thead>\n",
       "    <tr>\n",
       "      <th class=\"blank level0\" >&nbsp;</th>\n",
       "      <th id=\"T_19c3e_level0_col0\" class=\"col_heading level0 col0\" >2015 - 2018</th>\n",
       "      <th id=\"T_19c3e_level0_col1\" class=\"col_heading level0 col1\" >2019 - 2022</th>\n",
       "      <th id=\"T_19c3e_level0_col2\" class=\"col_heading level0 col2\" >2015 - 2022</th>\n",
       "    </tr>\n",
       "  </thead>\n",
       "  <tbody>\n",
       "    <tr>\n",
       "      <th id=\"T_19c3e_level0_row0\" class=\"row_heading level0 row0\" >p-value</th>\n",
       "      <td id=\"T_19c3e_row0_col0\" class=\"data row0 col0\" >0.004065</td>\n",
       "      <td id=\"T_19c3e_row0_col1\" class=\"data row0 col1\" >0.000025</td>\n",
       "      <td id=\"T_19c3e_row0_col2\" class=\"data row0 col2\" >< 0.000001</td>\n",
       "    </tr>\n",
       "  </tbody>\n",
       "</table>\n"
      ],
      "text/plain": [
       "<pandas.io.formats.style.Styler at 0x7f9e0a423a90>"
      ]
     },
     "execution_count": 200,
     "metadata": {},
     "output_type": "execute_result"
    }
   ],
   "source": [
    "summary_table = pd.DataFrame({\n",
    "    '2015 - 2018': ks_2015_2018[1], \n",
    "    '2019 - 2022': ks_2019_2022[1], \n",
    "    '2015 - 2022': '< 0.000001', \n",
    "}, index = ['p-value'])\n",
    "\n",
    "summary_table = summary_table.style.set_table_styles([dict(selector='th', props=[('text-align', 'center')])])\n",
    "summary_table.set_properties(**{'text-align': 'center'})\n",
    "\n",
    "summary_table"
   ]
  },
  {
   "cell_type": "markdown",
   "id": "fd13f158",
   "metadata": {},
   "source": [
    "## Chart"
   ]
  },
  {
   "cell_type": "code",
   "execution_count": 201,
   "id": "0592ff0d",
   "metadata": {},
   "outputs": [],
   "source": [
    "# living trees\n",
    "\n",
    "living_2015_2018_df = living_2015_2018.to_frame(name = 'value')\n",
    "living_2019_2022_df = living_2019_2022.to_frame(name = 'value')\n",
    "living_2015_2022_df = living_2015_2022.to_frame(name = 'value')\n",
    "\n",
    "living_2015_2018_df['variable'] = 'żywe 2015-2018'\n",
    "living_2019_2022_df['variable'] = 'żywe 2019-2022'\n",
    "living_2015_2022_df['variable'] = 'żywe 2015-2022'\n",
    "\n",
    "# dead trees\n",
    "\n",
    "dead_2015_2018_df = dead_2015_2018.to_frame(name = 'value')\n",
    "dead_2019_2022_df = dead_2019_2022.to_frame(name = 'value')\n",
    "dead_2015_2022_df = dead_2015_2022.to_frame(name = 'value')\n",
    "\n",
    "dead_2015_2018_df['variable'] = 'martwe 2015-2018'\n",
    "dead_2019_2022_df['variable'] = 'martwe 2019-2022'\n",
    "dead_2015_2022_df['variable'] = 'martwe 2015-2022'"
   ]
  },
  {
   "cell_type": "code",
   "execution_count": 202,
   "id": "eb79eb96",
   "metadata": {},
   "outputs": [
    {
     "data": {
      "text/html": [
       "<div>\n",
       "<style scoped>\n",
       "    .dataframe tbody tr th:only-of-type {\n",
       "        vertical-align: middle;\n",
       "    }\n",
       "\n",
       "    .dataframe tbody tr th {\n",
       "        vertical-align: top;\n",
       "    }\n",
       "\n",
       "    .dataframe thead th {\n",
       "        text-align: right;\n",
       "    }\n",
       "</style>\n",
       "<table border=\"1\" class=\"dataframe\">\n",
       "  <thead>\n",
       "    <tr style=\"text-align: right;\">\n",
       "      <th></th>\n",
       "      <th>value</th>\n",
       "      <th>variable</th>\n",
       "    </tr>\n",
       "  </thead>\n",
       "  <tbody>\n",
       "    <tr>\n",
       "      <th>0</th>\n",
       "      <td>73.630776</td>\n",
       "      <td>żywe 2015-2018</td>\n",
       "    </tr>\n",
       "    <tr>\n",
       "      <th>1</th>\n",
       "      <td>65.993944</td>\n",
       "      <td>żywe 2015-2018</td>\n",
       "    </tr>\n",
       "    <tr>\n",
       "      <th>2</th>\n",
       "      <td>72.406274</td>\n",
       "      <td>żywe 2015-2018</td>\n",
       "    </tr>\n",
       "    <tr>\n",
       "      <th>3</th>\n",
       "      <td>68.192390</td>\n",
       "      <td>żywe 2015-2018</td>\n",
       "    </tr>\n",
       "    <tr>\n",
       "      <th>4</th>\n",
       "      <td>70.552659</td>\n",
       "      <td>żywe 2015-2018</td>\n",
       "    </tr>\n",
       "  </tbody>\n",
       "</table>\n",
       "</div>"
      ],
      "text/plain": [
       "       value        variable\n",
       "0  73.630776  żywe 2015-2018\n",
       "1  65.993944  żywe 2015-2018\n",
       "2  72.406274  żywe 2015-2018\n",
       "3  68.192390  żywe 2015-2018\n",
       "4  70.552659  żywe 2015-2018"
      ]
     },
     "execution_count": 202,
     "metadata": {},
     "output_type": "execute_result"
    }
   ],
   "source": [
    "chart_df = pd.concat([living_2015_2018_df, living_2019_2022_df, living_2015_2022_df,\n",
    "                     dead_2015_2018_df, dead_2019_2022_df, dead_2015_2022_df], axis = 0).reset_index(drop = True)\n",
    "chart_df.head()"
   ]
  },
  {
   "cell_type": "code",
   "execution_count": 203,
   "id": "d8e3bec6",
   "metadata": {},
   "outputs": [
    {
     "data": {
      "text/plain": [
       "[Text(0.5, 0, '')]"
      ]
     },
     "execution_count": 203,
     "metadata": {},
     "output_type": "execute_result"
    },
    {
     "data": {
      "image/png": "[encoded data removed]",
      "text/plain": [
       "<Figure size 640x480 with 1 Axes>"
      ]
     },
     "metadata": {},
     "output_type": "display_data"
    }
   ],
   "source": [
    "order = ['martwe 2015-2018', 'żywe 2015-2018', \n",
    "         'martwe 2019-2022', 'żywe 2019-2022',\n",
    "         'martwe 2015-2022', 'żywe 2015-2022']\n",
    "\n",
    "my_pal = {\n",
    "    'martwe 2015-2018': 'lightgreen',\n",
    "    'martwe 2019-2022': 'lightgreen', \n",
    "    'martwe 2015-2022': 'lightgreen',\n",
    "    'żywe 2015-2018': 'forestgreen',\n",
    "    'żywe 2019-2022': 'forestgreen', \n",
    "    'żywe 2015-2022': 'forestgreen'\n",
    "         }\n",
    "\n",
    "ax = sns.boxplot(data=chart_df, x = \"variable\", y = \"value\", order = order, palette = my_pal)\n",
    "ax.set_xticklabels(ax.get_xticklabels(), rotation= 25, ha=\"right\")\n",
    "ax.set_ylabel(\"Odległość do martwego drzewa \\n z roku poprzedzającego (m)\")\n",
    "ax.set(xlabel=None)"
   ]
  },
  {
   "cell_type": "markdown",
   "id": "2f05a906",
   "metadata": {},
   "source": [
    "### descriptive statistics"
   ]
  },
  {
   "cell_type": "markdown",
   "id": "a39b54d5",
   "metadata": {},
   "source": [
    "##### for each year"
   ]
  },
  {
   "cell_type": "code",
   "execution_count": 204,
   "id": "a066f73c",
   "metadata": {},
   "outputs": [
    {
     "data": {
      "text/html": [
       "<div>\n",
       "<style scoped>\n",
       "    .dataframe tbody tr th:only-of-type {\n",
       "        vertical-align: middle;\n",
       "    }\n",
       "\n",
       "    .dataframe tbody tr th {\n",
       "        vertical-align: top;\n",
       "    }\n",
       "\n",
       "    .dataframe thead th {\n",
       "        text-align: right;\n",
       "    }\n",
       "</style>\n",
       "<table border=\"1\" class=\"dataframe\">\n",
       "  <thead>\n",
       "    <tr style=\"text-align: right;\">\n",
       "      <th></th>\n",
       "      <th>2015</th>\n",
       "      <th>2016</th>\n",
       "      <th>2017</th>\n",
       "      <th>2018</th>\n",
       "      <th>2019</th>\n",
       "      <th>2020</th>\n",
       "      <th>2021</th>\n",
       "      <th>2022</th>\n",
       "    </tr>\n",
       "  </thead>\n",
       "  <tbody>\n",
       "    <tr>\n",
       "      <th>mean</th>\n",
       "      <td>27.602806</td>\n",
       "      <td>46.466949</td>\n",
       "      <td>48.214450</td>\n",
       "      <td>39.745017</td>\n",
       "      <td>35.464734</td>\n",
       "      <td>53.076511</td>\n",
       "      <td>49.921382</td>\n",
       "      <td>52.738538</td>\n",
       "    </tr>\n",
       "    <tr>\n",
       "      <th>median</th>\n",
       "      <td>25.808825</td>\n",
       "      <td>43.499458</td>\n",
       "      <td>42.468914</td>\n",
       "      <td>37.808357</td>\n",
       "      <td>34.388266</td>\n",
       "      <td>48.989883</td>\n",
       "      <td>47.025173</td>\n",
       "      <td>48.455152</td>\n",
       "    </tr>\n",
       "    <tr>\n",
       "      <th>std</th>\n",
       "      <td>14.754850</td>\n",
       "      <td>26.264887</td>\n",
       "      <td>30.769414</td>\n",
       "      <td>21.913326</td>\n",
       "      <td>17.741348</td>\n",
       "      <td>30.998692</td>\n",
       "      <td>25.491286</td>\n",
       "      <td>30.631906</td>\n",
       "    </tr>\n",
       "  </tbody>\n",
       "</table>\n",
       "</div>"
      ],
      "text/plain": [
       "             2015       2016       2017       2018       2019       2020  \\\n",
       "mean    27.602806  46.466949  48.214450  39.745017  35.464734  53.076511   \n",
       "median  25.808825  43.499458  42.468914  37.808357  34.388266  48.989883   \n",
       "std     14.754850  26.264887  30.769414  21.913326  17.741348  30.998692   \n",
       "\n",
       "             2021       2022  \n",
       "mean    49.921382  52.738538  \n",
       "median  47.025173  48.455152  \n",
       "std     25.491286  30.631906  "
      ]
     },
     "execution_count": 204,
     "metadata": {},
     "output_type": "execute_result"
    }
   ],
   "source": [
    "stats_living = living_trees.agg(['mean', 'median', 'std'])\n",
    "stats_living"
   ]
  },
  {
   "cell_type": "code",
   "execution_count": 205,
   "id": "b67a736d",
   "metadata": {},
   "outputs": [
    {
     "data": {
      "text/html": [
       "<div>\n",
       "<style scoped>\n",
       "    .dataframe tbody tr th:only-of-type {\n",
       "        vertical-align: middle;\n",
       "    }\n",
       "\n",
       "    .dataframe tbody tr th {\n",
       "        vertical-align: top;\n",
       "    }\n",
       "\n",
       "    .dataframe thead th {\n",
       "        text-align: right;\n",
       "    }\n",
       "</style>\n",
       "<table border=\"1\" class=\"dataframe\">\n",
       "  <thead>\n",
       "    <tr style=\"text-align: right;\">\n",
       "      <th></th>\n",
       "      <th>2015</th>\n",
       "      <th>2016</th>\n",
       "      <th>2017</th>\n",
       "      <th>2018</th>\n",
       "      <th>2019</th>\n",
       "      <th>2020</th>\n",
       "      <th>2021</th>\n",
       "      <th>2022</th>\n",
       "    </tr>\n",
       "  </thead>\n",
       "  <tbody>\n",
       "    <tr>\n",
       "      <th>mean</th>\n",
       "      <td>25.482608</td>\n",
       "      <td>52.499921</td>\n",
       "      <td>34.680072</td>\n",
       "      <td>24.782015</td>\n",
       "      <td>39.767739</td>\n",
       "      <td>46.546101</td>\n",
       "      <td>35.502651</td>\n",
       "      <td>35.502651</td>\n",
       "    </tr>\n",
       "    <tr>\n",
       "      <th>median</th>\n",
       "      <td>26.761868</td>\n",
       "      <td>55.720141</td>\n",
       "      <td>30.295842</td>\n",
       "      <td>16.218383</td>\n",
       "      <td>38.831312</td>\n",
       "      <td>46.087736</td>\n",
       "      <td>27.577149</td>\n",
       "      <td>27.577149</td>\n",
       "    </tr>\n",
       "    <tr>\n",
       "      <th>std</th>\n",
       "      <td>11.061347</td>\n",
       "      <td>22.025030</td>\n",
       "      <td>23.734072</td>\n",
       "      <td>20.628702</td>\n",
       "      <td>14.767020</td>\n",
       "      <td>22.889988</td>\n",
       "      <td>31.230107</td>\n",
       "      <td>31.230107</td>\n",
       "    </tr>\n",
       "  </tbody>\n",
       "</table>\n",
       "</div>"
      ],
      "text/plain": [
       "             2015       2016       2017       2018       2019       2020  \\\n",
       "mean    25.482608  52.499921  34.680072  24.782015  39.767739  46.546101   \n",
       "median  26.761868  55.720141  30.295842  16.218383  38.831312  46.087736   \n",
       "std     11.061347  22.025030  23.734072  20.628702  14.767020  22.889988   \n",
       "\n",
       "             2021       2022  \n",
       "mean    35.502651  35.502651  \n",
       "median  27.577149  27.577149  \n",
       "std     31.230107  31.230107  "
      ]
     },
     "execution_count": 205,
     "metadata": {},
     "output_type": "execute_result"
    }
   ],
   "source": [
    "stats_dead = dead_trees.agg(['mean', 'median', 'std'])\n",
    "stats_dead"
   ]
  },
  {
   "cell_type": "code",
   "execution_count": 206,
   "id": "370143a6",
   "metadata": {},
   "outputs": [
    {
     "data": {
      "text/html": [
       "<div>\n",
       "<style scoped>\n",
       "    .dataframe tbody tr th:only-of-type {\n",
       "        vertical-align: middle;\n",
       "    }\n",
       "\n",
       "    .dataframe tbody tr th {\n",
       "        vertical-align: top;\n",
       "    }\n",
       "\n",
       "    .dataframe thead th {\n",
       "        text-align: right;\n",
       "    }\n",
       "</style>\n",
       "<table border=\"1\" class=\"dataframe\">\n",
       "  <thead>\n",
       "    <tr style=\"text-align: right;\">\n",
       "      <th></th>\n",
       "      <th>2015</th>\n",
       "      <th>2016</th>\n",
       "      <th>2017</th>\n",
       "      <th>2018</th>\n",
       "      <th>2019</th>\n",
       "      <th>2020</th>\n",
       "      <th>2021</th>\n",
       "      <th>2022</th>\n",
       "    </tr>\n",
       "  </thead>\n",
       "  <tbody>\n",
       "    <tr>\n",
       "      <th>mean</th>\n",
       "      <td>2.120198</td>\n",
       "      <td>-6.032973</td>\n",
       "      <td>13.534378</td>\n",
       "      <td>14.963002</td>\n",
       "      <td>-4.303005</td>\n",
       "      <td>6.530410</td>\n",
       "      <td>14.418731</td>\n",
       "      <td>17.235886</td>\n",
       "    </tr>\n",
       "    <tr>\n",
       "      <th>median</th>\n",
       "      <td>-0.953043</td>\n",
       "      <td>-12.220683</td>\n",
       "      <td>12.173071</td>\n",
       "      <td>21.589974</td>\n",
       "      <td>-4.443045</td>\n",
       "      <td>2.902147</td>\n",
       "      <td>19.448024</td>\n",
       "      <td>20.878003</td>\n",
       "    </tr>\n",
       "    <tr>\n",
       "      <th>std</th>\n",
       "      <td>3.693504</td>\n",
       "      <td>4.239857</td>\n",
       "      <td>7.035342</td>\n",
       "      <td>1.284625</td>\n",
       "      <td>2.974328</td>\n",
       "      <td>8.108704</td>\n",
       "      <td>-5.738821</td>\n",
       "      <td>-0.598201</td>\n",
       "    </tr>\n",
       "  </tbody>\n",
       "</table>\n",
       "</div>"
      ],
      "text/plain": [
       "            2015       2016       2017       2018      2019      2020  \\\n",
       "mean    2.120198  -6.032973  13.534378  14.963002 -4.303005  6.530410   \n",
       "median -0.953043 -12.220683  12.173071  21.589974 -4.443045  2.902147   \n",
       "std     3.693504   4.239857   7.035342   1.284625  2.974328  8.108704   \n",
       "\n",
       "             2021       2022  \n",
       "mean    14.418731  17.235886  \n",
       "median  19.448024  20.878003  \n",
       "std     -5.738821  -0.598201  "
      ]
     },
     "execution_count": 206,
     "metadata": {},
     "output_type": "execute_result"
    }
   ],
   "source": [
    "stats_summary = stats_living - stats_dead\n",
    "stats_summary"
   ]
  },
  {
   "cell_type": "markdown",
   "id": "a90ed1b2",
   "metadata": {
    "scrolled": true
   },
   "source": [
    "###### for groups of trees"
   ]
  },
  {
   "cell_type": "code",
   "execution_count": 207,
   "id": "c8058374",
   "metadata": {},
   "outputs": [
    {
     "data": {
      "text/html": [
       "<style type=\"text/css\">\n",
       "#T_cc3ec th {\n",
       "  text-align: center;\n",
       "}\n",
       "#T_cc3ec_row0_col0, #T_cc3ec_row0_col1, #T_cc3ec_row0_col2, #T_cc3ec_row0_col3, #T_cc3ec_row0_col4, #T_cc3ec_row0_col5, #T_cc3ec_row1_col0, #T_cc3ec_row1_col1, #T_cc3ec_row1_col2, #T_cc3ec_row1_col3, #T_cc3ec_row1_col4, #T_cc3ec_row1_col5, #T_cc3ec_row2_col0, #T_cc3ec_row2_col1, #T_cc3ec_row2_col2, #T_cc3ec_row2_col3, #T_cc3ec_row2_col4, #T_cc3ec_row2_col5 {\n",
       "  text-align: center;\n",
       "}\n",
       "</style>\n",
       "<table id=\"T_cc3ec\">\n",
       "  <thead>\n",
       "    <tr>\n",
       "      <th class=\"index_name level0\" ></th>\n",
       "      <th id=\"T_cc3ec_level0_col0\" class=\"col_heading level0 col0\" >martwe 2015-2018</th>\n",
       "      <th id=\"T_cc3ec_level0_col1\" class=\"col_heading level0 col1\" >martwe 2015-2022</th>\n",
       "      <th id=\"T_cc3ec_level0_col2\" class=\"col_heading level0 col2\" >martwe 2019-2022</th>\n",
       "      <th id=\"T_cc3ec_level0_col3\" class=\"col_heading level0 col3\" >żywe 2015-2018</th>\n",
       "      <th id=\"T_cc3ec_level0_col4\" class=\"col_heading level0 col4\" >żywe 2015-2022</th>\n",
       "      <th id=\"T_cc3ec_level0_col5\" class=\"col_heading level0 col5\" >żywe 2019-2022</th>\n",
       "    </tr>\n",
       "  </thead>\n",
       "  <tbody>\n",
       "    <tr>\n",
       "      <th id=\"T_cc3ec_level0_row0\" class=\"row_heading level0 row0\" >średnia</th>\n",
       "      <td id=\"T_cc3ec_row0_col0\" class=\"data row0 col0\" >35.087198</td>\n",
       "      <td id=\"T_cc3ec_row0_col1\" class=\"data row0 col1\" >35.888025</td>\n",
       "      <td id=\"T_cc3ec_row0_col2\" class=\"data row0 col2\" >38.527271</td>\n",
       "      <td id=\"T_cc3ec_row0_col3\" class=\"data row0 col3\" >40.309475</td>\n",
       "      <td id=\"T_cc3ec_row0_col4\" class=\"data row0 col4\" >43.869893</td>\n",
       "      <td id=\"T_cc3ec_row0_col5\" class=\"data row0 col5\" >47.724591</td>\n",
       "    </tr>\n",
       "    <tr>\n",
       "      <th id=\"T_cc3ec_level0_row1\" class=\"row_heading level0 row1\" >mediana</th>\n",
       "      <td id=\"T_cc3ec_row1_col0\" class=\"data row1 col0\" >31.942137</td>\n",
       "      <td id=\"T_cc3ec_row1_col1\" class=\"data row1 col1\" >32.164828</td>\n",
       "      <td id=\"T_cc3ec_row1_col2\" class=\"data row1 col2\" >32.404193</td>\n",
       "      <td id=\"T_cc3ec_row1_col3\" class=\"data row1 col3\" >36.219238</td>\n",
       "      <td id=\"T_cc3ec_row1_col4\" class=\"data row1 col4\" >39.724653</td>\n",
       "      <td id=\"T_cc3ec_row1_col5\" class=\"data row1 col5\" >43.513663</td>\n",
       "    </tr>\n",
       "    <tr>\n",
       "      <th id=\"T_cc3ec_level0_row2\" class=\"row_heading level0 row2\" >sd</th>\n",
       "      <td id=\"T_cc3ec_row2_col0\" class=\"data row2 col0\" >22.598794</td>\n",
       "      <td id=\"T_cc3ec_row2_col1\" class=\"data row2 col1\" >23.775146</td>\n",
       "      <td id=\"T_cc3ec_row2_col2\" class=\"data row2 col2\" >27.238582</td>\n",
       "      <td id=\"T_cc3ec_row2_col3\" class=\"data row2 col3\" >25.408481</td>\n",
       "      <td id=\"T_cc3ec_row2_col4\" class=\"data row2 col4\" >26.779788</td>\n",
       "      <td id=\"T_cc3ec_row2_col5\" class=\"data row2 col5\" >27.679107</td>\n",
       "    </tr>\n",
       "  </tbody>\n",
       "</table>\n"
      ],
      "text/plain": [
       "<pandas.io.formats.style.Styler at 0x7f9e0a3d5810>"
      ]
     },
     "execution_count": 207,
     "metadata": {},
     "output_type": "execute_result"
    }
   ],
   "source": [
    "stats_groups = chart_df.pivot(columns = 'variable').agg(['mean', 'median', 'std']).droplevel(0, axis=1)\n",
    "stats_groups.columns.name=''\n",
    "stats_groups = stats_groups.rename(index={'mean': 'średnia', 'median': 'mediana', 'std' : 'sd'})\n",
    "\n",
    "stats_groups2 = stats_groups.style.set_table_styles([dict(selector='th', props=[('text-align', 'center')])])\n",
    "stats_groups2.set_properties(**{'text-align': 'center'})\n",
    "\n",
    "stats_groups2"
   ]
  },
  {
   "cell_type": "code",
   "execution_count": 208,
   "id": "d7d4c2b9",
   "metadata": {},
   "outputs": [
    {
     "data": {
      "text/html": [
       "<div>\n",
       "<style scoped>\n",
       "    .dataframe tbody tr th:only-of-type {\n",
       "        vertical-align: middle;\n",
       "    }\n",
       "\n",
       "    .dataframe tbody tr th {\n",
       "        vertical-align: top;\n",
       "    }\n",
       "\n",
       "    .dataframe thead th {\n",
       "        text-align: right;\n",
       "    }\n",
       "</style>\n",
       "<table border=\"1\" class=\"dataframe\">\n",
       "  <thead>\n",
       "    <tr style=\"text-align: right;\">\n",
       "      <th></th>\n",
       "      <th>martwe 2015-2018</th>\n",
       "      <th>martwe 2015-2022</th>\n",
       "      <th>martwe 2019-2022</th>\n",
       "      <th>żywe 2015-2018</th>\n",
       "      <th>żywe 2015-2022</th>\n",
       "      <th>żywe 2019-2022</th>\n",
       "    </tr>\n",
       "  </thead>\n",
       "  <tbody>\n",
       "    <tr>\n",
       "      <th>średnia</th>\n",
       "      <td>35.087198</td>\n",
       "      <td>35.888025</td>\n",
       "      <td>38.527271</td>\n",
       "      <td>40.309475</td>\n",
       "      <td>43.869893</td>\n",
       "      <td>47.724591</td>\n",
       "    </tr>\n",
       "    <tr>\n",
       "      <th>mediana</th>\n",
       "      <td>31.942137</td>\n",
       "      <td>32.164828</td>\n",
       "      <td>32.404193</td>\n",
       "      <td>36.219238</td>\n",
       "      <td>39.724653</td>\n",
       "      <td>43.513663</td>\n",
       "    </tr>\n",
       "    <tr>\n",
       "      <th>sd</th>\n",
       "      <td>22.598794</td>\n",
       "      <td>23.775146</td>\n",
       "      <td>27.238582</td>\n",
       "      <td>25.408481</td>\n",
       "      <td>26.779788</td>\n",
       "      <td>27.679107</td>\n",
       "    </tr>\n",
       "  </tbody>\n",
       "</table>\n",
       "</div>"
      ],
      "text/plain": [
       "         martwe 2015-2018  martwe 2015-2022  martwe 2019-2022  żywe 2015-2018  \\\n",
       "średnia         35.087198         35.888025         38.527271       40.309475   \n",
       "mediana         31.942137         32.164828         32.404193       36.219238   \n",
       "sd              22.598794         23.775146         27.238582       25.408481   \n",
       "\n",
       "         żywe 2015-2022  żywe 2019-2022  \n",
       "średnia       43.869893       47.724591  \n",
       "mediana       39.724653       43.513663  \n",
       "sd            26.779788       27.679107  "
      ]
     },
     "execution_count": 208,
     "metadata": {},
     "output_type": "execute_result"
    }
   ],
   "source": [
    "stats_groups"
   ]
  },
  {
   "cell_type": "code",
   "execution_count": 209,
   "id": "36918a88",
   "metadata": {},
   "outputs": [
    {
     "data": {
      "text/html": [
       "<style type=\"text/css\">\n",
       "#T_5086f th {\n",
       "  text-align: center;\n",
       "}\n",
       "#T_5086f_row0_col0, #T_5086f_row0_col1, #T_5086f_row0_col2, #T_5086f_row1_col0, #T_5086f_row1_col1, #T_5086f_row1_col2, #T_5086f_row2_col0, #T_5086f_row2_col1, #T_5086f_row2_col2 {\n",
       "  text-align: center;\n",
       "}\n",
       "</style>\n",
       "<table id=\"T_5086f\">\n",
       "  <thead>\n",
       "    <tr>\n",
       "      <th class=\"blank level0\" >&nbsp;</th>\n",
       "      <th id=\"T_5086f_level0_col0\" class=\"col_heading level0 col0\" >2015-2018</th>\n",
       "      <th id=\"T_5086f_level0_col1\" class=\"col_heading level0 col1\" >2015-2022</th>\n",
       "      <th id=\"T_5086f_level0_col2\" class=\"col_heading level0 col2\" >2019-2022</th>\n",
       "    </tr>\n",
       "  </thead>\n",
       "  <tbody>\n",
       "    <tr>\n",
       "      <th id=\"T_5086f_level0_row0\" class=\"row_heading level0 row0\" >średnia</th>\n",
       "      <td id=\"T_5086f_row0_col0\" class=\"data row0 col0\" >5.222277</td>\n",
       "      <td id=\"T_5086f_row0_col1\" class=\"data row0 col1\" >7.981868</td>\n",
       "      <td id=\"T_5086f_row0_col2\" class=\"data row0 col2\" >9.197319</td>\n",
       "    </tr>\n",
       "    <tr>\n",
       "      <th id=\"T_5086f_level0_row1\" class=\"row_heading level0 row1\" >mediana</th>\n",
       "      <td id=\"T_5086f_row1_col0\" class=\"data row1 col0\" >4.277100</td>\n",
       "      <td id=\"T_5086f_row1_col1\" class=\"data row1 col1\" >7.559826</td>\n",
       "      <td id=\"T_5086f_row1_col2\" class=\"data row1 col2\" >11.109470</td>\n",
       "    </tr>\n",
       "    <tr>\n",
       "      <th id=\"T_5086f_level0_row2\" class=\"row_heading level0 row2\" >sd</th>\n",
       "      <td id=\"T_5086f_row2_col0\" class=\"data row2 col0\" >2.809687</td>\n",
       "      <td id=\"T_5086f_row2_col1\" class=\"data row2 col1\" >3.004642</td>\n",
       "      <td id=\"T_5086f_row2_col2\" class=\"data row2 col2\" >0.440525</td>\n",
       "    </tr>\n",
       "  </tbody>\n",
       "</table>\n"
      ],
      "text/plain": [
       "<pandas.io.formats.style.Styler at 0x7f9e09b1ff40>"
      ]
     },
     "execution_count": 209,
     "metadata": {},
     "output_type": "execute_result"
    }
   ],
   "source": [
    "stats_summary = pd.DataFrame({\n",
    "    '2015-2018' : stats_groups.iloc[:, 3] - stats_groups.iloc[:, 0],\n",
    "    '2015-2022' : stats_groups.iloc[:, 4] - stats_groups.iloc[:, 1],\n",
    "    '2019-2022' : stats_groups.iloc[:, 5] - stats_groups.iloc[:, 2]\n",
    "}).rename(index={'mean': 'średnia', 'median': 'mediana', 'std' : 'sd'})\n",
    "\n",
    "stats_summary = stats_summary.style.set_table_styles([dict(selector='th', props=[('text-align', 'center')])])\n",
    "stats_summary.set_properties(**{'text-align': 'center'})\n",
    "\n",
    "stats_summary"
   ]
  }
 ],
 "metadata": {
  "kernelspec": {
   "display_name": "Python 3 (ipykernel)",
   "language": "python",
   "name": "python3"
  },
  "language_info": {
   "codemirror_mode": {
    "name": "ipython",
    "version": 3
   },
   "file_extension": ".py",
   "mimetype": "text/x-python",
   "name": "python",
   "nbconvert_exporter": "python",
   "pygments_lexer": "ipython3",
   "version": "3.10.9"
  }
 },
 "nbformat": 4,
 "nbformat_minor": 5
}
