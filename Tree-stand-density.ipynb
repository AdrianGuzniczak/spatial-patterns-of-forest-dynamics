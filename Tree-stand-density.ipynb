{
 "cells": [
  {
   "cell_type": "code",
   "execution_count": 105,
   "id": "51f15fce",
   "metadata": {},
   "outputs": [],
   "source": [
    "import glob\n",
    "import os\n",
    "import pandas as pd\n",
    "import numpy as np\n",
    "import seaborn as sns"
   ]
  },
  {
   "cell_type": "code",
   "execution_count": 169,
   "id": "637c90b3",
   "metadata": {},
   "outputs": [],
   "source": [
    "def concat_dfs(folder_name):\n",
    "    directory = r'./data/wyniki_gis_udział_luk/{}/*.csv'.format(folder_name)\n",
    "    files = glob.glob(directory)\n",
    "    df = []\n",
    "\n",
    "    for f in files:   \n",
    "        col_name = f.split('/')[-1].split('.')[0]\n",
    "        csv = pd.read_csv(f, names = [col_name],  keep_default_na=False)\n",
    "        csv.reset_index(drop=True, inplace=True)\n",
    "        df.append(csv)\n",
    "    \n",
    "    df2 = pd.concat(df,axis=1)\n",
    "    return df2.reindex(sorted(df2.columns), axis=1)   "
   ]
  },
  {
   "cell_type": "code",
   "execution_count": 199,
   "id": "5a79237e",
   "metadata": {},
   "outputs": [],
   "source": [
    "north_10m = pd.melt(concat_dfs('wyniki csv 10m północ'))\n",
    "south_10m = pd.melt(concat_dfs('wyniki csv 10m południe'))\n",
    "buffer_10m = pd.melt(concat_dfs('wyniki csv 10m buffer'))"
   ]
  },
  {
   "cell_type": "code",
   "execution_count": 215,
   "id": "26ea159a",
   "metadata": {},
   "outputs": [],
   "source": [
    "north_2014_2018 = north_10m.loc[(north_10m['variable'].isin(['martwe_drzewa_2014',\n",
    "                                                            'martwe_drzewa_2015',\n",
    "                                                            'martwe_drzewa_2016',\n",
    "                                                            'martwe_drzewa_2017',\n",
    "                                                            'martwe_drzewa_2018']))].dropna()\n",
    "north_2019_2021 = north_10m.loc[(north_10m['variable'].isin(['martwe_drzewa_2019',\n",
    "                                                            'martwe_drzewa_2020',\n",
    "                                                            'martwe_drzewa_2021']))].dropna()"
   ]
  },
  {
   "cell_type": "code",
   "execution_count": 216,
   "id": "259db9bb",
   "metadata": {},
   "outputs": [
    {
     "data": {
      "text/html": [
       "<div>\n",
       "<style scoped>\n",
       "    .dataframe tbody tr th:only-of-type {\n",
       "        vertical-align: middle;\n",
       "    }\n",
       "\n",
       "    .dataframe tbody tr th {\n",
       "        vertical-align: top;\n",
       "    }\n",
       "\n",
       "    .dataframe thead th {\n",
       "        text-align: right;\n",
       "    }\n",
       "</style>\n",
       "<table border=\"1\" class=\"dataframe\">\n",
       "  <thead>\n",
       "    <tr style=\"text-align: right;\">\n",
       "      <th></th>\n",
       "      <th>variable</th>\n",
       "      <th>value</th>\n",
       "    </tr>\n",
       "  </thead>\n",
       "  <tbody>\n",
       "    <tr>\n",
       "      <th>11820</th>\n",
       "      <td>martwe_drzewa_2019</td>\n",
       "      <td>37,474313138</td>\n",
       "    </tr>\n",
       "    <tr>\n",
       "      <th>11821</th>\n",
       "      <td>martwe_drzewa_2019</td>\n",
       "      <td>50,9284865494</td>\n",
       "    </tr>\n",
       "    <tr>\n",
       "      <th>11822</th>\n",
       "      <td>martwe_drzewa_2019</td>\n",
       "      <td>79,7131337932</td>\n",
       "    </tr>\n",
       "    <tr>\n",
       "      <th>11823</th>\n",
       "      <td>martwe_drzewa_2019</td>\n",
       "      <td>68,9521229762</td>\n",
       "    </tr>\n",
       "    <tr>\n",
       "      <th>11824</th>\n",
       "      <td>martwe_drzewa_2019</td>\n",
       "      <td>89,1652906673</td>\n",
       "    </tr>\n",
       "    <tr>\n",
       "      <th>...</th>\n",
       "      <td>...</td>\n",
       "      <td>...</td>\n",
       "    </tr>\n",
       "    <tr>\n",
       "      <th>16575</th>\n",
       "      <td>martwe_drzewa_2021</td>\n",
       "      <td>98,7224831701</td>\n",
       "    </tr>\n",
       "    <tr>\n",
       "      <th>16576</th>\n",
       "      <td>martwe_drzewa_2021</td>\n",
       "      <td>92,6606123447</td>\n",
       "    </tr>\n",
       "    <tr>\n",
       "      <th>16577</th>\n",
       "      <td>martwe_drzewa_2021</td>\n",
       "      <td>103,2960582</td>\n",
       "    </tr>\n",
       "    <tr>\n",
       "      <th>16578</th>\n",
       "      <td>martwe_drzewa_2021</td>\n",
       "      <td>5,01248203003</td>\n",
       "    </tr>\n",
       "    <tr>\n",
       "      <th>16579</th>\n",
       "      <td>martwe_drzewa_2021</td>\n",
       "      <td>100,35378499</td>\n",
       "    </tr>\n",
       "  </tbody>\n",
       "</table>\n",
       "<p>74 rows × 2 columns</p>\n",
       "</div>"
      ],
      "text/plain": [
       "                 variable          value\n",
       "11820  martwe_drzewa_2019   37,474313138\n",
       "11821  martwe_drzewa_2019  50,9284865494\n",
       "11822  martwe_drzewa_2019  79,7131337932\n",
       "11823  martwe_drzewa_2019  68,9521229762\n",
       "11824  martwe_drzewa_2019  89,1652906673\n",
       "...                   ...            ...\n",
       "16575  martwe_drzewa_2021  98,7224831701\n",
       "16576  martwe_drzewa_2021  92,6606123447\n",
       "16577  martwe_drzewa_2021    103,2960582\n",
       "16578  martwe_drzewa_2021  5,01248203003\n",
       "16579  martwe_drzewa_2021   100,35378499\n",
       "\n",
       "[74 rows x 2 columns]"
      ]
     },
     "execution_count": 216,
     "metadata": {},
     "output_type": "execute_result"
    }
   ],
   "source": [
    "north_2019_2021"
   ]
  },
  {
   "cell_type": "code",
   "execution_count": 209,
   "id": "19f04f46",
   "metadata": {},
   "outputs": [],
   "source": [
    "%matplotlib inline"
   ]
  },
  {
   "cell_type": "code",
   "execution_count": null,
   "id": "0aed82c2",
   "metadata": {},
   "outputs": [],
   "source": []
  }
 ],
 "metadata": {
  "kernelspec": {
   "display_name": "Python 3 (ipykernel)",
   "language": "python",
   "name": "python3"
  },
  "language_info": {
   "codemirror_mode": {
    "name": "ipython",
    "version": 3
   },
   "file_extension": ".py",
   "mimetype": "text/x-python",
   "name": "python",
   "nbconvert_exporter": "python",
   "pygments_lexer": "ipython3",
   "version": "3.10.6"
  }
 },
 "nbformat": 4,
 "nbformat_minor": 5
}
