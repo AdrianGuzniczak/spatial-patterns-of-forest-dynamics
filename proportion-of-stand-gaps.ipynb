{
 "cells": [
  {
   "cell_type": "code",
   "execution_count": 1,
   "id": "51f15fce",
   "metadata": {},
   "outputs": [],
   "source": [
    "import glob\n",
    "import os\n",
    "import pandas as pd\n",
    "import numpy as np\n",
    "import seaborn as sns\n",
    "import matplotlib.pyplot as plt\n",
    "from scipy.stats import ks_2samp"
   ]
  },
  {
   "cell_type": "markdown",
   "id": "66e9f60c",
   "metadata": {},
   "source": [
    "### importing data"
   ]
  },
  {
   "cell_type": "code",
   "execution_count": 2,
   "id": "637c90b3",
   "metadata": {},
   "outputs": [],
   "source": [
    "def concat_dfs(folder_name):\n",
    "    directory = r'./data/wyniki_gis_udział_luk/{}/*.csv'.format(folder_name)\n",
    "    files = glob.glob(directory)\n",
    "    df = []\n",
    "\n",
    "    for f in files:   \n",
    "        col_name = f.split('/')[-1].split('.')[0]\n",
    "        csv = pd.read_csv(f, names = [col_name], keep_default_na=False, decimal=',')\n",
    "        csv.reset_index(drop=True, inplace=True)\n",
    "        df.append(csv)\n",
    "    \n",
    "    df2 = pd.concat(df,axis=1)\n",
    "    return df2.reindex(sorted(df2.columns), axis=1)   "
   ]
  },
  {
   "cell_type": "markdown",
   "id": "8777afba",
   "metadata": {},
   "source": [
    "#### data preview"
   ]
  },
  {
   "cell_type": "code",
   "execution_count": 3,
   "id": "fb28e0b8",
   "metadata": {},
   "outputs": [
    {
     "data": {
      "text/html": [
       "<div>\n",
       "<style scoped>\n",
       "    .dataframe tbody tr th:only-of-type {\n",
       "        vertical-align: middle;\n",
       "    }\n",
       "\n",
       "    .dataframe tbody tr th {\n",
       "        vertical-align: top;\n",
       "    }\n",
       "\n",
       "    .dataframe thead th {\n",
       "        text-align: right;\n",
       "    }\n",
       "</style>\n",
       "<table border=\"1\" class=\"dataframe\">\n",
       "  <thead>\n",
       "    <tr style=\"text-align: right;\">\n",
       "      <th></th>\n",
       "      <th>martwe_drzewa_2014</th>\n",
       "      <th>martwe_drzewa_2015</th>\n",
       "      <th>martwe_drzewa_2016</th>\n",
       "      <th>martwe_drzewa_2017</th>\n",
       "      <th>martwe_drzewa_2018</th>\n",
       "      <th>martwe_drzewa_2019</th>\n",
       "      <th>martwe_drzewa_2020</th>\n",
       "      <th>martwe_drzewa_2021</th>\n",
       "      <th>martwe_drzewa_2022</th>\n",
       "      <th>zywe_drzewa_2014</th>\n",
       "      <th>zywe_drzewa_2015</th>\n",
       "      <th>zywe_drzewa_2016</th>\n",
       "      <th>zywe_drzewa_2017</th>\n",
       "      <th>zywe_drzewa_2018</th>\n",
       "      <th>zywe_drzewa_2019</th>\n",
       "      <th>zywe_drzewa_2020</th>\n",
       "      <th>zywe_drzewa_2021</th>\n",
       "      <th>zywe_drzewa_2022</th>\n",
       "    </tr>\n",
       "  </thead>\n",
       "  <tbody>\n",
       "    <tr>\n",
       "      <th>0</th>\n",
       "      <td>78.676606</td>\n",
       "      <td>59.442884</td>\n",
       "      <td>48.021276</td>\n",
       "      <td>28.601377</td>\n",
       "      <td>109.077172</td>\n",
       "      <td>37.474313</td>\n",
       "      <td>138.463302</td>\n",
       "      <td>125.823057</td>\n",
       "      <td>133.472899</td>\n",
       "      <td>35.787180</td>\n",
       "      <td>33.102046</td>\n",
       "      <td>33.355147</td>\n",
       "      <td>33.527376</td>\n",
       "      <td>32.775950</td>\n",
       "      <td>33.078457</td>\n",
       "      <td>32.772300</td>\n",
       "      <td>32.772395</td>\n",
       "      <td>32.775429</td>\n",
       "    </tr>\n",
       "    <tr>\n",
       "      <th>1</th>\n",
       "      <td>87.708764</td>\n",
       "      <td>69.128894</td>\n",
       "      <td>20.567383</td>\n",
       "      <td>70.361647</td>\n",
       "      <td>133.927845</td>\n",
       "      <td>50.928487</td>\n",
       "      <td>147.226695</td>\n",
       "      <td>123.968151</td>\n",
       "      <td>134.859794</td>\n",
       "      <td>21.179791</td>\n",
       "      <td>20.126245</td>\n",
       "      <td>20.231516</td>\n",
       "      <td>20.321681</td>\n",
       "      <td>19.610447</td>\n",
       "      <td>19.729468</td>\n",
       "      <td>19.720828</td>\n",
       "      <td>19.768899</td>\n",
       "      <td>19.838615</td>\n",
       "    </tr>\n",
       "    <tr>\n",
       "      <th>2</th>\n",
       "      <td>102.748191</td>\n",
       "      <td>6.739718</td>\n",
       "      <td>24.170321</td>\n",
       "      <td>38.096430</td>\n",
       "      <td>155.595804</td>\n",
       "      <td>79.713134</td>\n",
       "      <td>20.370342</td>\n",
       "      <td>34.409464</td>\n",
       "      <td>43.730706</td>\n",
       "      <td>27.269804</td>\n",
       "      <td>26.626030</td>\n",
       "      <td>26.598475</td>\n",
       "      <td>26.399674</td>\n",
       "      <td>26.611076</td>\n",
       "      <td>26.665738</td>\n",
       "      <td>27.116183</td>\n",
       "      <td>27.169297</td>\n",
       "      <td>27.285666</td>\n",
       "    </tr>\n",
       "    <tr>\n",
       "      <th>3</th>\n",
       "      <td>55.174922</td>\n",
       "      <td>69.881268</td>\n",
       "      <td>17.269816</td>\n",
       "      <td>52.921073</td>\n",
       "      <td>120.201672</td>\n",
       "      <td>68.952123</td>\n",
       "      <td>58.241321</td>\n",
       "      <td>23.365528</td>\n",
       "      <td>28.443318</td>\n",
       "      <td>95.649879</td>\n",
       "      <td>90.452817</td>\n",
       "      <td>90.550396</td>\n",
       "      <td>90.618415</td>\n",
       "      <td>90.223075</td>\n",
       "      <td>90.341930</td>\n",
       "      <td>90.196677</td>\n",
       "      <td>90.196464</td>\n",
       "      <td>90.218312</td>\n",
       "    </tr>\n",
       "    <tr>\n",
       "      <th>4</th>\n",
       "      <td>20.637916</td>\n",
       "      <td>49.636894</td>\n",
       "      <td>26.081831</td>\n",
       "      <td>60.323686</td>\n",
       "      <td>72.151064</td>\n",
       "      <td>89.165291</td>\n",
       "      <td>93.539515</td>\n",
       "      <td>148.814514</td>\n",
       "      <td>153.701377</td>\n",
       "      <td>102.584082</td>\n",
       "      <td>96.444875</td>\n",
       "      <td>96.515531</td>\n",
       "      <td>96.563444</td>\n",
       "      <td>96.344675</td>\n",
       "      <td>96.430678</td>\n",
       "      <td>96.321121</td>\n",
       "      <td>96.322274</td>\n",
       "      <td>96.340747</td>\n",
       "    </tr>\n",
       "  </tbody>\n",
       "</table>\n",
       "</div>"
      ],
      "text/plain": [
       "   martwe_drzewa_2014  martwe_drzewa_2015  martwe_drzewa_2016  \\\n",
       "0           78.676606           59.442884           48.021276   \n",
       "1           87.708764           69.128894           20.567383   \n",
       "2          102.748191            6.739718           24.170321   \n",
       "3           55.174922           69.881268           17.269816   \n",
       "4           20.637916           49.636894           26.081831   \n",
       "\n",
       "   martwe_drzewa_2017  martwe_drzewa_2018  martwe_drzewa_2019  \\\n",
       "0           28.601377          109.077172           37.474313   \n",
       "1           70.361647          133.927845           50.928487   \n",
       "2           38.096430          155.595804           79.713134   \n",
       "3           52.921073          120.201672           68.952123   \n",
       "4           60.323686           72.151064           89.165291   \n",
       "\n",
       "   martwe_drzewa_2020  martwe_drzewa_2021  martwe_drzewa_2022  \\\n",
       "0          138.463302          125.823057          133.472899   \n",
       "1          147.226695          123.968151          134.859794   \n",
       "2           20.370342           34.409464           43.730706   \n",
       "3           58.241321           23.365528           28.443318   \n",
       "4           93.539515          148.814514          153.701377   \n",
       "\n",
       "   zywe_drzewa_2014  zywe_drzewa_2015  zywe_drzewa_2016  zywe_drzewa_2017  \\\n",
       "0         35.787180         33.102046         33.355147         33.527376   \n",
       "1         21.179791         20.126245         20.231516         20.321681   \n",
       "2         27.269804         26.626030         26.598475         26.399674   \n",
       "3         95.649879         90.452817         90.550396         90.618415   \n",
       "4        102.584082         96.444875         96.515531         96.563444   \n",
       "\n",
       "   zywe_drzewa_2018  zywe_drzewa_2019  zywe_drzewa_2020  zywe_drzewa_2021  \\\n",
       "0         32.775950         33.078457         32.772300         32.772395   \n",
       "1         19.610447         19.729468         19.720828         19.768899   \n",
       "2         26.611076         26.665738         27.116183         27.169297   \n",
       "3         90.223075         90.341930         90.196677         90.196464   \n",
       "4         96.344675         96.430678         96.321121         96.322274   \n",
       "\n",
       "   zywe_drzewa_2022  \n",
       "0         32.775429  \n",
       "1         19.838615  \n",
       "2         27.285666  \n",
       "3         90.218312  \n",
       "4         96.340747  "
      ]
     },
     "execution_count": 3,
     "metadata": {},
     "output_type": "execute_result"
    }
   ],
   "source": [
    "preview = concat_dfs('wyniki csv 10m północ')\n",
    "preview.head()"
   ]
  },
  {
   "cell_type": "markdown",
   "id": "344350c1",
   "metadata": {},
   "source": [
    "#### data preparation"
   ]
  },
  {
   "cell_type": "code",
   "execution_count": 4,
   "id": "3aedec8c",
   "metadata": {},
   "outputs": [],
   "source": [
    "def prepare_data(data):\n",
    "    data = pd.melt(data)\n",
    "    \n",
    "    d_2014_2019 = data.loc[(data['variable'].isin(['martwe_drzewa_2014',\n",
    "                                                            'martwe_drzewa_2015',\n",
    "                                                            'martwe_drzewa_2016',\n",
    "                                                            'martwe_drzewa_2017',\n",
    "                                                            'martwe_drzewa_2018']))].dropna()\n",
    "    d_2019_2022 = data.loc[(data['variable'].isin(['martwe_drzewa_2019',\n",
    "                                                            'martwe_drzewa_2020',\n",
    "                                                            'martwe_drzewa_2021',\n",
    "                                                            'martwe_drzewa_2022']))].dropna()\n",
    "    \n",
    "    d_2014_2022 = data.loc[(data['variable'].isin(['martwe_drzewa_2014',\n",
    "                                                            'martwe_drzewa_2015',\n",
    "                                                            'martwe_drzewa_2016',\n",
    "                                                            'martwe_drzewa_2017',\n",
    "                                                            'martwe_drzewa_2018',\n",
    "                                                            'martwe_drzewa_2019',\n",
    "                                                            'martwe_drzewa_2020',\n",
    "                                                            'martwe_drzewa_2021',\n",
    "                                                            'martwe_drzewa_2022']))].dropna()\n",
    "    \n",
    "    s_2018 = data.loc[(data['variable'].isin(['zywe_drzewa_2018']))].dropna()\n",
    "    s_2022 = data.loc[(data['variable'].isin(['zywe_drzewa_2022']))].dropna()\n",
    "    \n",
    "    d_2014_2019 = d_2014_2019.assign(variable='martwe 2014-2018')\n",
    "    d_2019_2022 = d_2019_2022.assign(variable='martwe 2019-2022')\n",
    "    d_2014_2022 = d_2014_2022.assign(variable='martwe 2014-2022')\n",
    "    s_2018 = s_2018.assign(variable='żywe 2018')\n",
    "    s_2022 = s_2022.assign(variable='żywe 2022')\n",
    "    \n",
    "    df = pd.concat([d_2014_2019, d_2019_2022, d_2014_2022, s_2018, s_2022])\n",
    "    \n",
    "    df['value'] = pd.to_numeric(df['value'])\n",
    "\n",
    "    df['udział luki (%)'] = (df['value'] * 100) / ((3.14 * 10 * 10) / 2)\n",
    "    \n",
    "    return df"
   ]
  },
  {
   "cell_type": "code",
   "execution_count": 5,
   "id": "5a79237e",
   "metadata": {},
   "outputs": [],
   "source": [
    "#north \n",
    "\n",
    "north_10m = prepare_data(concat_dfs('wyniki csv 10m północ'))\n",
    "\n",
    "\n",
    "north_2014_2018 = (north_10m.loc[(north_10m['variable'] == 'martwe 2014-2018') |\n",
    "                               (north_10m['variable'] == 'żywe 2018')]\n",
    "                   .reset_index(drop = True)\n",
    "                   .pivot(columns = 'variable', values = 'udział luki (%)'))\n",
    "\n",
    "north_2019_2022 = (north_10m.loc[(north_10m['variable'] == 'martwe 2019-2022') |\n",
    "                               (north_10m['variable'] == 'żywe 2022')]\n",
    "                   .reset_index(drop = True)\n",
    "                   .pivot(columns = 'variable', values = 'udział luki (%)'))\n",
    "\n",
    "north_2014_2022 = (north_10m.loc[(north_10m['variable'] == 'martwe 2014-2022') |\n",
    "                               (north_10m['variable'] == 'żywe 2022')]\n",
    "                   .reset_index(drop = True)\n",
    "                   .pivot(columns = 'variable', values = 'udział luki (%)'))\n",
    "\n",
    "#south\n",
    "\n",
    "south_10m = prepare_data(concat_dfs('wyniki csv 10m południe'))\n",
    "\n",
    "south_2014_2018 = (south_10m.loc[(south_10m['variable'] == 'martwe 2014-2018') |\n",
    "                               (south_10m['variable'] == 'żywe 2018')]\n",
    "                   .reset_index(drop = True)\n",
    "                   .pivot(columns = 'variable', values = 'udział luki (%)'))\n",
    "\n",
    "south_2019_2022 = (south_10m\n",
    "                   .loc[(south_10m['variable'] == 'martwe 2019-2022') |\n",
    "                               (south_10m['variable'] == 'żywe 2022')]\n",
    "                   .reset_index(drop = True)\n",
    "                   .pivot(columns = 'variable', values = 'udział luki (%)'))\n",
    "\n",
    "south_2014_2022 = (south_10m\n",
    "                   .loc[(south_10m['variable'] == 'martwe 2014-2022') |\n",
    "                               (south_10m['variable'] == 'żywe 2022')]\n",
    "                   .reset_index(drop = True)\n",
    "                   .pivot(columns = 'variable', values = 'udział luki (%)'))"
   ]
  },
  {
   "cell_type": "code",
   "execution_count": 6,
   "id": "7aea1847",
   "metadata": {},
   "outputs": [],
   "source": [
    "def delete_index_name(df_list):\n",
    "    for element in df_list:\n",
    "        element.columns.name = None\n",
    "        \n",
    "delete_index_name([south_2014_2018, south_2019_2022, south_2014_2022, \n",
    "                  north_2014_2018, north_2019_2022, north_2014_2022])"
   ]
  },
  {
   "cell_type": "markdown",
   "id": "00399294",
   "metadata": {},
   "source": [
    "### Summary chart"
   ]
  },
  {
   "cell_type": "code",
   "execution_count": 7,
   "id": "deb5ec24",
   "metadata": {},
   "outputs": [],
   "source": [
    "%matplotlib inline"
   ]
  },
  {
   "cell_type": "code",
   "execution_count": 8,
   "id": "de2ffa17",
   "metadata": {},
   "outputs": [
    {
     "data": {
      "image/png": "[encoded data removed]",
      "text/plain": [
       "<Figure size 1000x1500 with 6 Axes>"
      ]
     },
     "metadata": {},
     "output_type": "display_data"
    }
   ],
   "source": [
    "fig, ax = plt.subplots(nrows=3, ncols=2, figsize=(10, 15))\n",
    "\n",
    "sns.histplot(north_2014_2018, ax=ax[0][0])\n",
    "sns.histplot(south_2014_2018, ax=ax[0][1])\n",
    "sns.histplot(north_2019_2022, ax=ax[1][0])\n",
    "sns.histplot(south_2019_2022, ax=ax[1][1])\n",
    "sns.histplot(north_2014_2022, ax=ax[2][0])\n",
    "sns.histplot(south_2014_2022, ax=ax[2][1])\n",
    "\n",
    "for i in range(0,3):\n",
    "    for j in range(0,2):\n",
    "        \n",
    "        if j == 0:       \n",
    "            ax[i][j].set_title(\"Północ\")\n",
    "        else:\n",
    "            ax[i][j].set_title(\"Południe\")\n",
    "\n",
    "        ax[i][j].set_ylabel(\"Liczebność\")\n",
    "        ax[i][j].set_xlabel(\"Udział luki drzewostanowej (%)\")"
   ]
  },
  {
   "cell_type": "markdown",
   "id": "8accbd8e",
   "metadata": {},
   "source": [
    "### statistical test"
   ]
  },
  {
   "cell_type": "markdown",
   "id": "2e0dc140",
   "metadata": {},
   "source": [
    "#### North"
   ]
  },
  {
   "cell_type": "markdown",
   "id": "071141f8",
   "metadata": {},
   "source": [
    "2014-2018"
   ]
  },
  {
   "cell_type": "code",
   "execution_count": 9,
   "id": "12a49714",
   "metadata": {},
   "outputs": [
    {
     "data": {
      "text/plain": [
       "KstestResult(statistic=0.09695799933508183, pvalue=0.0024019369450425164)"
      ]
     },
     "execution_count": 9,
     "metadata": {},
     "output_type": "execute_result"
    }
   ],
   "source": [
    "ks_N_2014_2018 = ks_2samp(north_2014_2018.iloc[:,0].dropna(), north_2014_2018.iloc[:,1].dropna())\n",
    "ks_N_2014_2018"
   ]
  },
  {
   "cell_type": "markdown",
   "id": "188c5f0c",
   "metadata": {},
   "source": [
    "2019-2022"
   ]
  },
  {
   "cell_type": "code",
   "execution_count": 10,
   "id": "ea626718",
   "metadata": {},
   "outputs": [
    {
     "data": {
      "text/plain": [
       "KstestResult(statistic=0.1948980896103513, pvalue=0.0008080177886368913)"
      ]
     },
     "execution_count": 10,
     "metadata": {},
     "output_type": "execute_result"
    }
   ],
   "source": [
    "ks_N_2019_2022 = ks_2samp(north_2019_2022.iloc[:,0].dropna(), north_2019_2022.iloc[:,1].dropna())\n",
    "ks_N_2019_2022"
   ]
  },
  {
   "cell_type": "markdown",
   "id": "11ea1d11",
   "metadata": {},
   "source": [
    "2014-2022"
   ]
  },
  {
   "cell_type": "code",
   "execution_count": 11,
   "id": "9296c8cf",
   "metadata": {},
   "outputs": [
    {
     "data": {
      "text/plain": [
       "KstestResult(statistic=0.09705527028161125, pvalue=0.0007008455860077707)"
      ]
     },
     "execution_count": 11,
     "metadata": {},
     "output_type": "execute_result"
    }
   ],
   "source": [
    "ks_N_2014_2022 = ks_2samp(north_2014_2022.iloc[:,0].dropna(), north_2014_2022.iloc[:,1].dropna())\n",
    "ks_N_2014_2022"
   ]
  },
  {
   "cell_type": "markdown",
   "id": "98b7ccee",
   "metadata": {},
   "source": [
    "#### South"
   ]
  },
  {
   "cell_type": "markdown",
   "id": "f61b5813",
   "metadata": {},
   "source": [
    "2014-2018"
   ]
  },
  {
   "cell_type": "code",
   "execution_count": 12,
   "id": "067d74ee",
   "metadata": {},
   "outputs": [
    {
     "data": {
      "text/plain": [
       "KstestResult(statistic=0.04144049187527448, pvalue=0.5355858829007178)"
      ]
     },
     "execution_count": 12,
     "metadata": {},
     "output_type": "execute_result"
    }
   ],
   "source": [
    "ks_S_2014_2018 = ks_2samp(south_2014_2018.iloc[:,0].dropna(), south_2014_2018.iloc[:,1].dropna())\n",
    "ks_S_2014_2018"
   ]
  },
  {
   "cell_type": "markdown",
   "id": "a5bb8709",
   "metadata": {},
   "source": [
    "2019-2022"
   ]
  },
  {
   "cell_type": "code",
   "execution_count": 13,
   "id": "0f2806da",
   "metadata": {},
   "outputs": [
    {
     "data": {
      "text/plain": [
       "KstestResult(statistic=0.05804910183173233, pvalue=0.8665966824949629)"
      ]
     },
     "execution_count": 13,
     "metadata": {},
     "output_type": "execute_result"
    }
   ],
   "source": [
    "ks_S_2019_2022 = ks_2samp(south_2019_2022.iloc[:,0].dropna(), south_2019_2022.iloc[:,1].dropna())\n",
    "ks_S_2019_2022"
   ]
  },
  {
   "cell_type": "markdown",
   "id": "0d712e64",
   "metadata": {},
   "source": [
    "2014-2022"
   ]
  },
  {
   "cell_type": "code",
   "execution_count": 14,
   "id": "16ffaddc",
   "metadata": {},
   "outputs": [
    {
     "data": {
      "text/plain": [
       "KstestResult(statistic=0.06213236810239146, pvalue=0.06819979404813577)"
      ]
     },
     "execution_count": 14,
     "metadata": {},
     "output_type": "execute_result"
    }
   ],
   "source": [
    "ks_S_2014_2022 = ks_2samp(south_2014_2022.iloc[:,0].dropna(), south_2014_2022.iloc[:,1].dropna())\n",
    "ks_S_2014_2022"
   ]
  },
  {
   "cell_type": "markdown",
   "id": "52cc9ee1",
   "metadata": {},
   "source": [
    "#### summary table"
   ]
  },
  {
   "cell_type": "code",
   "execution_count": 15,
   "id": "271f6624",
   "metadata": {},
   "outputs": [
    {
     "data": {
      "text/html": [
       "<style type=\"text/css\">\n",
       "#T_6f6a6 th {\n",
       "  text-align: center;\n",
       "}\n",
       "#T_6f6a6_row0_col0, #T_6f6a6_row0_col1, #T_6f6a6_row0_col2, #T_6f6a6_row1_col0, #T_6f6a6_row1_col1, #T_6f6a6_row1_col2 {\n",
       "  text-align: center;\n",
       "}\n",
       "</style>\n",
       "<table id=\"T_6f6a6\">\n",
       "  <thead>\n",
       "    <tr>\n",
       "      <th class=\"index_name level0\" >żywe:</th>\n",
       "      <th id=\"T_6f6a6_level0_col0\" class=\"col_heading level0 col0\" >2018</th>\n",
       "      <th id=\"T_6f6a6_level0_col1\" class=\"col_heading level0 col1\" colspan=\"2\">2022</th>\n",
       "    </tr>\n",
       "    <tr>\n",
       "      <th class=\"index_name level1\" >martwe:</th>\n",
       "      <th id=\"T_6f6a6_level1_col0\" class=\"col_heading level1 col0\" >2014 - 2018</th>\n",
       "      <th id=\"T_6f6a6_level1_col1\" class=\"col_heading level1 col1\" >2019 - 2022</th>\n",
       "      <th id=\"T_6f6a6_level1_col2\" class=\"col_heading level1 col2\" >2014 - 2022</th>\n",
       "    </tr>\n",
       "  </thead>\n",
       "  <tbody>\n",
       "    <tr>\n",
       "      <th id=\"T_6f6a6_level0_row0\" class=\"row_heading level0 row0\" >p-value (N)</th>\n",
       "      <td id=\"T_6f6a6_row0_col0\" class=\"data row0 col0\" >0.002402</td>\n",
       "      <td id=\"T_6f6a6_row0_col1\" class=\"data row0 col1\" >0.000808</td>\n",
       "      <td id=\"T_6f6a6_row0_col2\" class=\"data row0 col2\" >0.000701</td>\n",
       "    </tr>\n",
       "    <tr>\n",
       "      <th id=\"T_6f6a6_level0_row1\" class=\"row_heading level0 row1\" >p-value (S)</th>\n",
       "      <td id=\"T_6f6a6_row1_col0\" class=\"data row1 col0\" >0.535586</td>\n",
       "      <td id=\"T_6f6a6_row1_col1\" class=\"data row1 col1\" >0.866597</td>\n",
       "      <td id=\"T_6f6a6_row1_col2\" class=\"data row1 col2\" >0.068200</td>\n",
       "    </tr>\n",
       "  </tbody>\n",
       "</table>\n"
      ],
      "text/plain": [
       "<pandas.io.formats.style.Styler at 0x7fe02c247370>"
      ]
     },
     "execution_count": 15,
     "metadata": {},
     "output_type": "execute_result"
    }
   ],
   "source": [
    "col_list = pd.MultiIndex.from_tuples([('2018', '2014 - 2018'), ('2022', '2019 - 2022'), ('2022','2014 - 2022')])\n",
    "\n",
    "summary_table_N = pd.DataFrame({\n",
    "    '2014 - 2018': [ks_N_2014_2018[1], ks_S_2014_2018[1]], \n",
    "    '2019 - 2022': [ks_N_2019_2022[1], ks_S_2019_2022[1]], \n",
    "    '2014 - 2022': [ks_N_2014_2022[1], ks_S_2014_2022[1]], \n",
    "}, index = ['p-value (N)', 'p-value (S)'])\n",
    "\n",
    "\n",
    "summary_table_N.columns=pd.MultiIndex.from_tuples(col_list, names = ['żywe:', 'martwe:'])\n",
    "\n",
    "summary_table_N = summary_table_N.style.set_table_styles([dict(selector='th', props=[('text-align', 'center')])])\n",
    "summary_table_N.set_properties(**{'text-align': 'center'})\n",
    "\n",
    "summary_table_N"
   ]
  },
  {
   "cell_type": "markdown",
   "id": "f5fa5ccf",
   "metadata": {},
   "source": [
    "### preview of feature distribution"
   ]
  },
  {
   "cell_type": "markdown",
   "id": "c020584b",
   "metadata": {},
   "source": [
    "#### North"
   ]
  },
  {
   "cell_type": "code",
   "execution_count": 16,
   "id": "f847f29d",
   "metadata": {},
   "outputs": [],
   "source": [
    "box_N_2014_2018 = pd.melt(north_2014_2018).dropna().reset_index(drop = True)\n",
    "box_N_2019_2022 = pd.melt(north_2019_2022).dropna().reset_index(drop = True)\n",
    "box_N_2014_2022 = pd.melt(north_2014_2022.drop('żywe 2022', axis=1)).dropna().reset_index(drop = True)"
   ]
  },
  {
   "cell_type": "code",
   "execution_count": 17,
   "id": "6f522e6b",
   "metadata": {},
   "outputs": [],
   "source": [
    "box_N_2014_2022 = pd.concat([box_N_2014_2018, box_N_2019_2022, box_N_2014_2022], axis = 0)"
   ]
  },
  {
   "cell_type": "code",
   "execution_count": 18,
   "id": "6c10bcd2",
   "metadata": {},
   "outputs": [
    {
     "data": {
      "text/plain": [
       "[Text(0.5, 0, '')]"
      ]
     },
     "execution_count": 18,
     "metadata": {},
     "output_type": "execute_result"
    },
    {
     "data": {
      "image/png": "[encoded data removed]",
      "text/plain": [
       "<Figure size 640x480 with 1 Axes>"
      ]
     },
     "metadata": {},
     "output_type": "display_data"
    }
   ],
   "source": [
    "order = ['martwe 2014-2018', 'martwe 2019-2022', 'martwe 2014-2022', 'żywe 2018', 'żywe 2022']\n",
    "my_pal = {\n",
    "    'martwe 2014-2018': 'lightgreen', \n",
    "    'martwe 2019-2022': 'lightgreen', \n",
    "    'martwe 2014-2022': 'lightgreen',\n",
    "    'żywe 2018': 'forestgreen',\n",
    "    'żywe 2022': 'forestgreen'\n",
    "         }\n",
    "\n",
    "ax = sns.boxplot(data=box_N_2014_2022, x = \"variable\", y = \"value\", order = order, palette = my_pal)\n",
    "ax.set_xticklabels(ax.get_xticklabels(), rotation= 25, ha=\"right\")\n",
    "ax.set_ylabel(\"Udział luki drzewostanowej (%)\")\n",
    "ax.set(xlabel=None)"
   ]
  },
  {
   "cell_type": "code",
   "execution_count": 23,
   "id": "9a3f894d",
   "metadata": {},
   "outputs": [],
   "source": [
    "describe_stats = pd.DataFrame(\n",
    "    {\n",
    "    'martwe 2014-2018': (box_N_2014_2022\n",
    "                         .loc[box_N_2014_2022['variable'] == 'martwe 2014-2018']\n",
    "                         .describe()\n",
    "                         .applymap(lambda x: f\"{x:0.2f}\")['value']),\n",
    "    'martwe 2019-2022': (box_N_2014_2022\n",
    "                         .loc[box_N_2014_2022['variable'] == 'martwe 2019-2022']\n",
    "                         .describe()\n",
    "                         .applymap(lambda x: f\"{x:0.2f}\")['value']),\n",
    "    'martwe 2014-2022': (box_N_2014_2022\n",
    "                         .loc[box_N_2014_2022['variable'] == 'martwe 2014-2022']\n",
    "                         .describe()\n",
    "                         .applymap(lambda x: f\"{x:0.2f}\")['value']),\n",
    "    'żywe 2018': (box_N_2014_2022\n",
    "                  .loc[box_N_2014_2022['variable'] == 'żywe 2018']\n",
    "                  .describe()\n",
    "                  .applymap(lambda x: f\"{x:0.2f}\")['value']),\n",
    "    'żywe 2022': (box_N_2014_2022\n",
    "                  .loc[box_N_2014_2022['variable'] == 'żywe 2022']\n",
    "                  .describe()\n",
    "                  .applymap(lambda x: f\"{x:0.2f}\")['value']),\n",
    "    })"
   ]
  },
  {
   "cell_type": "code",
   "execution_count": 25,
   "id": "2cab16fd",
   "metadata": {},
   "outputs": [
    {
     "data": {
      "text/html": [
       "<div>\n",
       "<style scoped>\n",
       "    .dataframe tbody tr th:only-of-type {\n",
       "        vertical-align: middle;\n",
       "    }\n",
       "\n",
       "    .dataframe tbody tr th {\n",
       "        vertical-align: top;\n",
       "    }\n",
       "\n",
       "    .dataframe thead th {\n",
       "        text-align: right;\n",
       "    }\n",
       "</style>\n",
       "<table border=\"1\" class=\"dataframe\">\n",
       "  <thead>\n",
       "    <tr style=\"text-align: right;\">\n",
       "      <th></th>\n",
       "      <th>martwe 2014-2018</th>\n",
       "      <th>martwe 2019-2022</th>\n",
       "      <th>martwe 2014-2022</th>\n",
       "      <th>żywe 2018</th>\n",
       "      <th>żywe 2022</th>\n",
       "    </tr>\n",
       "  </thead>\n",
       "  <tbody>\n",
       "    <tr>\n",
       "      <th>count</th>\n",
       "      <td>428.00</td>\n",
       "      <td>106.00</td>\n",
       "      <td>534.00</td>\n",
       "      <td>2024.00</td>\n",
       "      <td>1919.00</td>\n",
       "    </tr>\n",
       "    <tr>\n",
       "      <th>mean</th>\n",
       "      <td>37.52</td>\n",
       "      <td>53.34</td>\n",
       "      <td>40.66</td>\n",
       "      <td>42.33</td>\n",
       "      <td>44.68</td>\n",
       "    </tr>\n",
       "    <tr>\n",
       "      <th>std</th>\n",
       "      <td>22.27</td>\n",
       "      <td>27.61</td>\n",
       "      <td>24.24</td>\n",
       "      <td>22.27</td>\n",
       "      <td>22.41</td>\n",
       "    </tr>\n",
       "    <tr>\n",
       "      <th>min</th>\n",
       "      <td>0.00</td>\n",
       "      <td>0.00</td>\n",
       "      <td>0.00</td>\n",
       "      <td>0.00</td>\n",
       "      <td>0.00</td>\n",
       "    </tr>\n",
       "    <tr>\n",
       "      <th>25%</th>\n",
       "      <td>19.41</td>\n",
       "      <td>32.21</td>\n",
       "      <td>21.44</td>\n",
       "      <td>24.84</td>\n",
       "      <td>27.16</td>\n",
       "    </tr>\n",
       "    <tr>\n",
       "      <th>50%</th>\n",
       "      <td>35.55</td>\n",
       "      <td>52.81</td>\n",
       "      <td>37.84</td>\n",
       "      <td>40.84</td>\n",
       "      <td>44.08</td>\n",
       "    </tr>\n",
       "    <tr>\n",
       "      <th>75%</th>\n",
       "      <td>52.47</td>\n",
       "      <td>79.85</td>\n",
       "      <td>55.79</td>\n",
       "      <td>57.87</td>\n",
       "      <td>60.89</td>\n",
       "    </tr>\n",
       "    <tr>\n",
       "      <th>max</th>\n",
       "      <td>99.11</td>\n",
       "      <td>99.59</td>\n",
       "      <td>99.59</td>\n",
       "      <td>99.54</td>\n",
       "      <td>99.54</td>\n",
       "    </tr>\n",
       "  </tbody>\n",
       "</table>\n",
       "</div>"
      ],
      "text/plain": [
       "      martwe 2014-2018 martwe 2019-2022 martwe 2014-2022 żywe 2018 żywe 2022\n",
       "count           428.00           106.00           534.00   2024.00   1919.00\n",
       "mean             37.52            53.34            40.66     42.33     44.68\n",
       "std              22.27            27.61            24.24     22.27     22.41\n",
       "min               0.00             0.00             0.00      0.00      0.00\n",
       "25%              19.41            32.21            21.44     24.84     27.16\n",
       "50%              35.55            52.81            37.84     40.84     44.08\n",
       "75%              52.47            79.85            55.79     57.87     60.89\n",
       "max              99.11            99.59            99.59     99.54     99.54"
      ]
     },
     "execution_count": 25,
     "metadata": {},
     "output_type": "execute_result"
    }
   ],
   "source": [
    "describe_stats"
   ]
  },
  {
   "cell_type": "code",
   "execution_count": 26,
   "id": "0fd21f26",
   "metadata": {},
   "outputs": [
    {
     "data": {
      "text/html": [
       "<style type=\"text/css\">\n",
       "#T_7e5a3 th {\n",
       "  text-align: center;\n",
       "}\n",
       "#T_7e5a3_row0_col0, #T_7e5a3_row0_col1, #T_7e5a3_row0_col2, #T_7e5a3_row0_col3, #T_7e5a3_row0_col4, #T_7e5a3_row1_col0, #T_7e5a3_row1_col1, #T_7e5a3_row1_col2, #T_7e5a3_row1_col3, #T_7e5a3_row1_col4, #T_7e5a3_row2_col0, #T_7e5a3_row2_col1, #T_7e5a3_row2_col2, #T_7e5a3_row2_col3, #T_7e5a3_row2_col4 {\n",
       "  text-align: center;\n",
       "}\n",
       "</style>\n",
       "<table id=\"T_7e5a3\">\n",
       "  <thead>\n",
       "    <tr>\n",
       "      <th class=\"blank level0\" >&nbsp;</th>\n",
       "      <th id=\"T_7e5a3_level0_col0\" class=\"col_heading level0 col0\" >martwe 2014-2018</th>\n",
       "      <th id=\"T_7e5a3_level0_col1\" class=\"col_heading level0 col1\" >martwe 2019-2022</th>\n",
       "      <th id=\"T_7e5a3_level0_col2\" class=\"col_heading level0 col2\" >martwe 2014-2022</th>\n",
       "      <th id=\"T_7e5a3_level0_col3\" class=\"col_heading level0 col3\" >żywe 2018</th>\n",
       "      <th id=\"T_7e5a3_level0_col4\" class=\"col_heading level0 col4\" >żywe 2022</th>\n",
       "    </tr>\n",
       "  </thead>\n",
       "  <tbody>\n",
       "    <tr>\n",
       "      <th id=\"T_7e5a3_level0_row0\" class=\"row_heading level0 row0\" >średnia</th>\n",
       "      <td id=\"T_7e5a3_row0_col0\" class=\"data row0 col0\" >37.52</td>\n",
       "      <td id=\"T_7e5a3_row0_col1\" class=\"data row0 col1\" >53.34</td>\n",
       "      <td id=\"T_7e5a3_row0_col2\" class=\"data row0 col2\" >40.66</td>\n",
       "      <td id=\"T_7e5a3_row0_col3\" class=\"data row0 col3\" >42.33</td>\n",
       "      <td id=\"T_7e5a3_row0_col4\" class=\"data row0 col4\" >44.68</td>\n",
       "    </tr>\n",
       "    <tr>\n",
       "      <th id=\"T_7e5a3_level0_row1\" class=\"row_heading level0 row1\" >mediana</th>\n",
       "      <td id=\"T_7e5a3_row1_col0\" class=\"data row1 col0\" >35.55</td>\n",
       "      <td id=\"T_7e5a3_row1_col1\" class=\"data row1 col1\" >52.81</td>\n",
       "      <td id=\"T_7e5a3_row1_col2\" class=\"data row1 col2\" >37.84</td>\n",
       "      <td id=\"T_7e5a3_row1_col3\" class=\"data row1 col3\" >40.84</td>\n",
       "      <td id=\"T_7e5a3_row1_col4\" class=\"data row1 col4\" >44.08</td>\n",
       "    </tr>\n",
       "    <tr>\n",
       "      <th id=\"T_7e5a3_level0_row2\" class=\"row_heading level0 row2\" >sd</th>\n",
       "      <td id=\"T_7e5a3_row2_col0\" class=\"data row2 col0\" >22.27</td>\n",
       "      <td id=\"T_7e5a3_row2_col1\" class=\"data row2 col1\" >27.61</td>\n",
       "      <td id=\"T_7e5a3_row2_col2\" class=\"data row2 col2\" >24.24</td>\n",
       "      <td id=\"T_7e5a3_row2_col3\" class=\"data row2 col3\" >22.27</td>\n",
       "      <td id=\"T_7e5a3_row2_col4\" class=\"data row2 col4\" >22.41</td>\n",
       "    </tr>\n",
       "  </tbody>\n",
       "</table>\n"
      ],
      "text/plain": [
       "<pandas.io.formats.style.Styler at 0x7fe072ceb2b0>"
      ]
     },
     "execution_count": 26,
     "metadata": {},
     "output_type": "execute_result"
    }
   ],
   "source": [
    "median_mean_stats = describe_stats.loc[['mean','50%', 'std']].rename(index = {'mean':'średnia', '50%':'mediana', 'std':'sd'})\n",
    "median_mean_stats = median_mean_stats.style.set_table_styles([dict(selector='th', props=[('text-align', 'center')])])\n",
    "median_mean_stats.set_properties(**{'text-align': 'center'})"
   ]
  }
 ],
 "metadata": {
  "kernelspec": {
   "display_name": "Python 3 (ipykernel)",
   "language": "python",
   "name": "python3"
  },
  "language_info": {
   "codemirror_mode": {
    "name": "ipython",
    "version": 3
   },
   "file_extension": ".py",
   "mimetype": "text/x-python",
   "name": "python",
   "nbconvert_exporter": "python",
   "pygments_lexer": "ipython3",
   "version": "3.10.9"
  }
 },
 "nbformat": 4,
 "nbformat_minor": 5
}
