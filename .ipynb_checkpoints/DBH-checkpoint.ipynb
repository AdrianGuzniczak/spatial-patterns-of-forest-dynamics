{
 "cells": [
  {
   "cell_type": "code",
   "execution_count": 68,
   "id": "95181039",
   "metadata": {},
   "outputs": [],
   "source": [
    "import pandas as pd\n",
    "import numpy as np"
   ]
  },
  {
   "cell_type": "code",
   "execution_count": 73,
   "id": "dfa18a7a",
   "metadata": {},
   "outputs": [
    {
     "data": {
      "text/html": [
       "<div>\n",
       "<style scoped>\n",
       "    .dataframe tbody tr th:only-of-type {\n",
       "        vertical-align: middle;\n",
       "    }\n",
       "\n",
       "    .dataframe tbody tr th {\n",
       "        vertical-align: top;\n",
       "    }\n",
       "\n",
       "    .dataframe thead th {\n",
       "        text-align: right;\n",
       "    }\n",
       "</style>\n",
       "<table border=\"1\" class=\"dataframe\">\n",
       "  <thead>\n",
       "    <tr style=\"text-align: right;\">\n",
       "      <th></th>\n",
       "      <th>2013-żywe</th>\n",
       "      <th>2014-żywe</th>\n",
       "      <th>2015-żywe</th>\n",
       "      <th>2016-żywe</th>\n",
       "      <th>2017-żywe</th>\n",
       "      <th>2018-żywe</th>\n",
       "      <th>2019-żywe</th>\n",
       "      <th>2020-żywe</th>\n",
       "      <th>2021-żywe</th>\n",
       "      <th>2022-żywe</th>\n",
       "    </tr>\n",
       "  </thead>\n",
       "  <tbody>\n",
       "    <tr>\n",
       "      <th>2732</th>\n",
       "      <td>98.0</td>\n",
       "      <td>NaN</td>\n",
       "      <td>NaN</td>\n",
       "      <td>NaN</td>\n",
       "      <td>NaN</td>\n",
       "      <td>NaN</td>\n",
       "      <td>NaN</td>\n",
       "      <td>NaN</td>\n",
       "      <td>NaN</td>\n",
       "      <td>NaN</td>\n",
       "    </tr>\n",
       "    <tr>\n",
       "      <th>2733</th>\n",
       "      <td>99.0</td>\n",
       "      <td>NaN</td>\n",
       "      <td>NaN</td>\n",
       "      <td>NaN</td>\n",
       "      <td>NaN</td>\n",
       "      <td>NaN</td>\n",
       "      <td>NaN</td>\n",
       "      <td>NaN</td>\n",
       "      <td>NaN</td>\n",
       "      <td>NaN</td>\n",
       "    </tr>\n",
       "    <tr>\n",
       "      <th>2734</th>\n",
       "      <td>99.0</td>\n",
       "      <td>NaN</td>\n",
       "      <td>NaN</td>\n",
       "      <td>NaN</td>\n",
       "      <td>NaN</td>\n",
       "      <td>NaN</td>\n",
       "      <td>NaN</td>\n",
       "      <td>NaN</td>\n",
       "      <td>NaN</td>\n",
       "      <td>NaN</td>\n",
       "    </tr>\n",
       "    <tr>\n",
       "      <th>2735</th>\n",
       "      <td>102.0</td>\n",
       "      <td>NaN</td>\n",
       "      <td>NaN</td>\n",
       "      <td>NaN</td>\n",
       "      <td>NaN</td>\n",
       "      <td>NaN</td>\n",
       "      <td>NaN</td>\n",
       "      <td>NaN</td>\n",
       "      <td>NaN</td>\n",
       "      <td>NaN</td>\n",
       "    </tr>\n",
       "    <tr>\n",
       "      <th>2736</th>\n",
       "      <td>105.0</td>\n",
       "      <td>NaN</td>\n",
       "      <td>NaN</td>\n",
       "      <td>NaN</td>\n",
       "      <td>NaN</td>\n",
       "      <td>NaN</td>\n",
       "      <td>NaN</td>\n",
       "      <td>NaN</td>\n",
       "      <td>NaN</td>\n",
       "      <td>NaN</td>\n",
       "    </tr>\n",
       "  </tbody>\n",
       "</table>\n",
       "</div>"
      ],
      "text/plain": [
       "      2013-żywe  2014-żywe  2015-żywe  2016-żywe  2017-żywe  2018-żywe  \\\n",
       "2732       98.0        NaN        NaN        NaN        NaN        NaN   \n",
       "2733       99.0        NaN        NaN        NaN        NaN        NaN   \n",
       "2734       99.0        NaN        NaN        NaN        NaN        NaN   \n",
       "2735      102.0        NaN        NaN        NaN        NaN        NaN   \n",
       "2736      105.0        NaN        NaN        NaN        NaN        NaN   \n",
       "\n",
       "      2019-żywe  2020-żywe  2021-żywe  2022-żywe  \n",
       "2732        NaN        NaN        NaN        NaN  \n",
       "2733        NaN        NaN        NaN        NaN  \n",
       "2734        NaN        NaN        NaN        NaN  \n",
       "2735        NaN        NaN        NaN        NaN  \n",
       "2736        NaN        NaN        NaN        NaN  "
      ]
     },
     "execution_count": 73,
     "metadata": {},
     "output_type": "execute_result"
    }
   ],
   "source": [
    "dbh_living = pd.read_excel('./data/dbh-of-living trees.xlsx', header=0)\n",
    "dbh_living = pd.DataFrame(np.sort(dbh_living.values, axis=0), index=dbh_living.index, columns=dbh_living.columns)\n",
    "dbh_living.tail()"
   ]
  },
  {
   "cell_type": "code",
   "execution_count": 48,
   "id": "4640552f",
   "metadata": {},
   "outputs": [
    {
     "ename": "SyntaxError",
     "evalue": "'(' was never closed (594391234.py, line 1)",
     "output_type": "error",
     "traceback": [
      "\u001b[0;36m  Cell \u001b[0;32mIn [48], line 1\u001b[0;36m\u001b[0m\n\u001b[0;31m    dead_trees = pd.DataFrame(\u001b[0m\n\u001b[0m                             ^\u001b[0m\n\u001b[0;31mSyntaxError\u001b[0m\u001b[0;31m:\u001b[0m '(' was never closed\n"
     ]
    }
   ],
   "source": [
    "dead_trees = pd.DataFrame(\n",
    "    '2015-martwe': dbh_living['2014-żywe'] dbh_living['2015-żywe'].isnotna().sum()"
   ]
  },
  {
   "cell_type": "code",
   "execution_count": 74,
   "id": "81ea4d36",
   "metadata": {},
   "outputs": [
    {
     "data": {
      "text/plain": [
       "2648     74.0\n",
       "2649     74.0\n",
       "2650     74.0\n",
       "2651     74.0\n",
       "2652     74.0\n",
       "        ...  \n",
       "2732     98.0\n",
       "2733     99.0\n",
       "2734     99.0\n",
       "2735    102.0\n",
       "2736    105.0\n",
       "Name: 2013-żywe, Length: 89, dtype: float64"
      ]
     },
     "execution_count": 74,
     "metadata": {},
     "output_type": "execute_result"
    }
   ],
   "source": [
    "dbh_living['2013-żywe'].iloc[dbh_living['2014-żywe'].notna().sum():]"
   ]
  },
  {
   "cell_type": "code",
   "execution_count": 50,
   "id": "675bcd1e",
   "metadata": {},
   "outputs": [
    {
     "data": {
      "text/plain": [
       "2555"
      ]
     },
     "execution_count": 50,
     "metadata": {},
     "output_type": "execute_result"
    }
   ],
   "source": [
    "dbh_living['2015-żywe'].notna().sum()"
   ]
  }
 ],
 "metadata": {
  "kernelspec": {
   "display_name": "Python 3 (ipykernel)",
   "language": "python",
   "name": "python3"
  },
  "language_info": {
   "codemirror_mode": {
    "name": "ipython",
    "version": 3
   },
   "file_extension": ".py",
   "mimetype": "text/x-python",
   "name": "python",
   "nbconvert_exporter": "python",
   "pygments_lexer": "ipython3",
   "version": "3.10.6"
  }
 },
 "nbformat": 4,
 "nbformat_minor": 5
}
