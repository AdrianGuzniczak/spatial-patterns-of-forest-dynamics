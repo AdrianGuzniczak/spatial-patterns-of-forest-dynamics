{
 "cells": [
  {
   "cell_type": "code",
   "execution_count": 20,
   "id": "95181039",
   "metadata": {},
   "outputs": [],
   "source": [
    "import pandas as pd\n",
    "import numpy as np\n",
    "from scipy.stats import ks_2samp\n",
    "import seaborn as sns\n",
    "import matplotlib.pyplot as plt"
   ]
  },
  {
   "cell_type": "markdown",
   "id": "d438b357",
   "metadata": {},
   "source": [
    "## DHB of living trees"
   ]
  },
  {
   "cell_type": "code",
   "execution_count": 30,
   "id": "dfa18a7a",
   "metadata": {},
   "outputs": [
    {
     "data": {
      "text/html": [
       "<div>\n",
       "<style scoped>\n",
       "    .dataframe tbody tr th:only-of-type {\n",
       "        vertical-align: middle;\n",
       "    }\n",
       "\n",
       "    .dataframe tbody tr th {\n",
       "        vertical-align: top;\n",
       "    }\n",
       "\n",
       "    .dataframe thead th {\n",
       "        text-align: right;\n",
       "    }\n",
       "</style>\n",
       "<table border=\"1\" class=\"dataframe\">\n",
       "  <thead>\n",
       "    <tr style=\"text-align: right;\">\n",
       "      <th></th>\n",
       "      <th>2013-żywe</th>\n",
       "      <th>2014-żywe</th>\n",
       "      <th>2015-żywe</th>\n",
       "      <th>2016-żywe</th>\n",
       "      <th>2017-żywe</th>\n",
       "      <th>2018-żywe</th>\n",
       "      <th>2019-żywe</th>\n",
       "      <th>2020-żywe</th>\n",
       "      <th>2021-żywe</th>\n",
       "      <th>2022-żywe</th>\n",
       "    </tr>\n",
       "  </thead>\n",
       "  <tbody>\n",
       "    <tr>\n",
       "      <th>0</th>\n",
       "      <td>10.0</td>\n",
       "      <td>10.0</td>\n",
       "      <td>10.0</td>\n",
       "      <td>10.0</td>\n",
       "      <td>10.0</td>\n",
       "      <td>10.0</td>\n",
       "      <td>10.0</td>\n",
       "      <td>10.0</td>\n",
       "      <td>10.0</td>\n",
       "      <td>10.0</td>\n",
       "    </tr>\n",
       "    <tr>\n",
       "      <th>1</th>\n",
       "      <td>11.0</td>\n",
       "      <td>11.0</td>\n",
       "      <td>11.0</td>\n",
       "      <td>11.0</td>\n",
       "      <td>11.0</td>\n",
       "      <td>11.0</td>\n",
       "      <td>11.0</td>\n",
       "      <td>11.0</td>\n",
       "      <td>11.0</td>\n",
       "      <td>11.0</td>\n",
       "    </tr>\n",
       "    <tr>\n",
       "      <th>2</th>\n",
       "      <td>12.0</td>\n",
       "      <td>12.0</td>\n",
       "      <td>12.0</td>\n",
       "      <td>12.0</td>\n",
       "      <td>12.0</td>\n",
       "      <td>12.0</td>\n",
       "      <td>12.0</td>\n",
       "      <td>12.0</td>\n",
       "      <td>12.0</td>\n",
       "      <td>12.0</td>\n",
       "    </tr>\n",
       "    <tr>\n",
       "      <th>3</th>\n",
       "      <td>12.0</td>\n",
       "      <td>12.0</td>\n",
       "      <td>12.0</td>\n",
       "      <td>12.0</td>\n",
       "      <td>12.0</td>\n",
       "      <td>12.0</td>\n",
       "      <td>12.0</td>\n",
       "      <td>12.0</td>\n",
       "      <td>12.0</td>\n",
       "      <td>12.0</td>\n",
       "    </tr>\n",
       "    <tr>\n",
       "      <th>4</th>\n",
       "      <td>12.0</td>\n",
       "      <td>12.0</td>\n",
       "      <td>12.0</td>\n",
       "      <td>12.0</td>\n",
       "      <td>12.0</td>\n",
       "      <td>12.0</td>\n",
       "      <td>12.0</td>\n",
       "      <td>12.0</td>\n",
       "      <td>12.0</td>\n",
       "      <td>12.0</td>\n",
       "    </tr>\n",
       "  </tbody>\n",
       "</table>\n",
       "</div>"
      ],
      "text/plain": [
       "   2013-żywe  2014-żywe  2015-żywe  2016-żywe  2017-żywe  2018-żywe  \\\n",
       "0       10.0       10.0       10.0       10.0       10.0       10.0   \n",
       "1       11.0       11.0       11.0       11.0       11.0       11.0   \n",
       "2       12.0       12.0       12.0       12.0       12.0       12.0   \n",
       "3       12.0       12.0       12.0       12.0       12.0       12.0   \n",
       "4       12.0       12.0       12.0       12.0       12.0       12.0   \n",
       "\n",
       "   2019-żywe  2020-żywe  2021-żywe  2022-żywe  \n",
       "0       10.0       10.0       10.0       10.0  \n",
       "1       11.0       11.0       11.0       11.0  \n",
       "2       12.0       12.0       12.0       12.0  \n",
       "3       12.0       12.0       12.0       12.0  \n",
       "4       12.0       12.0       12.0       12.0  "
      ]
     },
     "execution_count": 30,
     "metadata": {},
     "output_type": "execute_result"
    }
   ],
   "source": [
    "dbh_living = pd.read_excel('./data/dbh-of-living trees.xlsx', header=0)\n",
    "dbh_living = pd.DataFrame(np.sort(dbh_living.values, axis=0), index=dbh_living.index, columns=dbh_living.columns)\n",
    "dbh_living.head()"
   ]
  },
  {
   "cell_type": "markdown",
   "id": "06717af1",
   "metadata": {},
   "source": [
    "## DBH of dead trees"
   ]
  },
  {
   "cell_type": "code",
   "execution_count": 22,
   "id": "64902f59",
   "metadata": {},
   "outputs": [],
   "source": [
    "dbh_dead = pd.read_excel(r'./data/Martwe pnie od 2014.xls')"
   ]
  },
  {
   "cell_type": "code",
   "execution_count": 23,
   "id": "e52e5a70",
   "metadata": {
    "scrolled": true
   },
   "outputs": [
    {
     "data": {
      "text/html": [
       "<div>\n",
       "<style scoped>\n",
       "    .dataframe tbody tr th:only-of-type {\n",
       "        vertical-align: middle;\n",
       "    }\n",
       "\n",
       "    .dataframe tbody tr th {\n",
       "        vertical-align: top;\n",
       "    }\n",
       "\n",
       "    .dataframe thead th {\n",
       "        text-align: right;\n",
       "    }\n",
       "</style>\n",
       "<table border=\"1\" class=\"dataframe\">\n",
       "  <thead>\n",
       "    <tr style=\"text-align: right;\">\n",
       "      <th></th>\n",
       "      <th>numer</th>\n",
       "      <th>kwa</th>\n",
       "      <th>Unnamed: 2</th>\n",
       "      <th>ka</th>\n",
       "      <th>Pierśnica</th>\n",
       "      <th>Rok</th>\n",
       "      <th>Uwagi</th>\n",
       "      <th>kategorie:</th>\n",
       "      <th>1 - stojące</th>\n",
       "    </tr>\n",
       "  </thead>\n",
       "  <tbody>\n",
       "    <tr>\n",
       "      <th>5</th>\n",
       "      <td>6002.0</td>\n",
       "      <td>80</td>\n",
       "      <td>NaN</td>\n",
       "      <td>2</td>\n",
       "      <td>65</td>\n",
       "      <td>2014</td>\n",
       "      <td>NaN</td>\n",
       "      <td>NaN</td>\n",
       "      <td>NaN</td>\n",
       "    </tr>\n",
       "    <tr>\n",
       "      <th>6</th>\n",
       "      <td>6004.0</td>\n",
       "      <td>87.88</td>\n",
       "      <td>NaN</td>\n",
       "      <td>2</td>\n",
       "      <td>50</td>\n",
       "      <td>2014</td>\n",
       "      <td>NaN</td>\n",
       "      <td>NaN</td>\n",
       "      <td>NaN</td>\n",
       "    </tr>\n",
       "    <tr>\n",
       "      <th>7</th>\n",
       "      <td>6006.0</td>\n",
       "      <td>87.88</td>\n",
       "      <td>NaN</td>\n",
       "      <td>2</td>\n",
       "      <td>39</td>\n",
       "      <td>2014</td>\n",
       "      <td>NaN</td>\n",
       "      <td>NaN</td>\n",
       "      <td>NaN</td>\n",
       "    </tr>\n",
       "    <tr>\n",
       "      <th>8</th>\n",
       "      <td>6008.0</td>\n",
       "      <td>101.102</td>\n",
       "      <td>NaN</td>\n",
       "      <td>2</td>\n",
       "      <td>49</td>\n",
       "      <td>2014</td>\n",
       "      <td>NaN</td>\n",
       "      <td>NaN</td>\n",
       "      <td>NaN</td>\n",
       "    </tr>\n",
       "    <tr>\n",
       "      <th>9</th>\n",
       "      <td>6011.0</td>\n",
       "      <td>94.95</td>\n",
       "      <td>NaN</td>\n",
       "      <td>1</td>\n",
       "      <td>36</td>\n",
       "      <td>2014</td>\n",
       "      <td>NaN</td>\n",
       "      <td>NaN</td>\n",
       "      <td>NaN</td>\n",
       "    </tr>\n",
       "    <tr>\n",
       "      <th>10</th>\n",
       "      <td>6012.0</td>\n",
       "      <td>71.72</td>\n",
       "      <td>NaN</td>\n",
       "      <td>2</td>\n",
       "      <td>64</td>\n",
       "      <td>2014</td>\n",
       "      <td>NaN</td>\n",
       "      <td>NaN</td>\n",
       "      <td>NaN</td>\n",
       "    </tr>\n",
       "    <tr>\n",
       "      <th>11</th>\n",
       "      <td>6014.0</td>\n",
       "      <td>63.64</td>\n",
       "      <td>NaN</td>\n",
       "      <td>2</td>\n",
       "      <td>57</td>\n",
       "      <td>2014</td>\n",
       "      <td>NaN</td>\n",
       "      <td>NaN</td>\n",
       "      <td>NaN</td>\n",
       "    </tr>\n",
       "    <tr>\n",
       "      <th>12</th>\n",
       "      <td>6016.0</td>\n",
       "      <td>63.64</td>\n",
       "      <td>NaN</td>\n",
       "      <td>2</td>\n",
       "      <td>57</td>\n",
       "      <td>2014</td>\n",
       "      <td>NaN</td>\n",
       "      <td>NaN</td>\n",
       "      <td>NaN</td>\n",
       "    </tr>\n",
       "    <tr>\n",
       "      <th>13</th>\n",
       "      <td>6018.0</td>\n",
       "      <td>93.94</td>\n",
       "      <td>NaN</td>\n",
       "      <td>1</td>\n",
       "      <td>24</td>\n",
       "      <td>2014</td>\n",
       "      <td>NaN</td>\n",
       "      <td>NaN</td>\n",
       "      <td>NaN</td>\n",
       "    </tr>\n",
       "    <tr>\n",
       "      <th>14</th>\n",
       "      <td>6019.0</td>\n",
       "      <td>99.1</td>\n",
       "      <td>NaN</td>\n",
       "      <td>3</td>\n",
       "      <td>39</td>\n",
       "      <td>2014</td>\n",
       "      <td>NaN</td>\n",
       "      <td>NaN</td>\n",
       "      <td>NaN</td>\n",
       "    </tr>\n",
       "  </tbody>\n",
       "</table>\n",
       "</div>"
      ],
      "text/plain": [
       "     numer      kwa  Unnamed: 2  ka Pierśnica   Rok Uwagi  kategorie:  \\\n",
       "5   6002.0       80         NaN   2        65  2014   NaN         NaN   \n",
       "6   6004.0    87.88         NaN   2        50  2014   NaN         NaN   \n",
       "7   6006.0    87.88         NaN   2        39  2014   NaN         NaN   \n",
       "8   6008.0  101.102         NaN   2        49  2014   NaN         NaN   \n",
       "9   6011.0    94.95         NaN   1        36  2014   NaN         NaN   \n",
       "10  6012.0    71.72         NaN   2        64  2014   NaN         NaN   \n",
       "11  6014.0    63.64         NaN   2        57  2014   NaN         NaN   \n",
       "12  6016.0    63.64         NaN   2        57  2014   NaN         NaN   \n",
       "13  6018.0    93.94         NaN   1        24  2014   NaN         NaN   \n",
       "14  6019.0     99.1         NaN   3        39  2014   NaN         NaN   \n",
       "\n",
       "   1 - stojące  \n",
       "5          NaN  \n",
       "6          NaN  \n",
       "7          NaN  \n",
       "8          NaN  \n",
       "9          NaN  \n",
       "10         NaN  \n",
       "11         NaN  \n",
       "12         NaN  \n",
       "13         NaN  \n",
       "14         NaN  "
      ]
     },
     "execution_count": 23,
     "metadata": {},
     "output_type": "execute_result"
    }
   ],
   "source": [
    "dbh_dead = dbh_dead[dbh_dead[' pi'].astype(str).str.isdigit()]\n",
    "dbh_dead.rename(columns = {' pi':'Pierśnica'}, inplace = True)\n",
    "dbh_dead.head(10)"
   ]
  },
  {
   "cell_type": "markdown",
   "id": "16879d79",
   "metadata": {},
   "source": [
    "## intensity of tree dieback"
   ]
  },
  {
   "cell_type": "code",
   "execution_count": 24,
   "id": "a465fa8f",
   "metadata": {},
   "outputs": [],
   "source": [
    "study_area = 14.4\n",
    "\n",
    "intensity_dict = {\n",
    "    '2014': dbh_dead.loc[(dbh_dead['Rok'] == 2014)].shape[0] / study_area,\n",
    "    '2015': dbh_dead.loc[(dbh_dead['Rok'] == 2015)].shape[0] / study_area,\n",
    "    '2016': dbh_dead.loc[(dbh_dead['Rok'] == 2016)].shape[0] / study_area,\n",
    "    '2017': dbh_dead.loc[(dbh_dead['Rok'] == 2017)].shape[0] / study_area,\n",
    "    '2018': dbh_dead.loc[(dbh_dead['Rok'] == 2018)].shape[0] / study_area,\n",
    "    '2019': dbh_dead.loc[(dbh_dead['Rok'] == 2019)].shape[0] / study_area,\n",
    "    '2020': dbh_dead.loc[(dbh_dead['Rok'] == 2020)].shape[0] / study_area,\n",
    "    '2021': dbh_dead.loc[(dbh_dead['Rok'] == 2021)].shape[0] / study_area,\n",
    "    '2022': dbh_dead.loc[(dbh_dead['Rok'] == 2022)].shape[0] / study_area\n",
    "}"
   ]
  },
  {
   "cell_type": "code",
   "execution_count": 26,
   "id": "1fe8c82a",
   "metadata": {},
   "outputs": [
    {
     "data": {
      "text/html": [
       "<div>\n",
       "<style scoped>\n",
       "    .dataframe tbody tr th:only-of-type {\n",
       "        vertical-align: middle;\n",
       "    }\n",
       "\n",
       "    .dataframe tbody tr th {\n",
       "        vertical-align: top;\n",
       "    }\n",
       "\n",
       "    .dataframe thead th {\n",
       "        text-align: right;\n",
       "    }\n",
       "</style>\n",
       "<table border=\"1\" class=\"dataframe\">\n",
       "  <thead>\n",
       "    <tr style=\"text-align: right;\">\n",
       "      <th></th>\n",
       "      <th>rok</th>\n",
       "      <th>gęstość</th>\n",
       "    </tr>\n",
       "  </thead>\n",
       "  <tbody>\n",
       "    <tr>\n",
       "      <th>0</th>\n",
       "      <td>2014</td>\n",
       "      <td>6.180556</td>\n",
       "    </tr>\n",
       "    <tr>\n",
       "      <th>1</th>\n",
       "      <td>2015</td>\n",
       "      <td>8.125000</td>\n",
       "    </tr>\n",
       "    <tr>\n",
       "      <th>2</th>\n",
       "      <td>2016</td>\n",
       "      <td>7.569444</td>\n",
       "    </tr>\n",
       "    <tr>\n",
       "      <th>3</th>\n",
       "      <td>2017</td>\n",
       "      <td>5.694444</td>\n",
       "    </tr>\n",
       "    <tr>\n",
       "      <th>4</th>\n",
       "      <td>2018</td>\n",
       "      <td>4.791667</td>\n",
       "    </tr>\n",
       "    <tr>\n",
       "      <th>5</th>\n",
       "      <td>2019</td>\n",
       "      <td>1.736111</td>\n",
       "    </tr>\n",
       "    <tr>\n",
       "      <th>6</th>\n",
       "      <td>2020</td>\n",
       "      <td>1.875000</td>\n",
       "    </tr>\n",
       "    <tr>\n",
       "      <th>7</th>\n",
       "      <td>2021</td>\n",
       "      <td>2.430556</td>\n",
       "    </tr>\n",
       "    <tr>\n",
       "      <th>8</th>\n",
       "      <td>2022</td>\n",
       "      <td>2.638889</td>\n",
       "    </tr>\n",
       "  </tbody>\n",
       "</table>\n",
       "</div>"
      ],
      "text/plain": [
       "    rok   gęstość\n",
       "0  2014  6.180556\n",
       "1  2015  8.125000\n",
       "2  2016  7.569444\n",
       "3  2017  5.694444\n",
       "4  2018  4.791667\n",
       "5  2019  1.736111\n",
       "6  2020  1.875000\n",
       "7  2021  2.430556\n",
       "8  2022  2.638889"
      ]
     },
     "execution_count": 26,
     "metadata": {},
     "output_type": "execute_result"
    }
   ],
   "source": [
    "df_intensity = pd.DataFrame([intensity_dict])\n",
    "df_intensity = pd.melt(df_intensity)\n",
    "df_intensity.columns = ['rok', 'gęstość']\n",
    "df_intensity"
   ]
  },
  {
   "cell_type": "code",
   "execution_count": 27,
   "id": "b032197c",
   "metadata": {},
   "outputs": [],
   "source": [
    "%matplotlib inline"
   ]
  },
  {
   "cell_type": "code",
   "execution_count": 28,
   "id": "20e9207f",
   "metadata": {},
   "outputs": [
    {
     "data": {
      "text/plain": [
       "Text(0, 0.5, 'Liczba drzew obumarłych na 1 hektar')"
      ]
     },
     "execution_count": 28,
     "metadata": {},
     "output_type": "execute_result"
    },
    {
     "data": {
      "image/png": "[encoded data removed]",
      "text/plain": [
       "<Figure size 640x480 with 1 Axes>"
      ]
     },
     "metadata": {},
     "output_type": "display_data"
    }
   ],
   "source": [
    "sns.barplot(data = df_intensity, x = df_intensity['rok'], y = df_intensity['gęstość'],\n",
    "           color = 'green')\n",
    "plt.xlabel(\"Rok\")\n",
    "plt.ylabel(\"Liczba drzew obumarłych na 1 hektar\")"
   ]
  },
  {
   "cell_type": "markdown",
   "id": "c60e6645",
   "metadata": {},
   "source": [
    "#### data preparation"
   ]
  },
  {
   "cell_type": "code",
   "execution_count": 36,
   "id": "62884f75",
   "metadata": {},
   "outputs": [],
   "source": [
    "def create_df(start_year, stop_year):\n",
    "    \n",
    "    name_living = '{}-żywe'.format(stop_year)\n",
    "    name_dead = '{}-{} martwe'.format(start_year, stop_year)\n",
    "    \n",
    "    mask = ((dbh_dead['Rok'] >= start_year) & (dbh_dead['Rok'] <= stop_year))\n",
    "    \n",
    "    df1 = pd.DataFrame(dbh_dead[mask]).reset_index(drop = True)['Pierśnica']\n",
    "\n",
    "    df2 = pd.concat([df1, dbh_living[name_living].dropna()], axis = 1)\n",
    "    df2.rename(columns = {\n",
    "        'Pierśnica': name_dead,\n",
    "        '2018-żywe': name_living}, inplace = True)\n",
    "\n",
    "    return df2"
   ]
  },
  {
   "cell_type": "code",
   "execution_count": 46,
   "id": "70eb955f",
   "metadata": {},
   "outputs": [],
   "source": [
    "years_2014_2018 = create_df(2014, 2018)\n",
    "years_2019_2022 = create_df(2019, 2022)\n",
    "years_2014_2022 = create_df(2014, 2022)"
   ]
  },
  {
   "cell_type": "markdown",
   "id": "58bf82c3",
   "metadata": {},
   "source": [
    "#### summary chart"
   ]
  },
  {
   "cell_type": "code",
   "execution_count": 55,
   "id": "6557cec6",
   "metadata": {},
   "outputs": [
    {
     "data": {
      "image/png": "[encoded data removed]",
      "text/plain": [
       "<Figure size 2200x600 with 3 Axes>"
      ]
     },
     "metadata": {},
     "output_type": "display_data"
    }
   ],
   "source": [
    "fig, ax = plt.subplots(nrows=1, ncols=3, figsize=(22, 6))\n",
    "\n",
    "sns.histplot(years_2014_2018, ax=ax[0])\n",
    "sns.histplot(years_2019_2022, ax=ax[1])\n",
    "sns.histplot(years_2014_2022, ax=ax[2])\n",
    "\n",
    "for i in range(0,3):\n",
    "    ax[i].set_ylabel(\"Liczebność\")\n",
    "    ax[i].set_xlabel(\"Pierśnica (cm)\")"
   ]
  },
  {
   "cell_type": "markdown",
   "id": "6bce9a04",
   "metadata": {},
   "source": [
    "#### statistical tests"
   ]
  },
  {
   "cell_type": "markdown",
   "id": "0bd360d2",
   "metadata": {},
   "source": [
    "2014-2018"
   ]
  },
  {
   "cell_type": "code",
   "execution_count": 31,
   "id": "601b94a3",
   "metadata": {},
   "outputs": [
    {
     "data": {
      "text/plain": [
       "KstestResult(statistic=0.055775290564485214, pvalue=0.1719538524877319)"
      ]
     },
     "execution_count": 31,
     "metadata": {},
     "output_type": "execute_result"
    }
   ],
   "source": [
    "ks_2samp(d_2014_2018.iloc[:,0].dropna(), d_2014_2018.iloc[:,1].dropna())"
   ]
  },
  {
   "cell_type": "markdown",
   "id": "36bf0ac8",
   "metadata": {},
   "source": [
    "2019-2022"
   ]
  },
  {
   "cell_type": "code",
   "execution_count": 32,
   "id": "7cc3c92a",
   "metadata": {},
   "outputs": [
    {
     "data": {
      "text/plain": [
       "KstestResult(statistic=0.08891418247515809, pvalue=0.28866312499634056)"
      ]
     },
     "execution_count": 32,
     "metadata": {},
     "output_type": "execute_result"
    }
   ],
   "source": [
    "ks_2samp(d_2019_2022.iloc[:,0].dropna(), d_2019_2022.iloc[:,1].dropna())"
   ]
  },
  {
   "cell_type": "markdown",
   "id": "b17c3f81",
   "metadata": {},
   "source": [
    "2014-2022"
   ]
  },
  {
   "cell_type": "code",
   "execution_count": 33,
   "id": "d5de06ab",
   "metadata": {},
   "outputs": [
    {
     "data": {
      "text/plain": [
       "KstestResult(statistic=0.04350258392600846, pvalue=0.3292262743076923)"
      ]
     },
     "execution_count": 33,
     "metadata": {},
     "output_type": "execute_result"
    }
   ],
   "source": [
    "ks_2samp(d_2014_2022.iloc[:,0].dropna(), d_2014_2022.iloc[:,1].dropna())"
   ]
  }
 ],
 "metadata": {
  "kernelspec": {
   "display_name": "Python 3 (ipykernel)",
   "language": "python",
   "name": "python3"
  },
  "language_info": {
   "codemirror_mode": {
    "name": "ipython",
    "version": 3
   },
   "file_extension": ".py",
   "mimetype": "text/x-python",
   "name": "python",
   "nbconvert_exporter": "python",
   "pygments_lexer": "ipython3",
   "version": "3.10.9"
  }
 },
 "nbformat": 4,
 "nbformat_minor": 5
}
