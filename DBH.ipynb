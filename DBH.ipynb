{
 "cells": [
  {
   "cell_type": "code",
   "execution_count": 1,
   "id": "95181039",
   "metadata": {},
   "outputs": [],
   "source": [
    "import pandas as pd\n",
    "import numpy as np\n",
    "from scipy.stats import ks_2samp\n",
    "import seaborn as sns\n",
    "import matplotlib.pyplot as plt"
   ]
  },
  {
   "cell_type": "markdown",
   "id": "d438b357",
   "metadata": {},
   "source": [
    "## DHB of living trees"
   ]
  },
  {
   "cell_type": "code",
   "execution_count": 2,
   "id": "dfa18a7a",
   "metadata": {},
   "outputs": [
    {
     "data": {
      "text/html": [
       "<div>\n",
       "<style scoped>\n",
       "    .dataframe tbody tr th:only-of-type {\n",
       "        vertical-align: middle;\n",
       "    }\n",
       "\n",
       "    .dataframe tbody tr th {\n",
       "        vertical-align: top;\n",
       "    }\n",
       "\n",
       "    .dataframe thead th {\n",
       "        text-align: right;\n",
       "    }\n",
       "</style>\n",
       "<table border=\"1\" class=\"dataframe\">\n",
       "  <thead>\n",
       "    <tr style=\"text-align: right;\">\n",
       "      <th></th>\n",
       "      <th>2013-żywe</th>\n",
       "      <th>2014-żywe</th>\n",
       "      <th>2015-żywe</th>\n",
       "      <th>2016-żywe</th>\n",
       "      <th>2017-żywe</th>\n",
       "      <th>2018-żywe</th>\n",
       "      <th>2019-żywe</th>\n",
       "      <th>2020-żywe</th>\n",
       "      <th>2021-żywe</th>\n",
       "      <th>2022-żywe</th>\n",
       "    </tr>\n",
       "  </thead>\n",
       "  <tbody>\n",
       "    <tr>\n",
       "      <th>0</th>\n",
       "      <td>10.0</td>\n",
       "      <td>10.0</td>\n",
       "      <td>10.0</td>\n",
       "      <td>10.0</td>\n",
       "      <td>10.0</td>\n",
       "      <td>10.0</td>\n",
       "      <td>10.0</td>\n",
       "      <td>10.0</td>\n",
       "      <td>10.0</td>\n",
       "      <td>10.0</td>\n",
       "    </tr>\n",
       "    <tr>\n",
       "      <th>1</th>\n",
       "      <td>11.0</td>\n",
       "      <td>11.0</td>\n",
       "      <td>11.0</td>\n",
       "      <td>11.0</td>\n",
       "      <td>11.0</td>\n",
       "      <td>11.0</td>\n",
       "      <td>11.0</td>\n",
       "      <td>11.0</td>\n",
       "      <td>11.0</td>\n",
       "      <td>11.0</td>\n",
       "    </tr>\n",
       "    <tr>\n",
       "      <th>2</th>\n",
       "      <td>12.0</td>\n",
       "      <td>12.0</td>\n",
       "      <td>12.0</td>\n",
       "      <td>12.0</td>\n",
       "      <td>12.0</td>\n",
       "      <td>12.0</td>\n",
       "      <td>12.0</td>\n",
       "      <td>12.0</td>\n",
       "      <td>12.0</td>\n",
       "      <td>12.0</td>\n",
       "    </tr>\n",
       "    <tr>\n",
       "      <th>3</th>\n",
       "      <td>12.0</td>\n",
       "      <td>12.0</td>\n",
       "      <td>12.0</td>\n",
       "      <td>12.0</td>\n",
       "      <td>12.0</td>\n",
       "      <td>12.0</td>\n",
       "      <td>12.0</td>\n",
       "      <td>12.0</td>\n",
       "      <td>12.0</td>\n",
       "      <td>12.0</td>\n",
       "    </tr>\n",
       "    <tr>\n",
       "      <th>4</th>\n",
       "      <td>12.0</td>\n",
       "      <td>12.0</td>\n",
       "      <td>12.0</td>\n",
       "      <td>12.0</td>\n",
       "      <td>12.0</td>\n",
       "      <td>12.0</td>\n",
       "      <td>12.0</td>\n",
       "      <td>12.0</td>\n",
       "      <td>12.0</td>\n",
       "      <td>12.0</td>\n",
       "    </tr>\n",
       "  </tbody>\n",
       "</table>\n",
       "</div>"
      ],
      "text/plain": [
       "   2013-żywe  2014-żywe  2015-żywe  2016-żywe  2017-żywe  2018-żywe  \\\n",
       "0       10.0       10.0       10.0       10.0       10.0       10.0   \n",
       "1       11.0       11.0       11.0       11.0       11.0       11.0   \n",
       "2       12.0       12.0       12.0       12.0       12.0       12.0   \n",
       "3       12.0       12.0       12.0       12.0       12.0       12.0   \n",
       "4       12.0       12.0       12.0       12.0       12.0       12.0   \n",
       "\n",
       "   2019-żywe  2020-żywe  2021-żywe  2022-żywe  \n",
       "0       10.0       10.0       10.0       10.0  \n",
       "1       11.0       11.0       11.0       11.0  \n",
       "2       12.0       12.0       12.0       12.0  \n",
       "3       12.0       12.0       12.0       12.0  \n",
       "4       12.0       12.0       12.0       12.0  "
      ]
     },
     "execution_count": 2,
     "metadata": {},
     "output_type": "execute_result"
    }
   ],
   "source": [
    "dbh_living = pd.read_excel('./data/dbh-of-living trees.xlsx', header=0)\n",
    "dbh_living = pd.DataFrame(np.sort(dbh_living.values, axis=0), index=dbh_living.index, columns=dbh_living.columns)\n",
    "dbh_living.head()"
   ]
  },
  {
   "cell_type": "markdown",
   "id": "06717af1",
   "metadata": {},
   "source": [
    "## DBH of dead trees"
   ]
  },
  {
   "cell_type": "code",
   "execution_count": 3,
   "id": "64902f59",
   "metadata": {},
   "outputs": [],
   "source": [
    "dbh_dead = pd.read_excel(r'./data/Martwe pnie od 2014.xls')"
   ]
  },
  {
   "cell_type": "code",
   "execution_count": 4,
   "id": "e52e5a70",
   "metadata": {
    "scrolled": true
   },
   "outputs": [
    {
     "data": {
      "text/html": [
       "<div>\n",
       "<style scoped>\n",
       "    .dataframe tbody tr th:only-of-type {\n",
       "        vertical-align: middle;\n",
       "    }\n",
       "\n",
       "    .dataframe tbody tr th {\n",
       "        vertical-align: top;\n",
       "    }\n",
       "\n",
       "    .dataframe thead th {\n",
       "        text-align: right;\n",
       "    }\n",
       "</style>\n",
       "<table border=\"1\" class=\"dataframe\">\n",
       "  <thead>\n",
       "    <tr style=\"text-align: right;\">\n",
       "      <th></th>\n",
       "      <th>numer</th>\n",
       "      <th>kwa</th>\n",
       "      <th>Unnamed: 2</th>\n",
       "      <th>ka</th>\n",
       "      <th>Pierśnica</th>\n",
       "      <th>Rok</th>\n",
       "      <th>Uwagi</th>\n",
       "      <th>kategorie:</th>\n",
       "      <th>1 - stojące</th>\n",
       "    </tr>\n",
       "  </thead>\n",
       "  <tbody>\n",
       "    <tr>\n",
       "      <th>5</th>\n",
       "      <td>6002.0</td>\n",
       "      <td>80</td>\n",
       "      <td>NaN</td>\n",
       "      <td>2</td>\n",
       "      <td>65</td>\n",
       "      <td>2014</td>\n",
       "      <td>NaN</td>\n",
       "      <td>NaN</td>\n",
       "      <td>NaN</td>\n",
       "    </tr>\n",
       "    <tr>\n",
       "      <th>6</th>\n",
       "      <td>6004.0</td>\n",
       "      <td>87.88</td>\n",
       "      <td>NaN</td>\n",
       "      <td>2</td>\n",
       "      <td>50</td>\n",
       "      <td>2014</td>\n",
       "      <td>NaN</td>\n",
       "      <td>NaN</td>\n",
       "      <td>NaN</td>\n",
       "    </tr>\n",
       "    <tr>\n",
       "      <th>7</th>\n",
       "      <td>6006.0</td>\n",
       "      <td>87.88</td>\n",
       "      <td>NaN</td>\n",
       "      <td>2</td>\n",
       "      <td>39</td>\n",
       "      <td>2014</td>\n",
       "      <td>NaN</td>\n",
       "      <td>NaN</td>\n",
       "      <td>NaN</td>\n",
       "    </tr>\n",
       "    <tr>\n",
       "      <th>8</th>\n",
       "      <td>6008.0</td>\n",
       "      <td>101.102</td>\n",
       "      <td>NaN</td>\n",
       "      <td>2</td>\n",
       "      <td>49</td>\n",
       "      <td>2014</td>\n",
       "      <td>NaN</td>\n",
       "      <td>NaN</td>\n",
       "      <td>NaN</td>\n",
       "    </tr>\n",
       "    <tr>\n",
       "      <th>9</th>\n",
       "      <td>6011.0</td>\n",
       "      <td>94.95</td>\n",
       "      <td>NaN</td>\n",
       "      <td>1</td>\n",
       "      <td>36</td>\n",
       "      <td>2014</td>\n",
       "      <td>NaN</td>\n",
       "      <td>NaN</td>\n",
       "      <td>NaN</td>\n",
       "    </tr>\n",
       "    <tr>\n",
       "      <th>10</th>\n",
       "      <td>6012.0</td>\n",
       "      <td>71.72</td>\n",
       "      <td>NaN</td>\n",
       "      <td>2</td>\n",
       "      <td>64</td>\n",
       "      <td>2014</td>\n",
       "      <td>NaN</td>\n",
       "      <td>NaN</td>\n",
       "      <td>NaN</td>\n",
       "    </tr>\n",
       "    <tr>\n",
       "      <th>11</th>\n",
       "      <td>6014.0</td>\n",
       "      <td>63.64</td>\n",
       "      <td>NaN</td>\n",
       "      <td>2</td>\n",
       "      <td>57</td>\n",
       "      <td>2014</td>\n",
       "      <td>NaN</td>\n",
       "      <td>NaN</td>\n",
       "      <td>NaN</td>\n",
       "    </tr>\n",
       "    <tr>\n",
       "      <th>12</th>\n",
       "      <td>6016.0</td>\n",
       "      <td>63.64</td>\n",
       "      <td>NaN</td>\n",
       "      <td>2</td>\n",
       "      <td>57</td>\n",
       "      <td>2014</td>\n",
       "      <td>NaN</td>\n",
       "      <td>NaN</td>\n",
       "      <td>NaN</td>\n",
       "    </tr>\n",
       "    <tr>\n",
       "      <th>13</th>\n",
       "      <td>6018.0</td>\n",
       "      <td>93.94</td>\n",
       "      <td>NaN</td>\n",
       "      <td>1</td>\n",
       "      <td>24</td>\n",
       "      <td>2014</td>\n",
       "      <td>NaN</td>\n",
       "      <td>NaN</td>\n",
       "      <td>NaN</td>\n",
       "    </tr>\n",
       "    <tr>\n",
       "      <th>14</th>\n",
       "      <td>6019.0</td>\n",
       "      <td>99.1</td>\n",
       "      <td>NaN</td>\n",
       "      <td>3</td>\n",
       "      <td>39</td>\n",
       "      <td>2014</td>\n",
       "      <td>NaN</td>\n",
       "      <td>NaN</td>\n",
       "      <td>NaN</td>\n",
       "    </tr>\n",
       "  </tbody>\n",
       "</table>\n",
       "</div>"
      ],
      "text/plain": [
       "     numer      kwa  Unnamed: 2  ka Pierśnica   Rok Uwagi  kategorie:  \\\n",
       "5   6002.0       80         NaN   2        65  2014   NaN         NaN   \n",
       "6   6004.0    87.88         NaN   2        50  2014   NaN         NaN   \n",
       "7   6006.0    87.88         NaN   2        39  2014   NaN         NaN   \n",
       "8   6008.0  101.102         NaN   2        49  2014   NaN         NaN   \n",
       "9   6011.0    94.95         NaN   1        36  2014   NaN         NaN   \n",
       "10  6012.0    71.72         NaN   2        64  2014   NaN         NaN   \n",
       "11  6014.0    63.64         NaN   2        57  2014   NaN         NaN   \n",
       "12  6016.0    63.64         NaN   2        57  2014   NaN         NaN   \n",
       "13  6018.0    93.94         NaN   1        24  2014   NaN         NaN   \n",
       "14  6019.0     99.1         NaN   3        39  2014   NaN         NaN   \n",
       "\n",
       "   1 - stojące  \n",
       "5          NaN  \n",
       "6          NaN  \n",
       "7          NaN  \n",
       "8          NaN  \n",
       "9          NaN  \n",
       "10         NaN  \n",
       "11         NaN  \n",
       "12         NaN  \n",
       "13         NaN  \n",
       "14         NaN  "
      ]
     },
     "execution_count": 4,
     "metadata": {},
     "output_type": "execute_result"
    }
   ],
   "source": [
    "dbh_dead = dbh_dead[dbh_dead[' pi'].astype(str).str.isdigit()]\n",
    "dbh_dead.rename(columns = {' pi':'Pierśnica'}, inplace = True)\n",
    "dbh_dead.head(10)"
   ]
  },
  {
   "cell_type": "markdown",
   "id": "16879d79",
   "metadata": {},
   "source": [
    "## intensity of tree dieback"
   ]
  },
  {
   "cell_type": "code",
   "execution_count": 5,
   "id": "a465fa8f",
   "metadata": {},
   "outputs": [],
   "source": [
    "study_area = 14.4\n",
    "\n",
    "intensity_dict = {\n",
    "    '2014': dbh_dead.loc[(dbh_dead['Rok'] == 2014)].shape[0] / study_area,\n",
    "    '2015': dbh_dead.loc[(dbh_dead['Rok'] == 2015)].shape[0] / study_area,\n",
    "    '2016': dbh_dead.loc[(dbh_dead['Rok'] == 2016)].shape[0] / study_area,\n",
    "    '2017': dbh_dead.loc[(dbh_dead['Rok'] == 2017)].shape[0] / study_area,\n",
    "    '2018': dbh_dead.loc[(dbh_dead['Rok'] == 2018)].shape[0] / study_area,\n",
    "    '2019': dbh_dead.loc[(dbh_dead['Rok'] == 2019)].shape[0] / study_area,\n",
    "    '2020': dbh_dead.loc[(dbh_dead['Rok'] == 2020)].shape[0] / study_area,\n",
    "    '2021': dbh_dead.loc[(dbh_dead['Rok'] == 2021)].shape[0] / study_area,\n",
    "    '2022': dbh_dead.loc[(dbh_dead['Rok'] == 2022)].shape[0] / study_area\n",
    "}"
   ]
  },
  {
   "cell_type": "code",
   "execution_count": 6,
   "id": "1fe8c82a",
   "metadata": {},
   "outputs": [
    {
     "data": {
      "text/html": [
       "<div>\n",
       "<style scoped>\n",
       "    .dataframe tbody tr th:only-of-type {\n",
       "        vertical-align: middle;\n",
       "    }\n",
       "\n",
       "    .dataframe tbody tr th {\n",
       "        vertical-align: top;\n",
       "    }\n",
       "\n",
       "    .dataframe thead th {\n",
       "        text-align: right;\n",
       "    }\n",
       "</style>\n",
       "<table border=\"1\" class=\"dataframe\">\n",
       "  <thead>\n",
       "    <tr style=\"text-align: right;\">\n",
       "      <th></th>\n",
       "      <th>rok</th>\n",
       "      <th>gęstość</th>\n",
       "    </tr>\n",
       "  </thead>\n",
       "  <tbody>\n",
       "    <tr>\n",
       "      <th>0</th>\n",
       "      <td>2014</td>\n",
       "      <td>6.180556</td>\n",
       "    </tr>\n",
       "    <tr>\n",
       "      <th>1</th>\n",
       "      <td>2015</td>\n",
       "      <td>8.125000</td>\n",
       "    </tr>\n",
       "    <tr>\n",
       "      <th>2</th>\n",
       "      <td>2016</td>\n",
       "      <td>7.569444</td>\n",
       "    </tr>\n",
       "    <tr>\n",
       "      <th>3</th>\n",
       "      <td>2017</td>\n",
       "      <td>5.694444</td>\n",
       "    </tr>\n",
       "    <tr>\n",
       "      <th>4</th>\n",
       "      <td>2018</td>\n",
       "      <td>4.791667</td>\n",
       "    </tr>\n",
       "    <tr>\n",
       "      <th>5</th>\n",
       "      <td>2019</td>\n",
       "      <td>1.736111</td>\n",
       "    </tr>\n",
       "    <tr>\n",
       "      <th>6</th>\n",
       "      <td>2020</td>\n",
       "      <td>1.875000</td>\n",
       "    </tr>\n",
       "    <tr>\n",
       "      <th>7</th>\n",
       "      <td>2021</td>\n",
       "      <td>2.430556</td>\n",
       "    </tr>\n",
       "    <tr>\n",
       "      <th>8</th>\n",
       "      <td>2022</td>\n",
       "      <td>2.638889</td>\n",
       "    </tr>\n",
       "  </tbody>\n",
       "</table>\n",
       "</div>"
      ],
      "text/plain": [
       "    rok   gęstość\n",
       "0  2014  6.180556\n",
       "1  2015  8.125000\n",
       "2  2016  7.569444\n",
       "3  2017  5.694444\n",
       "4  2018  4.791667\n",
       "5  2019  1.736111\n",
       "6  2020  1.875000\n",
       "7  2021  2.430556\n",
       "8  2022  2.638889"
      ]
     },
     "execution_count": 6,
     "metadata": {},
     "output_type": "execute_result"
    }
   ],
   "source": [
    "df_intensity = pd.DataFrame([intensity_dict])\n",
    "df_intensity = pd.melt(df_intensity)\n",
    "df_intensity.columns = ['rok', 'gęstość']\n",
    "df_intensity"
   ]
  },
  {
   "cell_type": "code",
   "execution_count": 7,
   "id": "b032197c",
   "metadata": {},
   "outputs": [],
   "source": [
    "%matplotlib inline"
   ]
  },
  {
   "cell_type": "code",
   "execution_count": 17,
   "id": "20e9207f",
   "metadata": {},
   "outputs": [
    {
     "data": {
      "text/plain": [
       "Text(0, 0.5, 'Liczba drzew obumarłych na 1 hektar')"
      ]
     },
     "execution_count": 17,
     "metadata": {},
     "output_type": "execute_result"
    },
    {
     "data": {
      "image/png": "[encoded data removed]",
      "text/plain": [
       "<Figure size 640x480 with 1 Axes>"
      ]
     },
     "metadata": {},
     "output_type": "display_data"
    }
   ],
   "source": [
    "sns.barplot(data = df_intensity, x = df_intensity['rok'], y = df_intensity['gęstość'],\n",
    "           color = 'green')\n",
    "plt.xlabel(\"Rok\")\n",
    "plt.ylabel(\"Liczba drzew obumarłych na 1 hektar\")"
   ]
  },
  {
   "cell_type": "markdown",
   "id": "c60e6645",
   "metadata": {},
   "source": [
    "#### data preparation"
   ]
  },
  {
   "cell_type": "code",
   "execution_count": 9,
   "id": "62884f75",
   "metadata": {},
   "outputs": [],
   "source": [
    "def create_df(start_year, stop_year):\n",
    "    \n",
    "    name_living = '{}-żywe'.format(stop_year)\n",
    "    name_dead = '{}-{} martwe'.format(start_year, stop_year)\n",
    "    \n",
    "    mask = ((dbh_dead['Rok'] >= start_year) & (dbh_dead['Rok'] <= stop_year))\n",
    "    \n",
    "    df1 = pd.DataFrame(dbh_dead[mask]).reset_index(drop = True)['Pierśnica']\n",
    "\n",
    "    df2 = pd.concat([df1, dbh_living[name_living].dropna()], axis = 1)\n",
    "    df2.columns = [name_dead, '{} żywe'.format(stop_year)]\n",
    "\n",
    "    return df2"
   ]
  },
  {
   "cell_type": "code",
   "execution_count": 10,
   "id": "70eb955f",
   "metadata": {},
   "outputs": [],
   "source": [
    "years_2014_2018 = create_df(2014, 2018)\n",
    "years_2019_2022 = create_df(2019, 2022)\n",
    "years_2014_2022 = create_df(2014, 2022)"
   ]
  },
  {
   "cell_type": "markdown",
   "id": "58bf82c3",
   "metadata": {},
   "source": [
    "#### summary chart"
   ]
  },
  {
   "cell_type": "code",
   "execution_count": 11,
   "id": "3e4e2efe",
   "metadata": {},
   "outputs": [
    {
     "data": {
      "image/png": "[encoded data removed]",
      "text/plain": [
       "<Figure size 1000x1000 with 6 Axes>"
      ]
     },
     "metadata": {},
     "output_type": "display_data"
    }
   ],
   "source": [
    "fig, axes = plt.subplots(nrows=3, ncols=2, figsize=(10,10))\n",
    "\n",
    "sns.histplot(years_2014_2018, ax=axes[0][0])\n",
    "sns.histplot(years_2019_2022, ax=axes[1][0])\n",
    "sns.histplot(years_2014_2022, ax=axes[2][0])\n",
    "\n",
    "sns.boxplot(years_2014_2018, ax=axes[0][1])\n",
    "sns.boxplot(years_2019_2022, ax=axes[1][1])\n",
    "sns.boxplot(years_2014_2022, ax=axes[2][1])\n",
    "\n",
    "for i in range(0,3):\n",
    "    for j in range(0,2):\n",
    "        if j == 0:     \n",
    "            axes[i][j].set_ylabel(\"Liczebność\")\n",
    "            axes[i][j].set_xlabel(\"Pierśnica (cm)\")\n",
    "        if j == 1:\n",
    "            axes[i][j].set_ylabel(\"Pierśnica (cm)\")"
   ]
  },
  {
   "cell_type": "markdown",
   "id": "e39719c0",
   "metadata": {},
   "source": [
    "#### descriptive statistics"
   ]
  },
  {
   "cell_type": "code",
   "execution_count": 12,
   "id": "8b535a2e",
   "metadata": {},
   "outputs": [],
   "source": [
    "def df_stats(*args):\n",
    "    df = pd.DataFrame()\n",
    "    for element in args:\n",
    "        columns = list(element.columns)       \n",
    "        df[columns[0]] = element.iloc[:,0].dropna().astype(np.int64).agg(['median', 'mean']).round(0).astype(np.int64)\n",
    "        df[columns[1]] = element.iloc[:,1].dropna().astype(np.int64).agg(['median', 'mean']).round(0).astype(np.int64)\n",
    "    df = df[['2014-2018 martwe', '2019-2022 martwe', '2014-2022 martwe', '2018 żywe', '2022 żywe',]]\n",
    "    df = df.rename(index={'median': 'mediana', 'mean': 'średnia'})\n",
    "    df1 = df.style.set_table_styles([dict(selector='th', props=[('text-align', 'center')])])\n",
    "    df1.set_properties(**{'text-align': 'center'})\n",
    "    return df1"
   ]
  },
  {
   "cell_type": "code",
   "execution_count": 13,
   "id": "7a8bb75f",
   "metadata": {
    "scrolled": true
   },
   "outputs": [
    {
     "data": {
      "text/html": [
       "<style type=\"text/css\">\n",
       "#T_62718 th {\n",
       "  text-align: center;\n",
       "}\n",
       "#T_62718_row0_col0, #T_62718_row0_col1, #T_62718_row0_col2, #T_62718_row0_col3, #T_62718_row0_col4, #T_62718_row1_col0, #T_62718_row1_col1, #T_62718_row1_col2, #T_62718_row1_col3, #T_62718_row1_col4 {\n",
       "  text-align: center;\n",
       "}\n",
       "</style>\n",
       "<table id=\"T_62718\">\n",
       "  <thead>\n",
       "    <tr>\n",
       "      <th class=\"blank level0\" >&nbsp;</th>\n",
       "      <th id=\"T_62718_level0_col0\" class=\"col_heading level0 col0\" >2014-2018 martwe</th>\n",
       "      <th id=\"T_62718_level0_col1\" class=\"col_heading level0 col1\" >2019-2022 martwe</th>\n",
       "      <th id=\"T_62718_level0_col2\" class=\"col_heading level0 col2\" >2014-2022 martwe</th>\n",
       "      <th id=\"T_62718_level0_col3\" class=\"col_heading level0 col3\" >2018 żywe</th>\n",
       "      <th id=\"T_62718_level0_col4\" class=\"col_heading level0 col4\" >2022 żywe</th>\n",
       "    </tr>\n",
       "  </thead>\n",
       "  <tbody>\n",
       "    <tr>\n",
       "      <th id=\"T_62718_level0_row0\" class=\"row_heading level0 row0\" >mediana</th>\n",
       "      <td id=\"T_62718_row0_col0\" class=\"data row0 col0\" >46</td>\n",
       "      <td id=\"T_62718_row0_col1\" class=\"data row0 col1\" >50</td>\n",
       "      <td id=\"T_62718_row0_col2\" class=\"data row0 col2\" >47</td>\n",
       "      <td id=\"T_62718_row0_col3\" class=\"data row0 col3\" >47</td>\n",
       "      <td id=\"T_62718_row0_col4\" class=\"data row0 col4\" >46</td>\n",
       "    </tr>\n",
       "    <tr>\n",
       "      <th id=\"T_62718_level0_row1\" class=\"row_heading level0 row1\" >średnia</th>\n",
       "      <td id=\"T_62718_row1_col0\" class=\"data row1 col0\" >46</td>\n",
       "      <td id=\"T_62718_row1_col1\" class=\"data row1 col1\" >48</td>\n",
       "      <td id=\"T_62718_row1_col2\" class=\"data row1 col2\" >47</td>\n",
       "      <td id=\"T_62718_row1_col3\" class=\"data row1 col3\" >46</td>\n",
       "      <td id=\"T_62718_row1_col4\" class=\"data row1 col4\" >46</td>\n",
       "    </tr>\n",
       "  </tbody>\n",
       "</table>\n"
      ],
      "text/plain": [
       "<pandas.io.formats.style.Styler at 0x7fa0dda1bf70>"
      ]
     },
     "execution_count": 13,
     "metadata": {},
     "output_type": "execute_result"
    }
   ],
   "source": [
    "df_stats(years_2014_2018, years_2019_2022, years_2014_2022)"
   ]
  },
  {
   "cell_type": "markdown",
   "id": "6bce9a04",
   "metadata": {},
   "source": [
    "#### statistical tests"
   ]
  },
  {
   "cell_type": "markdown",
   "id": "0bd360d2",
   "metadata": {},
   "source": [
    "2014-2018"
   ]
  },
  {
   "cell_type": "code",
   "execution_count": 14,
   "id": "601b94a3",
   "metadata": {},
   "outputs": [
    {
     "data": {
      "text/plain": [
       "KstestResult(statistic=0.055775290564485214, pvalue=0.1719538524877319)"
      ]
     },
     "execution_count": 14,
     "metadata": {},
     "output_type": "execute_result"
    }
   ],
   "source": [
    "ks_2samp(years_2014_2018.iloc[:,0].dropna(), years_2014_2018.iloc[:,1].dropna())"
   ]
  },
  {
   "cell_type": "markdown",
   "id": "36bf0ac8",
   "metadata": {},
   "source": [
    "2019-2022"
   ]
  },
  {
   "cell_type": "code",
   "execution_count": 15,
   "id": "7cc3c92a",
   "metadata": {},
   "outputs": [
    {
     "data": {
      "text/plain": [
       "KstestResult(statistic=0.08891418247515809, pvalue=0.28866312499634056)"
      ]
     },
     "execution_count": 15,
     "metadata": {},
     "output_type": "execute_result"
    }
   ],
   "source": [
    "ks_2samp(years_2019_2022.iloc[:,0].dropna(), years_2019_2022.iloc[:,1].dropna())"
   ]
  },
  {
   "cell_type": "markdown",
   "id": "b17c3f81",
   "metadata": {},
   "source": [
    "2014-2022"
   ]
  },
  {
   "cell_type": "code",
   "execution_count": 49,
   "id": "d5de06ab",
   "metadata": {},
   "outputs": [
    {
     "data": {
      "text/plain": [
       "KstestResult(statistic=0.04350258392600846, pvalue=0.3292262743076923)"
      ]
     },
     "execution_count": 49,
     "metadata": {},
     "output_type": "execute_result"
    }
   ],
   "source": [
    "ks_2samp(years_2014_2022.iloc[:,0].dropna(), years_2014_2022.iloc[:,1].dropna())"
   ]
  },
  {
   "cell_type": "markdown",
   "id": "66147472",
   "metadata": {},
   "source": [
    "### export data frames"
   ]
  },
  {
   "cell_type": "code",
   "execution_count": 152,
   "id": "ebef39c4",
   "metadata": {},
   "outputs": [],
   "source": [
    "# intensity of tree dieback\n",
    "intensity_trans = df_intensity.transpose()\n",
    "intensity_trans.columns = intensity_trans.iloc[0]\n",
    "intensity_trans = intensity_trans.rename_axis(None, axis=1).iloc[1:]"
   ]
  },
  {
   "cell_type": "code",
   "execution_count": 153,
   "id": "8c45d6a3",
   "metadata": {},
   "outputs": [
    {
     "data": {
      "text/html": [
       "<div>\n",
       "<style scoped>\n",
       "    .dataframe tbody tr th:only-of-type {\n",
       "        vertical-align: middle;\n",
       "    }\n",
       "\n",
       "    .dataframe tbody tr th {\n",
       "        vertical-align: top;\n",
       "    }\n",
       "\n",
       "    .dataframe thead th {\n",
       "        text-align: right;\n",
       "    }\n",
       "</style>\n",
       "<table border=\"1\" class=\"dataframe\">\n",
       "  <thead>\n",
       "    <tr style=\"text-align: right;\">\n",
       "      <th></th>\n",
       "      <th>2014</th>\n",
       "      <th>2015</th>\n",
       "      <th>2016</th>\n",
       "      <th>2017</th>\n",
       "      <th>2018</th>\n",
       "      <th>2019</th>\n",
       "      <th>2020</th>\n",
       "      <th>2021</th>\n",
       "      <th>2022</th>\n",
       "    </tr>\n",
       "  </thead>\n",
       "  <tbody>\n",
       "    <tr>\n",
       "      <th>gęstość</th>\n",
       "      <td>6.180556</td>\n",
       "      <td>8.125</td>\n",
       "      <td>7.569444</td>\n",
       "      <td>5.694444</td>\n",
       "      <td>4.791667</td>\n",
       "      <td>1.736111</td>\n",
       "      <td>1.875</td>\n",
       "      <td>2.430556</td>\n",
       "      <td>2.638889</td>\n",
       "    </tr>\n",
       "  </tbody>\n",
       "</table>\n",
       "</div>"
      ],
      "text/plain": [
       "             2014   2015      2016      2017      2018      2019   2020  \\\n",
       "gęstość  6.180556  8.125  7.569444  5.694444  4.791667  1.736111  1.875   \n",
       "\n",
       "             2021      2022  \n",
       "gęstość  2.430556  2.638889  "
      ]
     },
     "execution_count": 153,
     "metadata": {},
     "output_type": "execute_result"
    }
   ],
   "source": [
    "intensity_trans"
   ]
  },
  {
   "cell_type": "code",
   "execution_count": 156,
   "id": "5333fa78",
   "metadata": {},
   "outputs": [],
   "source": [
    "def create_table_to_export(year):\n",
    "    df = pd.DataFrame(data = {\n",
    "        'pierśnica średnia': [create_df(year, year).iloc[:,0].dropna().astype(int).agg(['mean', 'median', 'std'])[0]],\n",
    "        'pierśnica mediana': [create_df(year, year).iloc[:,0].dropna().astype(int).agg(['mean', 'median', 'std'])[1]],\n",
    "        'pierśnica sd': [create_df(year, year).iloc[:,0].dropna().astype(int).agg(['mean', 'median', 'std'])[2]]\n",
    "    })    \n",
    "    \n",
    "    return df.transpose().rename(columns = {0: str(year)})"
   ]
  },
  {
   "cell_type": "code",
   "execution_count": 160,
   "id": "90dcd2b4",
   "metadata": {},
   "outputs": [
    {
     "data": {
      "text/html": [
       "<div>\n",
       "<style scoped>\n",
       "    .dataframe tbody tr th:only-of-type {\n",
       "        vertical-align: middle;\n",
       "    }\n",
       "\n",
       "    .dataframe tbody tr th {\n",
       "        vertical-align: top;\n",
       "    }\n",
       "\n",
       "    .dataframe thead th {\n",
       "        text-align: right;\n",
       "    }\n",
       "</style>\n",
       "<table border=\"1\" class=\"dataframe\">\n",
       "  <thead>\n",
       "    <tr style=\"text-align: right;\">\n",
       "      <th></th>\n",
       "      <th>2014</th>\n",
       "      <th>2015</th>\n",
       "      <th>2016</th>\n",
       "      <th>2017</th>\n",
       "      <th>2018</th>\n",
       "      <th>2019</th>\n",
       "      <th>2020</th>\n",
       "      <th>2021</th>\n",
       "      <th>2022</th>\n",
       "    </tr>\n",
       "  </thead>\n",
       "  <tbody>\n",
       "    <tr>\n",
       "      <th>gęstość</th>\n",
       "      <td>6.180556</td>\n",
       "      <td>8.125</td>\n",
       "      <td>7.569444</td>\n",
       "      <td>5.694444</td>\n",
       "      <td>4.791667</td>\n",
       "      <td>1.736111</td>\n",
       "      <td>1.875</td>\n",
       "      <td>2.430556</td>\n",
       "      <td>2.638889</td>\n",
       "    </tr>\n",
       "    <tr>\n",
       "      <th>pierśnica średnia</th>\n",
       "      <td>47.617978</td>\n",
       "      <td>47.529915</td>\n",
       "      <td>45.376147</td>\n",
       "      <td>45.195122</td>\n",
       "      <td>45.26087</td>\n",
       "      <td>41.96</td>\n",
       "      <td>45.962963</td>\n",
       "      <td>51.542857</td>\n",
       "      <td>49.157895</td>\n",
       "    </tr>\n",
       "    <tr>\n",
       "      <th>pierśnica mediana</th>\n",
       "      <td>48.0</td>\n",
       "      <td>49.0</td>\n",
       "      <td>44.0</td>\n",
       "      <td>44.0</td>\n",
       "      <td>44.0</td>\n",
       "      <td>38.0</td>\n",
       "      <td>46.0</td>\n",
       "      <td>53.0</td>\n",
       "      <td>47.0</td>\n",
       "    </tr>\n",
       "    <tr>\n",
       "      <th>pierśnica sd</th>\n",
       "      <td>12.904814</td>\n",
       "      <td>11.039563</td>\n",
       "      <td>13.818123</td>\n",
       "      <td>13.935866</td>\n",
       "      <td>13.341281</td>\n",
       "      <td>18.840294</td>\n",
       "      <td>14.978142</td>\n",
       "      <td>13.1939</td>\n",
       "      <td>15.583301</td>\n",
       "    </tr>\n",
       "  </tbody>\n",
       "</table>\n",
       "</div>"
      ],
      "text/plain": [
       "                        2014       2015       2016       2017       2018  \\\n",
       "gęstość             6.180556      8.125   7.569444   5.694444   4.791667   \n",
       "pierśnica średnia  47.617978  47.529915  45.376147  45.195122   45.26087   \n",
       "pierśnica mediana       48.0       49.0       44.0       44.0       44.0   \n",
       "pierśnica sd       12.904814  11.039563  13.818123  13.935866  13.341281   \n",
       "\n",
       "                        2019       2020       2021       2022  \n",
       "gęstość             1.736111      1.875   2.430556   2.638889  \n",
       "pierśnica średnia      41.96  45.962963  51.542857  49.157895  \n",
       "pierśnica mediana       38.0       46.0       53.0       47.0  \n",
       "pierśnica sd       18.840294  14.978142    13.1939  15.583301  "
      ]
     },
     "execution_count": 160,
     "metadata": {},
     "output_type": "execute_result"
    }
   ],
   "source": [
    "export_df = pd.concat([\n",
    "    create_table_to_export(2014),\n",
    "    create_table_to_export(2015),\n",
    "    create_table_to_export(2016),\n",
    "    create_table_to_export(2017),\n",
    "    create_table_to_export(2018),\n",
    "    create_table_to_export(2019),\n",
    "    create_table_to_export(2020),\n",
    "    create_table_to_export(2021),\n",
    "    create_table_to_export(2022)], axis = 1)\n",
    "\n",
    "export_df = pd.concat([\n",
    "    intensity_trans,\n",
    "    export_df\n",
    "], axis = 0)\n",
    "\n",
    "export_df"
   ]
  },
  {
   "cell_type": "code",
   "execution_count": 164,
   "id": "b9d0a6b2",
   "metadata": {},
   "outputs": [],
   "source": [
    "# export data\n",
    "export_df.to_csv('data/correlation_data/DBH.csv')"
   ]
  }
 ],
 "metadata": {
  "kernelspec": {
   "display_name": "Python 3 (ipykernel)",
   "language": "python",
   "name": "python3"
  },
  "language_info": {
   "codemirror_mode": {
    "name": "ipython",
    "version": 3
   },
   "file_extension": ".py",
   "mimetype": "text/x-python",
   "name": "python",
   "nbconvert_exporter": "python",
   "pygments_lexer": "ipython3",
   "version": "3.10.9"
  }
 },
 "nbformat": 4,
 "nbformat_minor": 5
}
